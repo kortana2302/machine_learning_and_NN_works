{
 "cells": [
  {
   "cell_type": "code",
   "execution_count": 1,
   "metadata": {
    "colab": {
     "base_uri": "https://localhost:8080/"
    },
    "id": "XtFQP3RNll3c",
    "outputId": "2335f3c3-4506-489f-dee0-ae3136b30053"
   },
   "outputs": [
    {
     "name": "stderr",
     "output_type": "stream",
     "text": [
      "[nltk_data] Downloading package punkt to\n",
      "[nltk_data]     C:\\Users\\79165\\AppData\\Roaming\\nltk_data...\n",
      "[nltk_data]   Package punkt is already up-to-date!\n"
     ]
    },
    {
     "data": {
      "text/plain": [
       "True"
      ]
     },
     "execution_count": 1,
     "metadata": {},
     "output_type": "execute_result"
    }
   ],
   "source": [
    "import re\n",
    "import nltk\n",
    "\n",
    "import torch\n",
    "from torch.utils.data import Dataset, DataLoader\n",
    "import torch.nn as nn\n",
    "import torch.optim as optim\n",
    "\n",
    "import pandas as pd\n",
    "from sklearn.model_selection import train_test_split\n",
    "from sklearn.metrics import accuracy_score\n",
    "from nltk.tokenize import word_tokenize\n",
    "from sklearn.preprocessing import LabelEncoder\n",
    "import torch.nn.functional as F\n",
    "import numpy as np\n",
    "nltk.download('punkt')"
   ]
  },
  {
   "cell_type": "markdown",
   "metadata": {
    "id": "tx75RigN8xIJ"
   },
   "source": [
    "## 1. Представление и предобработка текстовых данных в виде последовательностей"
   ]
  },
  {
   "cell_type": "markdown",
   "metadata": {
    "id": "LScKIAey9dAM"
   },
   "source": [
    "1.1 Представьте первое предложение из строки `text` как последовательность из индексов слов, входящих в это предложение"
   ]
  },
  {
   "cell_type": "code",
   "execution_count": 2,
   "metadata": {
    "id": "phEw721T9SYW"
   },
   "outputs": [],
   "source": [
    "text = 'Select your preferences and run the install command. Stable represents the most currently tested and supported version of PyTorch. Note that LibTorch is only available for C++'"
   ]
  },
  {
   "cell_type": "code",
   "execution_count": 3,
   "metadata": {},
   "outputs": [],
   "source": [
    "from nltk.tokenize import word_tokenize, sent_tokenize"
   ]
  },
  {
   "cell_type": "code",
   "execution_count": 4,
   "metadata": {},
   "outputs": [
    {
     "data": {
      "text/plain": [
       "{'.': 0,\n",
       " 'and': 1,\n",
       " 'available': 2,\n",
       " 'c++': 3,\n",
       " 'command': 4,\n",
       " 'currently': 5,\n",
       " 'for': 6,\n",
       " 'install': 7,\n",
       " 'is': 8,\n",
       " 'libtorch': 9,\n",
       " 'most': 10,\n",
       " 'note': 11,\n",
       " 'of': 12,\n",
       " 'only': 13,\n",
       " 'preferences': 14,\n",
       " 'pytorch': 15,\n",
       " 'represents': 16,\n",
       " 'run': 17,\n",
       " 'select': 18,\n",
       " 'stable': 19,\n",
       " 'supported': 20,\n",
       " 'tested': 21,\n",
       " 'that': 22,\n",
       " 'the': 23,\n",
       " 'version': 24,\n",
       " 'your': 25}"
      ]
     },
     "execution_count": 4,
     "metadata": {},
     "output_type": "execute_result"
    }
   ],
   "source": [
    "words = np.unique(word_tokenize(text.lower()))\n",
    "words_dict = {v:k for v,k in zip(words, list(range(len(words))))}\n",
    "words_dict"
   ]
  },
  {
   "cell_type": "code",
   "execution_count": 5,
   "metadata": {},
   "outputs": [
    {
     "data": {
      "text/plain": [
       "[18, 25, 14, 1, 17, 23, 7, 4, 0]"
      ]
     },
     "execution_count": 5,
     "metadata": {},
     "output_type": "execute_result"
    }
   ],
   "source": [
    "first_sent =[words_dict[word] for word in word_tokenize(sent_tokenize(text.lower())[0])]\n",
    "first_sent"
   ]
  },
  {
   "cell_type": "markdown",
   "metadata": {
    "id": "pSFQCPtD9x5J"
   },
   "source": [
    "1.2 Представьте первое предложение из строки `text` как последовательность векторов, соответствующих индексам слов. Для представления индекса в виде вектора используйте унитарное кодирование. В результате должен получиться двумерный тензор размера `количество слов в предложении` x `количество уникальных слов`"
   ]
  },
  {
   "cell_type": "code",
   "execution_count": 6,
   "metadata": {
    "id": "RZS4XLV0-buf"
   },
   "outputs": [],
   "source": [
    "text = 'Select your preferences and run the install command. Stable represents the most currently tested and supported version of PyTorch. Note that LibTorch is only available for C++'"
   ]
  },
  {
   "cell_type": "code",
   "execution_count": 7,
   "metadata": {},
   "outputs": [
    {
     "name": "stdout",
     "output_type": "stream",
     "text": [
      "[0, 0, 0, 0, 0, 0, 0, 0, 0, 0, 0, 0, 0, 0, 0, 0, 0, 0, 1, 0, 0, 0, 0, 0, 0, 0]\n",
      "[0, 0, 0, 0, 0, 0, 0, 0, 0, 0, 0, 0, 0, 0, 0, 0, 0, 0, 0, 0, 0, 0, 0, 0, 0, 1]\n",
      "[0, 0, 0, 0, 0, 0, 0, 0, 0, 0, 0, 0, 0, 0, 1, 0, 0, 0, 0, 0, 0, 0, 0, 0, 0, 0]\n",
      "[0, 1, 0, 0, 0, 0, 0, 0, 0, 0, 0, 0, 0, 0, 0, 0, 0, 0, 0, 0, 0, 0, 0, 0, 0, 0]\n",
      "[0, 0, 0, 0, 0, 0, 0, 0, 0, 0, 0, 0, 0, 0, 0, 0, 0, 1, 0, 0, 0, 0, 0, 0, 0, 0]\n",
      "[0, 0, 0, 0, 0, 0, 0, 0, 0, 0, 0, 0, 0, 0, 0, 0, 0, 0, 0, 0, 0, 0, 0, 1, 0, 0]\n",
      "[0, 0, 0, 0, 0, 0, 0, 1, 0, 0, 0, 0, 0, 0, 0, 0, 0, 0, 0, 0, 0, 0, 0, 0, 0, 0]\n",
      "[0, 0, 0, 0, 1, 0, 0, 0, 0, 0, 0, 0, 0, 0, 0, 0, 0, 0, 0, 0, 0, 0, 0, 0, 0, 0]\n",
      "[1, 0, 0, 0, 0, 0, 0, 0, 0, 0, 0, 0, 0, 0, 0, 0, 0, 0, 0, 0, 0, 0, 0, 0, 0, 0]\n"
     ]
    }
   ],
   "source": [
    "first_sent = []\n",
    "for word in word_tokenize(sent_tokenize(text.lower())[0]):\n",
    "    s = [0]*len(words_dict)\n",
    "    s[words_dict[word]] = 1\n",
    "    first_sent.append(s)\n",
    "    \n",
    "print(*first_sent, sep='\\n')"
   ]
  },
  {
   "cell_type": "markdown",
   "metadata": {
    "id": "9ZvQKHYA-mJN"
   },
   "source": [
    "1.3 Решите задачу 1.2, используя модуль `nn.Embedding`"
   ]
  },
  {
   "cell_type": "code",
   "execution_count": 8,
   "metadata": {},
   "outputs": [],
   "source": [
    "first_sent = torch.tensor([words_dict[word] for word in word_tokenize(sent_tokenize(text.lower())[0])])\n",
    "emb_layer = nn.Embedding(len(words_dict), len(words_dict))\n",
    "word_vectors = emb_layer(torch.LongTensor(first_sent))"
   ]
  },
  {
   "cell_type": "code",
   "execution_count": 9,
   "metadata": {},
   "outputs": [
    {
     "data": {
      "text/plain": [
       "tensor([18, 25, 14,  1, 17, 23,  7,  4,  0])"
      ]
     },
     "execution_count": 9,
     "metadata": {},
     "output_type": "execute_result"
    }
   ],
   "source": [
    "first_sent"
   ]
  },
  {
   "cell_type": "code",
   "execution_count": 10,
   "metadata": {},
   "outputs": [
    {
     "data": {
      "text/plain": [
       "tensor([[ 1.3914e+00, -5.6043e-01, -1.1521e+00,  1.8756e+00, -1.3022e+00,\n",
       "          4.0864e-01,  3.5669e-01, -2.7680e-01, -4.5750e-01, -1.3056e+00,\n",
       "          1.0375e-01,  9.3072e-01, -3.5634e-01,  1.0211e-01,  1.6182e+00,\n",
       "          5.1910e-01, -1.6228e+00,  3.2385e-01,  4.3317e-01,  3.8275e-01,\n",
       "          1.2510e+00,  3.4461e-01,  2.7369e-01,  1.0658e+00,  2.5561e-01,\n",
       "         -3.7500e-01],\n",
       "        [ 3.3999e-01, -2.9828e-01,  9.2082e-01,  1.2247e+00,  3.4142e-01,\n",
       "         -1.6575e+00,  1.0769e+00,  8.1582e-01,  9.8012e-02, -8.4449e-01,\n",
       "          1.2632e-01,  4.1608e-01, -1.2835e-01,  1.1843e+00, -9.2180e-02,\n",
       "          1.8324e+00, -1.4125e-01,  1.1326e-01,  4.1805e-01,  1.3635e+00,\n",
       "         -1.6646e+00, -6.7045e-01,  5.1979e-02,  7.7013e-01, -1.1363e-01,\n",
       "         -2.8606e+00],\n",
       "        [-1.5988e+00, -1.5435e-01,  6.3162e-01, -7.2535e-01,  1.5560e+00,\n",
       "          7.7937e-01, -1.8335e+00,  5.8090e-01, -1.8319e-02,  1.3484e+00,\n",
       "          1.4881e+00, -1.6838e+00,  6.8659e-01, -6.8856e-01,  1.2105e+00,\n",
       "          4.8643e-01, -1.1269e+00, -2.3530e+00,  1.1657e+00,  1.3553e-01,\n",
       "          6.7180e-01,  1.2634e+00,  9.5490e-01, -1.7249e+00, -1.9020e+00,\n",
       "         -1.6684e+00],\n",
       "        [ 1.0650e+00, -3.4968e+00,  1.5384e+00, -1.4349e+00, -2.5225e-01,\n",
       "          6.7133e-01, -1.7109e+00,  1.4122e+00, -8.6701e-03, -1.6779e+00,\n",
       "          8.6654e-01, -3.7685e-01,  2.0870e-01, -5.7755e-01, -4.3899e-01,\n",
       "          7.1900e-01,  9.1275e-01, -1.7313e+00, -1.3242e+00,  2.7947e-01,\n",
       "          1.2938e+00, -1.3325e-01,  2.2282e-01, -3.9624e-01, -1.2983e+00,\n",
       "         -1.2956e+00],\n",
       "        [ 8.1549e-01,  4.4620e-01, -8.4186e-02, -2.5362e-02, -1.9944e+00,\n",
       "         -1.0909e+00, -9.4110e-01,  9.1988e-01,  6.0461e-01,  1.1747e+00,\n",
       "          1.1176e+00, -3.2695e-01,  1.2257e+00, -8.9606e-02, -1.1741e+00,\n",
       "          3.3778e+00, -1.1185e+00,  6.6338e-01, -4.0375e-01, -4.0669e-02,\n",
       "          1.3446e+00,  5.7329e-01,  1.4491e+00,  2.6624e+00,  5.4560e-01,\n",
       "         -7.1422e-01],\n",
       "        [-1.3161e-01, -2.8797e-01,  5.4328e-01,  6.3788e-01, -5.9572e-01,\n",
       "          2.9262e-01,  2.1553e+00, -1.7631e+00, -1.0919e+00, -6.8820e-01,\n",
       "          2.1022e+00,  4.6368e-01,  3.1656e-01,  1.1496e+00,  1.5179e-01,\n",
       "         -1.0953e-02, -8.7164e-01,  1.9520e+00, -3.9626e-01, -1.2313e+00,\n",
       "          1.0234e+00, -7.4912e-04,  3.9904e-01, -2.9952e-01, -5.6991e-01,\n",
       "          1.1753e+00],\n",
       "        [-2.0494e+00,  8.6055e-01,  1.3087e+00,  9.3450e-01, -1.8428e-01,\n",
       "          4.0224e-01,  1.7289e+00, -1.0481e+00,  4.3040e-01, -1.8899e+00,\n",
       "         -1.4853e-01,  6.9121e-01,  4.4334e-01,  7.8869e-02,  4.4264e-01,\n",
       "          1.0758e+00, -1.8934e+00,  7.9960e-01,  3.0925e+00, -7.0182e-02,\n",
       "         -7.2203e-01, -8.5393e-01,  2.2378e-01, -2.3934e-01, -2.0287e-01,\n",
       "         -1.0181e+00],\n",
       "        [-9.6070e-01, -9.1787e-01, -7.4816e-01, -1.4687e+00,  1.2526e+00,\n",
       "          7.8421e-01,  1.6637e+00,  9.9488e-02,  5.0889e-01, -7.7933e-01,\n",
       "         -8.9960e-02, -2.0756e+00, -1.9007e+00,  1.2842e+00,  1.0324e+00,\n",
       "          5.0963e-01,  1.0332e-02,  1.2618e+00,  1.7164e+00,  1.4823e-02,\n",
       "          9.1931e-02,  1.0092e-01,  1.0297e+00,  1.8455e-01, -3.7346e-01,\n",
       "          1.2280e-01],\n",
       "        [ 1.8563e+00, -8.3438e-01, -1.4162e-01,  6.7250e-01,  1.0277e-01,\n",
       "         -5.4882e-01,  3.4004e-01, -5.2819e-01,  8.5713e-01, -1.2746e+00,\n",
       "         -4.9902e-01, -1.3421e+00,  1.5269e+00,  1.2270e+00,  3.3401e-01,\n",
       "          9.8340e-01,  1.1748e+00,  3.7167e-01, -9.3674e-01,  1.5142e+00,\n",
       "         -5.2604e-04,  1.7006e-01, -8.8890e-01,  5.3475e-01,  1.0635e+00,\n",
       "         -6.9929e-01]], grad_fn=<EmbeddingBackward0>)"
      ]
     },
     "execution_count": 10,
     "metadata": {},
     "output_type": "execute_result"
    }
   ],
   "source": [
    "word_vectors"
   ]
  },
  {
   "cell_type": "markdown",
   "metadata": {
    "id": "TXjM7qEUNFY_"
   },
   "source": [
    "## 2. Классификация фамилий по национальности (ConvNet)\n",
    "\n",
    "Датасет: https://disk.yandex.ru/d/owHew8hzPc7X9Q?w=1\n",
    "\n",
    "2.1 Считать файл `surnames/surnames.csv`. \n",
    "\n",
    "2.2 Закодировать национальности числами, начиная с 0.\n",
    "\n",
    "2.3 Разбить датасет на обучающую и тестовую выборку\n",
    "\n",
    "2.4 Реализовать класс `Vocab` (токен = __символ__)\n",
    "  * добавьте в словарь специальный токен `<PAD>` с индексом 0\n",
    "  * при создании словаря сохраните длину самой длинной последовательности из набора данных в виде атрибута `max_seq_len`\n",
    "\n",
    "2.5 Реализовать класс `SurnamesDataset`\n",
    "  * метод `__getitem__` возвращает пару: <последовательность индексов токенов (см. 1.1 ), номер класса> \n",
    "  * длина каждой такой последовательности должна быть одинаковой и равной `vocab.max_seq_len`. Чтобы добиться этого, дополните последовательность справа индексом токена `<PAD>` до нужной длины\n",
    "\n",
    "2.6. Обучить классификатор.\n",
    "  \n",
    "  * Для преобразования последовательности индексов в последовательность векторов используйте `nn.Embedding`. Рассмотрите два варианта: \n",
    "    - когда токен представляется в виде унитарного вектора и модуль `nn.Embedding` не обучается\n",
    "    - когда токен представляется в виде вектора небольшой размерности (меньше, чем размер словаря) и модуль `nn.Embedding` обучается\n",
    "\n",
    "  * Используйте одномерные свертки и пулинг (`nn.Conv1d`, `nn.MaxPool1d`)\n",
    "    - обратите внимание, что `nn.Conv1d` ожидает на вход трехмерный тензор размерности `(batch, embedding_dim, seq_len)`\n",
    "\n",
    "2.7 Измерить точность на тестовой выборке. Проверить работоспособность модели: прогнать несколько фамилий студентов группы через модели и проверить результат. Для каждой фамилии выводить 3 наиболее вероятных предсказания."
   ]
  },
  {
   "cell_type": "code",
   "execution_count": 457,
   "metadata": {},
   "outputs": [
    {
     "data": {
      "text/html": [
       "<div>\n",
       "<style scoped>\n",
       "    .dataframe tbody tr th:only-of-type {\n",
       "        vertical-align: middle;\n",
       "    }\n",
       "\n",
       "    .dataframe tbody tr th {\n",
       "        vertical-align: top;\n",
       "    }\n",
       "\n",
       "    .dataframe thead th {\n",
       "        text-align: right;\n",
       "    }\n",
       "</style>\n",
       "<table border=\"1\" class=\"dataframe\">\n",
       "  <thead>\n",
       "    <tr style=\"text-align: right;\">\n",
       "      <th></th>\n",
       "      <th>surname</th>\n",
       "      <th>nationality</th>\n",
       "    </tr>\n",
       "  </thead>\n",
       "  <tbody>\n",
       "    <tr>\n",
       "      <th>0</th>\n",
       "      <td>Woodford</td>\n",
       "      <td>English</td>\n",
       "    </tr>\n",
       "    <tr>\n",
       "      <th>1</th>\n",
       "      <td>Coté</td>\n",
       "      <td>French</td>\n",
       "    </tr>\n",
       "    <tr>\n",
       "      <th>2</th>\n",
       "      <td>Kore</td>\n",
       "      <td>English</td>\n",
       "    </tr>\n",
       "    <tr>\n",
       "      <th>3</th>\n",
       "      <td>Koury</td>\n",
       "      <td>Arabic</td>\n",
       "    </tr>\n",
       "    <tr>\n",
       "      <th>4</th>\n",
       "      <td>Lebzak</td>\n",
       "      <td>Russian</td>\n",
       "    </tr>\n",
       "  </tbody>\n",
       "</table>\n",
       "</div>"
      ],
      "text/plain": [
       "    surname nationality\n",
       "0  Woodford     English\n",
       "1      Coté      French\n",
       "2      Kore     English\n",
       "3     Koury      Arabic\n",
       "4    Lebzak     Russian"
      ]
     },
     "execution_count": 457,
     "metadata": {},
     "output_type": "execute_result"
    }
   ],
   "source": [
    "df = pd.read_csv('surnames.csv')\n",
    "df.head()"
   ]
  },
  {
   "cell_type": "code",
   "execution_count": 458,
   "metadata": {},
   "outputs": [
    {
     "data": {
      "text/plain": [
       "LabelEncoder()"
      ]
     },
     "execution_count": 458,
     "metadata": {},
     "output_type": "execute_result"
    }
   ],
   "source": [
    "le = LabelEncoder()\n",
    "le.fit(df.nationality)"
   ]
  },
  {
   "cell_type": "code",
   "execution_count": 459,
   "metadata": {},
   "outputs": [
    {
     "data": {
      "text/html": [
       "<div>\n",
       "<style scoped>\n",
       "    .dataframe tbody tr th:only-of-type {\n",
       "        vertical-align: middle;\n",
       "    }\n",
       "\n",
       "    .dataframe tbody tr th {\n",
       "        vertical-align: top;\n",
       "    }\n",
       "\n",
       "    .dataframe thead th {\n",
       "        text-align: right;\n",
       "    }\n",
       "</style>\n",
       "<table border=\"1\" class=\"dataframe\">\n",
       "  <thead>\n",
       "    <tr style=\"text-align: right;\">\n",
       "      <th></th>\n",
       "      <th>surname</th>\n",
       "      <th>nationality</th>\n",
       "      <th>coder</th>\n",
       "    </tr>\n",
       "  </thead>\n",
       "  <tbody>\n",
       "    <tr>\n",
       "      <th>0</th>\n",
       "      <td>Woodford</td>\n",
       "      <td>English</td>\n",
       "      <td>4</td>\n",
       "    </tr>\n",
       "    <tr>\n",
       "      <th>1</th>\n",
       "      <td>Coté</td>\n",
       "      <td>French</td>\n",
       "      <td>5</td>\n",
       "    </tr>\n",
       "    <tr>\n",
       "      <th>2</th>\n",
       "      <td>Kore</td>\n",
       "      <td>English</td>\n",
       "      <td>4</td>\n",
       "    </tr>\n",
       "    <tr>\n",
       "      <th>3</th>\n",
       "      <td>Koury</td>\n",
       "      <td>Arabic</td>\n",
       "      <td>0</td>\n",
       "    </tr>\n",
       "    <tr>\n",
       "      <th>4</th>\n",
       "      <td>Lebzak</td>\n",
       "      <td>Russian</td>\n",
       "      <td>14</td>\n",
       "    </tr>\n",
       "  </tbody>\n",
       "</table>\n",
       "</div>"
      ],
      "text/plain": [
       "    surname nationality  coder\n",
       "0  Woodford     English      4\n",
       "1      Coté      French      5\n",
       "2      Kore     English      4\n",
       "3     Koury      Arabic      0\n",
       "4    Lebzak     Russian     14"
      ]
     },
     "execution_count": 459,
     "metadata": {},
     "output_type": "execute_result"
    }
   ],
   "source": [
    "df['coder'] = le.fit_transform(df.nationality.values)\n",
    "df.head()"
   ]
  },
  {
   "cell_type": "code",
   "execution_count": 460,
   "metadata": {
    "id": "ZGfJX2NP1sw4"
   },
   "outputs": [],
   "source": [
    "class Vocab:\n",
    "  def __init__(self, data):\n",
    "    self.idx_to_token = dict()\n",
    "    self.token_to_idx = dict()\n",
    "    self.token_to_idx['<PAD>'] = 0\n",
    "    self.idx_to_token[0] = '<PAD>'\n",
    "    self.max_seq_len = 0\n",
    "    k = 1\n",
    "    for sur in data.values:\n",
    "        for w in sur.lower():\n",
    "            if w not in self.token_to_idx:\n",
    "                self.token_to_idx[w] = k\n",
    "                self.idx_to_token[k] = w\n",
    "                k+=1\n",
    "        if len(sur)>self.max_seq_len:\n",
    "                self.max_seq_len = len(sur)\n",
    "    self.vocab_len = len(self.idx_to_token)"
   ]
  },
  {
   "cell_type": "code",
   "execution_count": 461,
   "metadata": {},
   "outputs": [],
   "source": [
    "vocab = Vocab(df.surname)"
   ]
  },
  {
   "cell_type": "code",
   "execution_count": 462,
   "metadata": {
    "id": "GHjCRqQg1sw5"
   },
   "outputs": [],
   "source": [
    "class SurnamesDataset(Dataset):\n",
    "  def __init__(self, X, y, vocab):\n",
    "    self.X = X\n",
    "    self.y = y\n",
    "    self.vocab = vocab\n",
    "\n",
    "  def vectorize(self, surname):\n",
    "    '''Генерирует представление фамилии surname в при помощи бинарного кодирования (см. 1.2)'''\n",
    "    surname_rep = []\n",
    "    for sur in surname:\n",
    "        rep = []\n",
    "        for w in sur.lower():\n",
    "            rep.append(self.vocab.token_to_idx[w])\n",
    "        surname_rep.append(torch.tensor(rep+[0]*(vocab.max_seq_len-len(rep))))\n",
    "    self.X_rep = torch.stack(surname_rep)\n",
    "    \n",
    "  def __len__(self):\n",
    "    return len(self.X_rep)\n",
    "\n",
    "  def __getitem__(self, idx):\n",
    "    sample = self.X_rep[idx], self.y[idx]\n",
    "    return sample"
   ]
  },
  {
   "cell_type": "code",
   "execution_count": 556,
   "metadata": {},
   "outputs": [],
   "source": [
    "dataset = SurnamesDataset(df.surname, df.coder, vocab)\n",
    "dataset.vectorize(df.surname.values)"
   ]
  },
  {
   "cell_type": "code",
   "execution_count": 557,
   "metadata": {},
   "outputs": [
    {
     "data": {
      "text/plain": [
       "(tensor([1, 2, 2, 3, 4, 2, 5, 3, 0, 0, 0, 0, 0, 0, 0, 0, 0]), 4)"
      ]
     },
     "execution_count": 557,
     "metadata": {},
     "output_type": "execute_result"
    }
   ],
   "source": [
    "z = next(iter(dataset))\n",
    "z"
   ]
  },
  {
   "cell_type": "code",
   "execution_count": 558,
   "metadata": {},
   "outputs": [],
   "source": [
    "data_train, data_test = torch.utils.data.random_split(dataset, [int(len(dataset)*0.8), len(dataset) - int(len(dataset)*0.8)])"
   ]
  },
  {
   "cell_type": "code",
   "execution_count": 559,
   "metadata": {},
   "outputs": [],
   "source": [
    "train_loader = DataLoader(data_train, batch_size = 50, shuffle = True)\n",
    "test_loader = DataLoader(data_test, batch_size = 50, shuffle = True)"
   ]
  },
  {
   "cell_type": "code",
   "execution_count": 560,
   "metadata": {},
   "outputs": [
    {
     "data": {
      "text/plain": [
       "17"
      ]
     },
     "execution_count": 560,
     "metadata": {},
     "output_type": "execute_result"
    }
   ],
   "source": [
    "vocab.max_seq_len"
   ]
  },
  {
   "cell_type": "code",
   "execution_count": 561,
   "metadata": {},
   "outputs": [
    {
     "name": "stdout",
     "output_type": "stream",
     "text": [
      "ex1: torch.Size([1, 56, 17])\n",
      "ex2: torch.Size([1, 64, 7])\n",
      "ex3: torch.Size([1, 128, 5])\n",
      "ex4: torch.Size([1, 128, 2])\n"
     ]
    }
   ],
   "source": [
    "emb = nn.Embedding(vocab.vocab_len, vocab.vocab_len)\n",
    "ex1 = emb(torch.LongTensor(z[0])).view(1,vocab.vocab_len,17)\n",
    "print('ex1:', ex1.shape)\n",
    "\n",
    "conv1 = nn.Conv1d(vocab.vocab_len, 64, kernel_size=3)\n",
    "ex2 = F.max_pool1d(conv1(ex1), 2)\n",
    "print('ex2:', ex2.shape)\n",
    "\n",
    "conv2 = nn.Conv1d(64, 128, kernel_size=3)\n",
    "ex3 = conv2(ex2)\n",
    "print('ex3:', ex3.shape)\n",
    "ex4 = F.max_pool1d(ex3, 2)\n",
    "print('ex4:', ex4.shape)"
   ]
  },
  {
   "cell_type": "code",
   "execution_count": 562,
   "metadata": {},
   "outputs": [
    {
     "data": {
      "text/plain": [
       "17"
      ]
     },
     "execution_count": 562,
     "metadata": {},
     "output_type": "execute_result"
    }
   ],
   "source": [
    "max(df.coder)"
   ]
  },
  {
   "cell_type": "code",
   "execution_count": 563,
   "metadata": {},
   "outputs": [
    {
     "name": "stdout",
     "output_type": "stream",
     "text": [
      "epoch 0: train_loss = 2.11306106, test_loss = 1.90589772\n",
      "Точность на тестовой выборке: 0.45719489981785066\n",
      "epoch 5: train_loss = 1.25793629, test_loss = 1.33429688\n",
      "Точность на тестовой выборке: 0.610655737704918\n",
      "epoch 10: train_loss = 1.01207578, test_loss = 1.25003419\n",
      "Точность на тестовой выборке: 0.6580145719489982\n",
      "epoch 15: train_loss = 0.86290344, test_loss = 1.20120256\n",
      "Точность на тестовой выборке: 0.6753187613843351\n",
      "epoch 20: train_loss = 0.77602551, test_loss = 1.24992258\n",
      "Точность на тестовой выборке: 0.6680327868852459\n",
      "epoch 25: train_loss = 0.69926194, test_loss = 1.24294336\n",
      "Точность на тестовой выборке: 0.6734972677595629\n",
      "epoch 30: train_loss = 0.64899747, test_loss = 1.29250339\n",
      "Точность на тестовой выборке: 0.6816939890710383\n"
     ]
    }
   ],
   "source": [
    "losses = []\n",
    "\n",
    "class Model(nn.Module):\n",
    "  def __init__(self):\n",
    "    super().__init__()\n",
    "    self.conv1 = nn.Conv1d(vocab.vocab_len, 64, kernel_size=3)\n",
    "    self.conv2 = nn.Conv1d(64, 128, kernel_size=3)\n",
    "    self.conv2_drop = nn.Dropout1d() \n",
    "    self.fc1 = nn.Linear(128*2, 18)\n",
    "    self.emb = nn.Embedding(vocab.vocab_len, vocab.vocab_len)\n",
    "    self.emb.requires_grad = False\n",
    "    \n",
    "  def forward(self, X):\n",
    "    X = self.emb(torch.LongTensor(X)).view(X.shape[0],vocab.vocab_len,17)\n",
    "    X = F.relu(F.max_pool1d(self.conv1(X), 2)) # первый сверточный слой\n",
    "    X = F.relu(F.max_pool1d(self.conv2_drop(self.conv2(X)), 2)) # второй сверточный слой\n",
    "    X = X.view(-1, 1*128*2)\n",
    "    X = F.dropout(X, 0.4)\n",
    "    y_pred = self.fc1(X) #  полносвязный слой\n",
    "    return y_pred\n",
    "\n",
    "model = Model()\n",
    "\n",
    "criterion = nn.CrossEntropyLoss()\n",
    "\n",
    "optimizer = torch.optim.Adam(model.parameters(), lr=0.001)\n",
    "\n",
    "train_losses = []\n",
    "test_losses = []\n",
    "\n",
    "for i in range(31):\n",
    "    model.train()\n",
    "    losses_epoch_train = []\n",
    "    losses_epoch_test = []\n",
    "    y_pred_test = []\n",
    "    y_true_test = []\n",
    "    for x_example, y_example in train_loader:\n",
    "        y_pred = model(x_example)\n",
    "    \n",
    "        loss = criterion(y_pred, y_example.long())\n",
    "        losses_epoch_train.append(loss.item())\n",
    "        loss.backward()\n",
    "        \n",
    "        optimizer.step()\n",
    "        optimizer.zero_grad()\n",
    "        \n",
    "    for x_example, y_example in test_loader:\n",
    "        y_pred = model(x_example)\n",
    "    \n",
    "        loss = criterion(y_pred, y_example.long())\n",
    "        losses_epoch_test.append(loss.item())\n",
    "        \n",
    "        y_pred_test.extend(y_pred)\n",
    "        y_true_test.extend(y_example)\n",
    "    \n",
    "    train_losses.append(np.mean(losses_epoch_train))\n",
    "    test_losses.append(np.mean(losses_epoch_test))\n",
    "    y_pred_test = list(map(lambda x: torch.argmax(x).item(), y_pred_test))\n",
    "    y_true_test = list(map(lambda x: x.item(), y_true_test))\n",
    "    if i%5==0:\n",
    "        print(f'epoch {i}: train_loss = {np.mean(losses_epoch_train):.8f}, test_loss = {np.mean(losses_epoch_test):.8f}') \n",
    "        print('Точность на тестовой выборке:', accuracy_score(y_true_test, y_pred_test))"
   ]
  },
  {
   "cell_type": "code",
   "execution_count": 564,
   "metadata": {},
   "outputs": [],
   "source": [
    "y_pred = []\n",
    "y_true = []\n",
    "for x,y in test_loader:\n",
    "    y_pred.extend(model(x))\n",
    "    y_true.extend(y)\n",
    "y_pred = list(map(lambda x: torch.argmax(x).item(), y_pred))\n",
    "y_true = list(map(lambda x: x.item(), y_true))"
   ]
  },
  {
   "cell_type": "code",
   "execution_count": 565,
   "metadata": {},
   "outputs": [],
   "source": [
    "from sklearn.metrics import confusion_matrix\n",
    "\n",
    "cf_matrix = confusion_matrix(y_true, y_pred)"
   ]
  },
  {
   "cell_type": "code",
   "execution_count": 566,
   "metadata": {},
   "outputs": [
    {
     "data": {
      "image/png": "[encoded data removed]",
      "text/plain": [
       "<Figure size 640x480 with 2 Axes>"
      ]
     },
     "metadata": {},
     "output_type": "display_data"
    }
   ],
   "source": [
    "import seaborn as sns\n",
    "import matplotlib.pyplot as plt\n",
    "\n",
    "ax = sns.heatmap(cf_matrix, annot=True)\n",
    "plt.show()"
   ]
  },
  {
   "cell_type": "code",
   "execution_count": 567,
   "metadata": {},
   "outputs": [
    {
     "name": "stdout",
     "output_type": "stream",
     "text": [
      "Точность на тестовой выборке: 0.6707650273224044\n"
     ]
    }
   ],
   "source": [
    "from sklearn.metrics import accuracy_score\n",
    "print('Точность на тестовой выборке:', accuracy_score(y_true, y_pred))"
   ]
  },
  {
   "cell_type": "code",
   "execution_count": 568,
   "metadata": {},
   "outputs": [],
   "source": [
    "surname = pd.Series(['filimonova','dubrovskaya','akhmad'])\n",
    "dataset.vectorize(surname)"
   ]
  },
  {
   "cell_type": "code",
   "execution_count": 575,
   "metadata": {},
   "outputs": [],
   "source": [
    "y_pred = []\n",
    "for x,y in dataset:\n",
    "    y_pred.append(model(x.reshape(1,x.shape[0])))\n",
    "y_pred_p = [y.argsort() for y in y_pred]"
   ]
  },
  {
   "cell_type": "code",
   "execution_count": 576,
   "metadata": {},
   "outputs": [],
   "source": [
    "coder_rev = dict(zip(df.coder.values,df.nationality.values))"
   ]
  },
  {
   "cell_type": "code",
   "execution_count": 577,
   "metadata": {},
   "outputs": [
    {
     "name": "stdout",
     "output_type": "stream",
     "text": [
      "Фамилия: filimonova три национальности:\n",
      "Наиболее вероятно: Russian\n",
      "Вторая вероятность: Japanese\n",
      "Третья вероятность: Czech\n",
      "\n",
      "Фамилия: dubrovskaya три национальности:\n",
      "Наиболее вероятно: Russian\n",
      "Вторая вероятность: Greek\n",
      "Третья вероятность: Czech\n",
      "\n",
      "Фамилия: akhmad три национальности:\n",
      "Наиболее вероятно: Arabic\n",
      "Вторая вероятность: English\n",
      "Третья вероятность: Scottish\n",
      "\n"
     ]
    }
   ],
   "source": [
    "for i in range(3):\n",
    "    y = y_pred_p[i]\n",
    "    print('Фамилия:',surname[i],'три национальности:')\n",
    "    print('Наиболее вероятно:', coder_rev[y[0][-1].item()])\n",
    "    print('Вторая вероятность:', coder_rev[y[0][-2].item()])\n",
    "    print('Третья вероятность:', coder_rev[y[0][-3].item()])\n",
    "    print(\"\")"
   ]
  },
  {
   "cell_type": "code",
   "execution_count": 716,
   "metadata": {},
   "outputs": [],
   "source": [
    "dataset = SurnamesDataset(df.surname, df.coder, vocab)\n",
    "dataset.vectorize(df.surname.values)"
   ]
  },
  {
   "cell_type": "code",
   "execution_count": 717,
   "metadata": {},
   "outputs": [
    {
     "data": {
      "text/plain": [
       "(tensor([1, 2, 2, 3, 4, 2, 5, 3, 0, 0, 0, 0, 0, 0, 0, 0, 0]), 4)"
      ]
     },
     "execution_count": 717,
     "metadata": {},
     "output_type": "execute_result"
    }
   ],
   "source": [
    "z = next(iter(dataset))\n",
    "z"
   ]
  },
  {
   "cell_type": "code",
   "execution_count": 718,
   "metadata": {},
   "outputs": [],
   "source": [
    "data_train, data_test = torch.utils.data.random_split(dataset, [int(len(dataset)*0.8), len(dataset) - int(len(dataset)*0.8)])"
   ]
  },
  {
   "cell_type": "code",
   "execution_count": 719,
   "metadata": {},
   "outputs": [],
   "source": [
    "train_loader = DataLoader(data_train, batch_size = 50, shuffle = True)\n",
    "test_loader = DataLoader(data_test, batch_size = 50, shuffle = True)"
   ]
  },
  {
   "cell_type": "code",
   "execution_count": 720,
   "metadata": {},
   "outputs": [
    {
     "name": "stdout",
     "output_type": "stream",
     "text": [
      "ex1: torch.Size([1, 20, 17])\n",
      "ex2: torch.Size([1, 64, 7])\n",
      "ex3: torch.Size([1, 128, 5])\n",
      "ex4: torch.Size([1, 128, 2])\n"
     ]
    }
   ],
   "source": [
    "emb = nn.Embedding(vocab.vocab_len, 20)\n",
    "ex1 = emb(torch.LongTensor(z[0])).view(1,20,17)\n",
    "print('ex1:', ex1.shape)\n",
    "\n",
    "conv1 = nn.Conv1d(20, 64, kernel_size=3)\n",
    "ex2 = F.max_pool1d(conv1(ex1), 2)\n",
    "print('ex2:', ex2.shape)\n",
    "\n",
    "conv2 = nn.Conv1d(64, 128, kernel_size=3)\n",
    "ex3 = conv2(ex2)\n",
    "print('ex3:', ex3.shape)\n",
    "ex4 = F.max_pool1d(ex3, 2)\n",
    "print('ex4:', ex4.shape)"
   ]
  },
  {
   "cell_type": "code",
   "execution_count": 721,
   "metadata": {},
   "outputs": [
    {
     "name": "stdout",
     "output_type": "stream",
     "text": [
      "epoch 0: train_loss = 2.15252228, test_loss = 1.99982691\n",
      "Точность на тестовой выборке: 0.41712204007285975\n",
      "epoch 5: train_loss = 1.46968767, test_loss = 1.48883727\n",
      "Точность на тестовой выборке: 0.5746812386156649\n",
      "epoch 10: train_loss = 1.23309033, test_loss = 1.37111439\n",
      "Точность на тестовой выборке: 0.6188524590163934\n",
      "epoch 15: train_loss = 1.10791192, test_loss = 1.25613671\n",
      "Точность на тестовой выборке: 0.6416211293260473\n",
      "epoch 20: train_loss = 1.00810896, test_loss = 1.24035742\n",
      "Точность на тестовой выборке: 0.6461748633879781\n",
      "epoch 25: train_loss = 0.94350581, test_loss = 1.24891924\n",
      "Точность на тестовой выборке: 0.6552823315118397\n",
      "epoch 30: train_loss = 0.89727139, test_loss = 1.25265265\n",
      "Точность на тестовой выборке: 0.6461748633879781\n"
     ]
    }
   ],
   "source": [
    "losses = []\n",
    "\n",
    "class Model(nn.Module):\n",
    "  def __init__(self):\n",
    "    super().__init__()\n",
    "    self.conv1 = nn.Conv1d(20, 64, kernel_size=3)\n",
    "    self.conv2 = nn.Conv1d(64, 128, kernel_size=3)\n",
    "    self.conv2_drop = nn.Dropout1d() \n",
    "    self.fc1 = nn.Linear(128*2, 18)\n",
    "    self.emb = nn.Embedding(vocab.vocab_len, 20)\n",
    "    self.emb.requires_grad = True\n",
    "    \n",
    "  def forward(self, X):\n",
    "    X = self.emb(torch.LongTensor(X)).view(X.shape[0],20,17)\n",
    "    X = F.relu(F.max_pool1d(self.conv1(X), 2)) # первый сверточный слой\n",
    "    X = F.relu(F.max_pool1d(self.conv2_drop(self.conv2(X)), 2)) # второй сверточный слой\n",
    "    X = X.view(-1, 1*128*2)\n",
    "    X = F.dropout(X, 0.4)\n",
    "    y_pred = self.fc1(X) #  полносвязный слой\n",
    "    return y_pred\n",
    "\n",
    "model2 = Model()\n",
    "\n",
    "criterion = nn.CrossEntropyLoss()\n",
    "\n",
    "optimizer = torch.optim.Adam(model2.parameters(), lr=0.001)\n",
    "\n",
    "train_losses = []\n",
    "test_losses = []\n",
    "\n",
    "for i in range(31):\n",
    "    model2.train()\n",
    "    losses_epoch_train = []\n",
    "    losses_epoch_test = []\n",
    "    y_pred_test = []\n",
    "    y_true_test = []\n",
    "    for x_example, y_example in train_loader:\n",
    "        y_pred = model2(x_example)\n",
    "    \n",
    "        loss = criterion(y_pred, y_example.long())\n",
    "        losses_epoch_train.append(loss.item())\n",
    "        loss.backward()\n",
    "        \n",
    "        optimizer.step()\n",
    "        optimizer.zero_grad()\n",
    "        \n",
    "    for x_example, y_example in test_loader:\n",
    "        y_pred = model2(x_example)\n",
    "    \n",
    "        loss = criterion(y_pred, y_example.long())\n",
    "        losses_epoch_test.append(loss.item())\n",
    "        \n",
    "        y_pred_test.extend(y_pred)\n",
    "        y_true_test.extend(y_example)\n",
    "    \n",
    "    train_losses.append(np.mean(losses_epoch_train))\n",
    "    test_losses.append(np.mean(losses_epoch_test))\n",
    "    y_pred_test = list(map(lambda x: torch.argmax(x).item(), y_pred_test))\n",
    "    y_true_test = list(map(lambda x: x.item(), y_true_test))\n",
    "    if i%5==0:\n",
    "        print(f'epoch {i}: train_loss = {np.mean(losses_epoch_train):.8f}, test_loss = {np.mean(losses_epoch_test):.8f}') \n",
    "        print('Точность на тестовой выборке:', accuracy_score(y_true_test, y_pred_test))"
   ]
  },
  {
   "cell_type": "code",
   "execution_count": 722,
   "metadata": {},
   "outputs": [],
   "source": [
    "y_pred = []\n",
    "y_true = []\n",
    "for x,y in test_loader:\n",
    "    y_pred.extend(model2(x))\n",
    "    y_true.extend(y)\n",
    "y_pred = list(map(lambda x: torch.argmax(x).item(), y_pred))\n",
    "y_true = list(map(lambda x: x.item(), y_true))"
   ]
  },
  {
   "cell_type": "code",
   "execution_count": 723,
   "metadata": {},
   "outputs": [],
   "source": [
    "from sklearn.metrics import confusion_matrix\n",
    "\n",
    "cf_matrix = confusion_matrix(y_true, y_pred)"
   ]
  },
  {
   "cell_type": "code",
   "execution_count": 724,
   "metadata": {},
   "outputs": [
    {
     "data": {
      "image/png": "[encoded data removed]",
      "text/plain": [
       "<Figure size 640x480 with 2 Axes>"
      ]
     },
     "metadata": {},
     "output_type": "display_data"
    }
   ],
   "source": [
    "import seaborn as sns\n",
    "import matplotlib.pyplot as plt\n",
    "\n",
    "ax = sns.heatmap(cf_matrix, annot=True)\n",
    "plt.show()"
   ]
  },
  {
   "cell_type": "code",
   "execution_count": 725,
   "metadata": {},
   "outputs": [
    {
     "name": "stdout",
     "output_type": "stream",
     "text": [
      "Точность на тестовой выборке: 0.6516393442622951\n"
     ]
    }
   ],
   "source": [
    "from sklearn.metrics import accuracy_score\n",
    "print('Точность на тестовой выборке:', accuracy_score(y_true, y_pred))"
   ]
  },
  {
   "cell_type": "code",
   "execution_count": 726,
   "metadata": {},
   "outputs": [],
   "source": [
    "surname = pd.Series(['filimonova','dubrovskaya','akhmad'])\n",
    "dataset.vectorize(surname)"
   ]
  },
  {
   "cell_type": "code",
   "execution_count": 730,
   "metadata": {},
   "outputs": [],
   "source": [
    "y_pred = []\n",
    "for x,y in dataset:\n",
    "    y_pred.append(model2(x.reshape(1,x.shape[0])))\n",
    "y_pred_p = [y.argsort() for y in y_pred]"
   ]
  },
  {
   "cell_type": "code",
   "execution_count": 731,
   "metadata": {},
   "outputs": [],
   "source": [
    "coder_rev = dict(zip(df.coder.values,df.nationality.values))"
   ]
  },
  {
   "cell_type": "code",
   "execution_count": 732,
   "metadata": {},
   "outputs": [
    {
     "name": "stdout",
     "output_type": "stream",
     "text": [
      "Фамилия: filimonova три национальности:\n",
      "Наиболее вероятно: Russian\n",
      "Вторая вероятность: Greek\n",
      "Третья вероятность: Spanish\n",
      "\n",
      "Фамилия: dubrovskaya три национальности:\n",
      "Наиболее вероятно: Russian\n",
      "Вторая вероятность: Czech\n",
      "Третья вероятность: Italian\n",
      "\n",
      "Фамилия: akhmad три национальности:\n",
      "Наиболее вероятно: Arabic\n",
      "Вторая вероятность: Japanese\n",
      "Третья вероятность: English\n",
      "\n"
     ]
    }
   ],
   "source": [
    "for i in range(3):\n",
    "    y = y_pred_p[i]\n",
    "    print('Фамилия:',surname[i],'три национальности:')\n",
    "    print('Наиболее вероятно:', coder_rev[y[0][-1].item()])\n",
    "    print('Вторая вероятность:', coder_rev[y[0][-2].item()])\n",
    "    print('Третья вероятность:', coder_rev[y[0][-3].item()])\n",
    "    print(\"\")"
   ]
  },
  {
   "cell_type": "markdown",
   "metadata": {
    "id": "uo-hf5CQ0iWv"
   },
   "source": [
    "## 3. Классификация обзоров на фильмы (ConvNet)\n",
    "\n",
    "Датасет: https://disk.yandex.ru/d/tdinpb0nN_Dsrg\n",
    "\n",
    "2.1 Создайте набор данных на основе файлов polarity/positive_reviews.csv (положительные отзывы) и polarity/negative_reviews.csv (отрицательные отзывы). Разбейте на обучающую и тестовую выборку.\n",
    "  * токен = __слово__\n",
    "  * данные для обучения в датасете представляются в виде последовательности индексов токенов\n",
    "  * словарь создается на основе _только_ обучающей выборки. Для корректной обработки ситуаций, когда в тестовой выборке встретится токен, который не хранится в словаре, добавьте в словарь специальный токен `<UNK>`\n",
    "  * добавьте предобработку текста\n",
    "\n",
    "2.2. Обучите классификатор.\n",
    "  \n",
    "  * Для преобразования последовательности индексов в последовательность векторов используйте `nn.Embedding` \n",
    "    - подберите адекватную размерность вектора эмбеддинга: \n",
    "    - модуль `nn.Embedding` обучается\n",
    "\n",
    "  * Используйте одномерные свертки и пулинг (`nn.Conv1d`, `nn.MaxPool1d`)\n",
    "    - обратите внимание, что `nn.Conv1d` ожидает на вход трехмерный тензор размерности `(batch, embedding_dim, seq_len)`\n",
    "\n",
    "\n",
    "2.7 Измерить точность на тестовой выборке. Проверить работоспособность модели: придумать небольшой отзыв, прогнать его через модель и вывести номер предсказанного класса (сделать это для явно позитивного и явно негативного отзыва)\n",
    "* Целевое значение accuracy на валидации - 70+%"
   ]
  },
  {
   "cell_type": "code",
   "execution_count": 9,
   "metadata": {},
   "outputs": [
    {
     "data": {
      "text/html": [
       "<div>\n",
       "<style scoped>\n",
       "    .dataframe tbody tr th:only-of-type {\n",
       "        vertical-align: middle;\n",
       "    }\n",
       "\n",
       "    .dataframe tbody tr th {\n",
       "        vertical-align: top;\n",
       "    }\n",
       "\n",
       "    .dataframe thead th {\n",
       "        text-align: right;\n",
       "    }\n",
       "</style>\n",
       "<table border=\"1\" class=\"dataframe\">\n",
       "  <thead>\n",
       "    <tr style=\"text-align: right;\">\n",
       "      <th></th>\n",
       "      <th>review</th>\n",
       "      <th>target</th>\n",
       "    </tr>\n",
       "  </thead>\n",
       "  <tbody>\n",
       "    <tr>\n",
       "      <th>0</th>\n",
       "      <td>the rock is destined to be the 21st century's ...</td>\n",
       "      <td>0</td>\n",
       "    </tr>\n",
       "    <tr>\n",
       "      <th>1</th>\n",
       "      <td>the gorgeously elaborate continuation of \" the...</td>\n",
       "      <td>0</td>\n",
       "    </tr>\n",
       "    <tr>\n",
       "      <th>2</th>\n",
       "      <td>effective but too-tepid biopic</td>\n",
       "      <td>0</td>\n",
       "    </tr>\n",
       "    <tr>\n",
       "      <th>3</th>\n",
       "      <td>if you sometimes like to go to the movies to h...</td>\n",
       "      <td>0</td>\n",
       "    </tr>\n",
       "    <tr>\n",
       "      <th>4</th>\n",
       "      <td>emerges as something rare , an issue movie tha...</td>\n",
       "      <td>0</td>\n",
       "    </tr>\n",
       "  </tbody>\n",
       "</table>\n",
       "</div>"
      ],
      "text/plain": [
       "                                              review  target\n",
       "0  the rock is destined to be the 21st century's ...       0\n",
       "1  the gorgeously elaborate continuation of \" the...       0\n",
       "2                     effective but too-tepid biopic       0\n",
       "3  if you sometimes like to go to the movies to h...       0\n",
       "4  emerges as something rare , an issue movie tha...       0"
      ]
     },
     "execution_count": 9,
     "metadata": {},
     "output_type": "execute_result"
    }
   ],
   "source": [
    "df_positive = pd.read_table('positive_reviews.txt', header = None)\n",
    "df_positive.columns = ['review']\n",
    "df_positive['target'] = 0\n",
    "df_positive.head()"
   ]
  },
  {
   "cell_type": "code",
   "execution_count": 10,
   "metadata": {},
   "outputs": [
    {
     "data": {
      "text/html": [
       "<div>\n",
       "<style scoped>\n",
       "    .dataframe tbody tr th:only-of-type {\n",
       "        vertical-align: middle;\n",
       "    }\n",
       "\n",
       "    .dataframe tbody tr th {\n",
       "        vertical-align: top;\n",
       "    }\n",
       "\n",
       "    .dataframe thead th {\n",
       "        text-align: right;\n",
       "    }\n",
       "</style>\n",
       "<table border=\"1\" class=\"dataframe\">\n",
       "  <thead>\n",
       "    <tr style=\"text-align: right;\">\n",
       "      <th></th>\n",
       "      <th>review</th>\n",
       "      <th>target</th>\n",
       "    </tr>\n",
       "  </thead>\n",
       "  <tbody>\n",
       "    <tr>\n",
       "      <th>0</th>\n",
       "      <td>simplistic , silly and tedious .</td>\n",
       "      <td>1</td>\n",
       "    </tr>\n",
       "    <tr>\n",
       "      <th>1</th>\n",
       "      <td>it's so laddish and juvenile , only teenage bo...</td>\n",
       "      <td>1</td>\n",
       "    </tr>\n",
       "    <tr>\n",
       "      <th>2</th>\n",
       "      <td>exploitative and largely devoid of the depth o...</td>\n",
       "      <td>1</td>\n",
       "    </tr>\n",
       "    <tr>\n",
       "      <th>3</th>\n",
       "      <td>[garbus] discards the potential for pathologic...</td>\n",
       "      <td>1</td>\n",
       "    </tr>\n",
       "    <tr>\n",
       "      <th>4</th>\n",
       "      <td>a visually flashy but narratively opaque and e...</td>\n",
       "      <td>1</td>\n",
       "    </tr>\n",
       "  </tbody>\n",
       "</table>\n",
       "</div>"
      ],
      "text/plain": [
       "                                              review  target\n",
       "0                   simplistic , silly and tedious .       1\n",
       "1  it's so laddish and juvenile , only teenage bo...       1\n",
       "2  exploitative and largely devoid of the depth o...       1\n",
       "3  [garbus] discards the potential for pathologic...       1\n",
       "4  a visually flashy but narratively opaque and e...       1"
      ]
     },
     "execution_count": 10,
     "metadata": {},
     "output_type": "execute_result"
    }
   ],
   "source": [
    "df_negative = pd.read_table('negative_reviews.txt', header = None)\n",
    "df_negative.columns = ['review']\n",
    "df_negative['target'] = 1\n",
    "df_negative.head()"
   ]
  },
  {
   "cell_type": "code",
   "execution_count": 149,
   "metadata": {},
   "outputs": [
    {
     "data": {
      "text/html": [
       "<div>\n",
       "<style scoped>\n",
       "    .dataframe tbody tr th:only-of-type {\n",
       "        vertical-align: middle;\n",
       "    }\n",
       "\n",
       "    .dataframe tbody tr th {\n",
       "        vertical-align: top;\n",
       "    }\n",
       "\n",
       "    .dataframe thead th {\n",
       "        text-align: right;\n",
       "    }\n",
       "</style>\n",
       "<table border=\"1\" class=\"dataframe\">\n",
       "  <thead>\n",
       "    <tr style=\"text-align: right;\">\n",
       "      <th></th>\n",
       "      <th>review</th>\n",
       "      <th>target</th>\n",
       "    </tr>\n",
       "  </thead>\n",
       "  <tbody>\n",
       "    <tr>\n",
       "      <th>0</th>\n",
       "      <td>the niftiest trick perpetrated by the importan...</td>\n",
       "      <td>1</td>\n",
       "    </tr>\n",
       "    <tr>\n",
       "      <th>1</th>\n",
       "      <td>cho's fans are sure to be entertained ; it's o...</td>\n",
       "      <td>1</td>\n",
       "    </tr>\n",
       "    <tr>\n",
       "      <th>2</th>\n",
       "      <td>unofficially , national lampoon's van wilder i...</td>\n",
       "      <td>1</td>\n",
       "    </tr>\n",
       "    <tr>\n",
       "      <th>3</th>\n",
       "      <td>serry does a fine job of capturing the climate...</td>\n",
       "      <td>1</td>\n",
       "    </tr>\n",
       "    <tr>\n",
       "      <th>4</th>\n",
       "      <td>rarely , a movie is more than a movie . go .</td>\n",
       "      <td>0</td>\n",
       "    </tr>\n",
       "    <tr>\n",
       "      <th>...</th>\n",
       "      <td>...</td>\n",
       "      <td>...</td>\n",
       "    </tr>\n",
       "    <tr>\n",
       "      <th>10657</th>\n",
       "      <td>despite the fact that this film wasn't as bad ...</td>\n",
       "      <td>1</td>\n",
       "    </tr>\n",
       "    <tr>\n",
       "      <th>10658</th>\n",
       "      <td>the movie's quiet affirmation of neighborhood ...</td>\n",
       "      <td>0</td>\n",
       "    </tr>\n",
       "    <tr>\n",
       "      <th>10659</th>\n",
       "      <td>the re- enactments , however fascinating they ...</td>\n",
       "      <td>1</td>\n",
       "    </tr>\n",
       "    <tr>\n",
       "      <th>10660</th>\n",
       "      <td>the year's greatest adventure , and jackson's ...</td>\n",
       "      <td>0</td>\n",
       "    </tr>\n",
       "    <tr>\n",
       "      <th>10661</th>\n",
       "      <td>mcconaughey's fun to watch , the dragons are o...</td>\n",
       "      <td>1</td>\n",
       "    </tr>\n",
       "  </tbody>\n",
       "</table>\n",
       "<p>10662 rows × 2 columns</p>\n",
       "</div>"
      ],
      "text/plain": [
       "                                                  review  target\n",
       "0      the niftiest trick perpetrated by the importan...       1\n",
       "1      cho's fans are sure to be entertained ; it's o...       1\n",
       "2      unofficially , national lampoon's van wilder i...       1\n",
       "3      serry does a fine job of capturing the climate...       1\n",
       "4           rarely , a movie is more than a movie . go .       0\n",
       "...                                                  ...     ...\n",
       "10657  despite the fact that this film wasn't as bad ...       1\n",
       "10658  the movie's quiet affirmation of neighborhood ...       0\n",
       "10659  the re- enactments , however fascinating they ...       1\n",
       "10660  the year's greatest adventure , and jackson's ...       0\n",
       "10661  mcconaughey's fun to watch , the dragons are o...       1\n",
       "\n",
       "[10662 rows x 2 columns]"
      ]
     },
     "execution_count": 149,
     "metadata": {},
     "output_type": "execute_result"
    }
   ],
   "source": [
    "df = pd.concat([df_positive, df_negative], ignore_index = True).sample(frac=1).reset_index(drop=True)\n",
    "df"
   ]
  },
  {
   "cell_type": "code",
   "execution_count": 150,
   "metadata": {},
   "outputs": [],
   "source": [
    "X_train, X_test, y_train, y_test = train_test_split(df.drop('target', axis = 1), df.target, test_size=0.2, random_state=1)"
   ]
  },
  {
   "cell_type": "code",
   "execution_count": 151,
   "metadata": {},
   "outputs": [
    {
     "data": {
      "text/plain": [
       "0.4961894712158518"
      ]
     },
     "execution_count": 151,
     "metadata": {},
     "output_type": "execute_result"
    }
   ],
   "source": [
    "sum(y_train)/len(y_train)"
   ]
  },
  {
   "cell_type": "code",
   "execution_count": 152,
   "metadata": {},
   "outputs": [
    {
     "data": {
      "text/plain": [
       "0.5152367557430848"
      ]
     },
     "execution_count": 152,
     "metadata": {},
     "output_type": "execute_result"
    }
   ],
   "source": [
    "sum(y_test)/len(y_test)"
   ]
  },
  {
   "cell_type": "code",
   "execution_count": 153,
   "metadata": {},
   "outputs": [],
   "source": [
    "import re\n",
    "def preprocess_text(text):\n",
    "    text = text.lower()\n",
    "    text = re.sub(r'[^a-zA-Z.,|?]', r' ',text)\n",
    "    return text"
   ]
  },
  {
   "cell_type": "code",
   "execution_count": 154,
   "metadata": {},
   "outputs": [],
   "source": [
    "class Vocab:\n",
    "  def __init__(self, data):\n",
    "    self.idx_to_token = dict()\n",
    "    self.token_to_idx = dict()\n",
    "    self.idx_to_token[0] = '<UNK>'\n",
    "    self.token_to_idx['<UNK>'] = 0\n",
    "    k = 1\n",
    "    self.max_len = 100\n",
    "    for sur in data.values:\n",
    "        for w in word_tokenize(preprocess_text(sur[0])):\n",
    "            if w not in self.token_to_idx:\n",
    "                self.token_to_idx[w] = k\n",
    "                self.idx_to_token[k] = w\n",
    "                k+=1\n",
    "#         if len(word_tokenize(preprocess_text(sur[0])))>self.max_len:\n",
    "#             self.max_len = len(word_tokenize(preprocess_text(sur[0])))\n",
    "    self.vocab_len = len(self.idx_to_token)\n",
    "    "
   ]
  },
  {
   "cell_type": "code",
   "execution_count": 155,
   "metadata": {},
   "outputs": [],
   "source": [
    "vocab = Vocab(X_train)"
   ]
  },
  {
   "cell_type": "code",
   "execution_count": 156,
   "metadata": {},
   "outputs": [
    {
     "data": {
      "text/plain": [
       "{'<UNK>': 0,\n",
       " 'dull': 1,\n",
       " 'and': 2,\n",
       " 'mechanical': 3,\n",
       " ',': 4,\n",
       " 'kinda': 5,\n",
       " 'like': 6,\n",
       " 'a': 7,\n",
       " 'very': 8,\n",
       " 'goofy': 9,\n",
       " 'museum': 10,\n",
       " 'exhibit': 11,\n",
       " 'well': 12,\n",
       " 'made': 13,\n",
       " 'but': 14,\n",
       " 'doesn': 15,\n",
       " 't': 16,\n",
       " 'generate': 17,\n",
       " 'lot': 18,\n",
       " 'of': 19,\n",
       " 'tension': 20,\n",
       " '.': 21,\n",
       " 'no': 22,\n",
       " 'big': 23,\n",
       " 'whoop': 24,\n",
       " 'nothing': 25,\n",
       " 'new': 26,\n",
       " 'to': 27,\n",
       " 'see': 28,\n",
       " 'zero': 29,\n",
       " 'thrills': 30,\n",
       " 'too': 31,\n",
       " 'many': 32,\n",
       " 'flashbacks': 33,\n",
       " 'choppy': 34,\n",
       " 'ending': 35,\n",
       " 'make': 36,\n",
       " 'for': 37,\n",
       " 'bad': 38,\n",
       " 'film': 39,\n",
       " 'nair': 40,\n",
       " 's': 41,\n",
       " 'cast': 42,\n",
       " 'is': 43,\n",
       " 'so': 44,\n",
       " 'large': 45,\n",
       " 'it': 46,\n",
       " 'altman': 47,\n",
       " 'esque': 48,\n",
       " 'she': 49,\n",
       " 'deftly': 50,\n",
       " 'spins': 51,\n",
       " 'the': 52,\n",
       " 'multiple': 53,\n",
       " 'stories': 54,\n",
       " 'in': 55,\n",
       " 'vibrant': 56,\n",
       " 'intoxicating': 57,\n",
       " 'fashion': 58,\n",
       " 'uneven': 59,\n",
       " 'movie': 60,\n",
       " 'does': 61,\n",
       " 'have': 62,\n",
       " 'its': 63,\n",
       " 'charms': 64,\n",
       " 'funny': 65,\n",
       " 'moments': 66,\n",
       " 'not': 67,\n",
       " 'quite': 68,\n",
       " 'enough': 69,\n",
       " 'them': 70,\n",
       " 'merchant': 71,\n",
       " 'hasn': 72,\n",
       " 'directed': 73,\n",
       " 'this': 74,\n",
       " 'much': 75,\n",
       " 'as': 76,\n",
       " 'produced': 77,\n",
       " 'sausage': 78,\n",
       " 'solid': 79,\n",
       " 'lump': 80,\n",
       " 'throat': 81,\n",
       " 'family': 82,\n",
       " 'entertainment': 83,\n",
       " 'that': 84,\n",
       " 'derives': 85,\n",
       " 'power': 86,\n",
       " 'by': 87,\n",
       " 'sticking': 88,\n",
       " 'facts': 89,\n",
       " 'even': 90,\n",
       " 'though': 91,\n",
       " 'we': 92,\n",
       " 'know': 93,\n",
       " 'outcome': 94,\n",
       " 'seesawing': 95,\n",
       " 'general': 96,\n",
       " 'fate': 97,\n",
       " 'arguments': 98,\n",
       " 'competing': 99,\n",
       " 'lawyers': 100,\n",
       " 'has': 101,\n",
       " 'stomach': 102,\n",
       " 'knotting': 103,\n",
       " 'suspense': 104,\n",
       " 'legal': 105,\n",
       " 'thriller': 106,\n",
       " 'while': 107,\n",
       " 'testimony': 108,\n",
       " 'witnesses': 109,\n",
       " 'lends': 110,\n",
       " 'resonant': 111,\n",
       " 'undertone': 112,\n",
       " 'tragedy': 113,\n",
       " 'telegraphing': 114,\n",
       " 'obvious': 115,\n",
       " 'or': 116,\n",
       " 'simplistic': 117,\n",
       " 'control': 118,\n",
       " 'alt': 119,\n",
       " 'delete': 120,\n",
       " 'simone': 121,\n",
       " 'quickly': 122,\n",
       " 'possible': 123,\n",
       " 'everyone': 124,\n",
       " 'will': 125,\n",
       " 'welcome': 126,\n",
       " 'accept': 127,\n",
       " 'trials': 128,\n",
       " 'henry': 129,\n",
       " 'kissinger': 130,\n",
       " 'faithful': 131,\n",
       " 'portraiture': 132,\n",
       " 'few': 133,\n",
       " 'can': 134,\n",
       " 'argue': 135,\n",
       " 'debate': 136,\n",
       " 'joins': 137,\n",
       " 'necessary': 138,\n",
       " 'timely': 139,\n",
       " 'one': 140,\n",
       " 'punitive': 141,\n",
       " 'minutes': 142,\n",
       " 'eardrum': 143,\n",
       " 'dicing': 144,\n",
       " 'gunplay': 145,\n",
       " 'screeching': 146,\n",
       " 'metal': 147,\n",
       " 'smashups': 148,\n",
       " 'flaccid': 149,\n",
       " 'odd': 150,\n",
       " 'couple': 151,\n",
       " 'sniping': 152,\n",
       " 'although': 153,\n",
       " 'sensitive': 154,\n",
       " 'fault': 155,\n",
       " 'often': 156,\n",
       " 'overwritten': 157,\n",
       " 'with': 158,\n",
       " 'surfeit': 159,\n",
       " 'weighty': 160,\n",
       " 'revelations': 161,\n",
       " 'flowery': 162,\n",
       " 'dialogue': 163,\n",
       " 'nostalgia': 164,\n",
       " 'past': 165,\n",
       " 'roads': 166,\n",
       " 'taken': 167,\n",
       " 'enormously': 168,\n",
       " 'likable': 169,\n",
       " 'partly': 170,\n",
       " 'because': 171,\n",
       " 'aware': 172,\n",
       " 'own': 173,\n",
       " 'grasp': 174,\n",
       " 'absurd': 175,\n",
       " 'silly': 176,\n",
       " 'loud': 177,\n",
       " 'poetic': 178,\n",
       " 'road': 179,\n",
       " 'spiked': 180,\n",
       " 'jolts': 181,\n",
       " 'pop': 182,\n",
       " 'music': 183,\n",
       " 'pretty': 184,\n",
       " 'takes': 185,\n",
       " 'place': 186,\n",
       " 'morton': 187,\n",
       " 'ever': 188,\n",
       " 'watchful': 189,\n",
       " 'gaze': 190,\n",
       " 'tribute': 191,\n",
       " 'actress': 192,\n",
       " 'her': 193,\n",
       " 'inventive': 194,\n",
       " 'director': 195,\n",
       " 'journey': 196,\n",
       " 'such': 197,\n",
       " 'mesmerizing': 198,\n",
       " 'veret': 199,\n",
       " 'whip': 200,\n",
       " 'smart': 201,\n",
       " 'sense': 202,\n",
       " 'narrative': 203,\n",
       " 'bluffs': 204,\n",
       " 'problem': 205,\n",
       " 'antwone': 206,\n",
       " 'fisher': 207,\n",
       " 'screenplay': 208,\n",
       " 'written': 209,\n",
       " 'based': 210,\n",
       " 'on': 211,\n",
       " 'book': 212,\n",
       " 'para': 213,\n",
       " 'hitler': 214,\n",
       " 'o': 215,\n",
       " 'mundo': 216,\n",
       " 'era': 217,\n",
       " 'sua': 218,\n",
       " 'tela': 219,\n",
       " 'e': 220,\n",
       " 'horror': 221,\n",
       " 'seu': 222,\n",
       " 'pincel': 223,\n",
       " 'max': 224,\n",
       " 'retrata': 225,\n",
       " 'este': 226,\n",
       " 'fato': 227,\n",
       " 'com': 228,\n",
       " 'elegante': 229,\n",
       " 'abandono': 230,\n",
       " 'numa': 231,\n",
       " 'triste': 232,\n",
       " 'constata': 233,\n",
       " 'da': 234,\n",
       " 'realidade': 235,\n",
       " 'hist': 236,\n",
       " 'rica': 237,\n",
       " 'contando': 238,\n",
       " 'uma': 239,\n",
       " 'premissa': 240,\n",
       " 'curiosa': 241,\n",
       " 'filme': 242,\n",
       " 'mergulha': 243,\n",
       " 'espectador': 244,\n",
       " 'em': 245,\n",
       " 'um': 246,\n",
       " 'clima': 247,\n",
       " 'de': 248,\n",
       " 'forte': 249,\n",
       " 'culminando': 250,\n",
       " 'desfecho': 251,\n",
       " 'que': 252,\n",
       " 'certamente': 253,\n",
       " 'fica': 254,\n",
       " 'na': 255,\n",
       " 'mem': 256,\n",
       " 'ria': 257,\n",
       " 'more': 258,\n",
       " 'concerned': 259,\n",
       " 'overall': 260,\n",
       " 'feelings': 261,\n",
       " 'broader': 262,\n",
       " 'ideas': 263,\n",
       " 'open': 264,\n",
       " 'ended': 265,\n",
       " 'questions': 266,\n",
       " 'than': 267,\n",
       " 'concrete': 268,\n",
       " 'story': 269,\n",
       " 'definitive': 270,\n",
       " 'answers': 271,\n",
       " 'soderbergh': 272,\n",
       " 'solaris': 273,\n",
       " 'gorgeous': 274,\n",
       " 'deceptively': 275,\n",
       " 'minimalist': 276,\n",
       " 'cinematic': 277,\n",
       " 'tone': 278,\n",
       " 'poem': 279,\n",
       " 'sayles': 280,\n",
       " 'knack': 281,\n",
       " 'casting': 282,\n",
       " 'resurrecting': 283,\n",
       " 'performers': 284,\n",
       " 'who': 285,\n",
       " 'rarely': 286,\n",
       " 'work': 287,\n",
       " 'movies': 288,\n",
       " 'now': 289,\n",
       " 'drawing': 290,\n",
       " 'flavorful': 291,\n",
       " 'performances': 292,\n",
       " 'from': 293,\n",
       " 'bland': 294,\n",
       " 'actors': 295,\n",
       " 'sticks': 296,\n",
       " 'rigidly': 297,\n",
       " 'paradigm': 298,\n",
       " 'permitting': 299,\n",
       " 'characters': 300,\n",
       " 'two': 301,\n",
       " 'dimensions': 302,\n",
       " 'repeatedly': 303,\n",
       " 'placing': 304,\n",
       " 'contrived': 305,\n",
       " 'worn': 306,\n",
       " 'situations': 307,\n",
       " 'an': 308,\n",
       " 'appalling': 309,\n",
       " 'ace': 310,\n",
       " 'ventura': 311,\n",
       " 'rip': 312,\n",
       " 'off': 313,\n",
       " 'somehow': 314,\n",
       " 'manages': 315,\n",
       " 'bring': 316,\n",
       " 'together': 317,\n",
       " 'kevin': 318,\n",
       " 'pollak': 319,\n",
       " 'former': 320,\n",
       " 'wrestler': 321,\n",
       " 'chyna': 322,\n",
       " 'dolly': 323,\n",
       " 'parton': 324,\n",
       " 'if': 325,\n",
       " 'any': 326,\n",
       " 'list': 327,\n",
       " 'credit': 328,\n",
       " 'their': 329,\n",
       " 'resumes': 330,\n",
       " 'future': 331,\n",
       " 'll': 332,\n",
       " 'be': 333,\n",
       " 'funnier': 334,\n",
       " 'anything': 335,\n",
       " 'typically': 336,\n",
       " 'observant': 337,\n",
       " 'carefully': 338,\n",
       " 'nuanced': 339,\n",
       " 'intimate': 340,\n",
       " 'french': 341,\n",
       " 'coming': 342,\n",
       " 'age': 343,\n",
       " 'encouraging': 344,\n",
       " 'debut': 345,\n",
       " 'feature': 346,\n",
       " 'needlessly': 347,\n",
       " 'downbeat': 348,\n",
       " 'heavy': 349,\n",
       " 'all': 350,\n",
       " 'preceded': 351,\n",
       " 'perceptive': 352,\n",
       " 'good': 353,\n",
       " 'natured': 354,\n",
       " 'ultimately': 355,\n",
       " 'feels': 356,\n",
       " 'just': 357,\n",
       " 'long': 358,\n",
       " 'line': 359,\n",
       " 'films': 360,\n",
       " 'year': 361,\n",
       " 'about': 362,\n",
       " 'business': 363,\n",
       " 'making': 364,\n",
       " 'visually': 365,\n",
       " 'imaginative': 366,\n",
       " 'thematically': 367,\n",
       " 'instructive': 368,\n",
       " 'thoroughly': 369,\n",
       " 'delightful': 370,\n",
       " 'us': 371,\n",
       " 'roller': 372,\n",
       " 'coaster': 373,\n",
       " 'ride': 374,\n",
       " 'innocence': 375,\n",
       " 'experience': 376,\n",
       " 'without': 377,\n",
       " 'hint': 378,\n",
       " 'typical': 379,\n",
       " 'kiddie': 380,\n",
       " 'flick': 381,\n",
       " 'sentimentality': 382,\n",
       " 'prison': 383,\n",
       " 'comedy': 384,\n",
       " 'never': 385,\n",
       " 'really': 386,\n",
       " 'busts': 387,\n",
       " 'out': 388,\n",
       " 'comfy': 389,\n",
       " 'little': 390,\n",
       " 'cell': 391,\n",
       " 'lets': 392,\n",
       " 'go': 393,\n",
       " 'your': 394,\n",
       " 'emotions': 395,\n",
       " 'taking': 396,\n",
       " 'surprising': 397,\n",
       " 'highs': 398,\n",
       " 'sorrowful': 399,\n",
       " 'lows': 400,\n",
       " 'hidden': 401,\n",
       " 'impulsive': 402,\n",
       " 'niches': 403,\n",
       " 'passionate': 404,\n",
       " 'at': 405,\n",
       " 'times': 406,\n",
       " 'uncommonly': 407,\n",
       " 'moving': 408,\n",
       " 'particularly': 409,\n",
       " 'subtle': 410,\n",
       " 'however': 411,\n",
       " 'still': 412,\n",
       " 'build': 413,\n",
       " 'terrifying': 414,\n",
       " 'conclusion': 415,\n",
       " 'expect': 416,\n",
       " 'same': 417,\n",
       " 'old': 418,\n",
       " 'lame': 419,\n",
       " 'slasher': 420,\n",
       " 'nonsense': 421,\n",
       " 'different': 422,\n",
       " 'scenery': 423,\n",
       " 'may': 424,\n",
       " 'seem': 425,\n",
       " 'you': 426,\n",
       " 're': 427,\n",
       " 'fan': 428,\n",
       " 'includes': 429,\n",
       " 'segments': 430,\n",
       " 'songs': 431,\n",
       " 'reunion': 432,\n",
       " 'concert': 433,\n",
       " 'less': 434,\n",
       " 'outright': 435,\n",
       " 'bodice': 436,\n",
       " 'ripper': 437,\n",
       " 'should': 438,\n",
       " 'ditched': 439,\n",
       " 'artsy': 440,\n",
       " 'pretensions': 441,\n",
       " 'revelled': 442,\n",
       " 'entertaining': 443,\n",
       " 'shallows': 444,\n",
       " 'self': 445,\n",
       " 'guide': 446,\n",
       " 'loose': 447,\n",
       " 'poorly': 448,\n",
       " 'structured': 449,\n",
       " 'through': 450,\n",
       " 'pitfalls': 451,\n",
       " 'incoherence': 452,\n",
       " 'redundancy': 453,\n",
       " 'ludicrous': 454,\n",
       " 'predictable': 455,\n",
       " 'every': 456,\n",
       " 'turn': 457,\n",
       " 'shot': 458,\n",
       " 'badly': 459,\n",
       " 'tale': 460,\n",
       " 'set': 461,\n",
       " 'ravaged': 462,\n",
       " 'dragons': 463,\n",
       " 'mostly': 464,\n",
       " 'intelligent': 465,\n",
       " 'engrossing': 466,\n",
       " 'psychologically': 467,\n",
       " 'suspenser': 468,\n",
       " 'heart': 469,\n",
       " 'nicks': 470,\n",
       " 'refuses': 471,\n",
       " 'let': 472,\n",
       " 'slackers': 473,\n",
       " 'seen': 474,\n",
       " 'another': 475,\n",
       " 'teen': 476,\n",
       " 'which': 477,\n",
       " 'means': 478,\n",
       " 'he': 479,\n",
       " 'forgiven': 480,\n",
       " 'frequently': 481,\n",
       " 'pandering': 482,\n",
       " 'fans': 483,\n",
       " 'gross': 484,\n",
       " 'denis': 485,\n",
       " 'bare': 486,\n",
       " 'bones': 487,\n",
       " 'closely': 488,\n",
       " 'resembles': 489,\n",
       " 'outline': 490,\n",
       " 'exploitation': 491,\n",
       " 'picture': 492,\n",
       " 'finished': 493,\n",
       " 'product': 494,\n",
       " 'cutting': 495,\n",
       " 'room': 496,\n",
       " 'floor': 497,\n",
       " 'somewhere': 498,\n",
       " 'lies': 499,\n",
       " 'footage': 500,\n",
       " 'might': 501,\n",
       " 'thing': 502,\n",
       " 'trenchant': 503,\n",
       " 'ironic': 504,\n",
       " 'cultural': 505,\n",
       " 'satire': 506,\n",
       " 'instead': 507,\n",
       " 'frustrating': 508,\n",
       " 'misfire': 509,\n",
       " 'timing': 510,\n",
       " 'nearly': 511,\n",
       " 'scene': 512,\n",
       " 'seems': 513,\n",
       " 'half': 514,\n",
       " 'beat': 515,\n",
       " 'puts': 516,\n",
       " 'refreshing': 517,\n",
       " 'comical': 518,\n",
       " 'spin': 519,\n",
       " 'familiar': 520,\n",
       " 'saga': 521,\n",
       " 'contemporary': 522,\n",
       " 'single': 523,\n",
       " 'woman': 524,\n",
       " 'jacobi': 525,\n",
       " 'most': 526,\n",
       " 'fluent': 527,\n",
       " 'given': 528,\n",
       " 'relatively': 529,\n",
       " 'dry': 530,\n",
       " 'material': 531,\n",
       " 'nijinsky': 532,\n",
       " 'writings': 533,\n",
       " 'perform': 534,\n",
       " 'visuals': 535,\n",
       " 'erotically': 536,\n",
       " 'frank': 537,\n",
       " 'ones': 538,\n",
       " 'become': 539,\n",
       " 'dullingly': 540,\n",
       " 'repetitive': 541,\n",
       " 'caruso': 542,\n",
       " 'sometimes': 543,\n",
       " 'descends': 544,\n",
       " 'into': 545,\n",
       " 'sub': 546,\n",
       " 'tarantino': 547,\n",
       " 'cuteness': 548,\n",
       " 'part': 549,\n",
       " 'makes': 550,\n",
       " 'sure': 551,\n",
       " 'salton': 552,\n",
       " 'sea': 553,\n",
       " 'works': 554,\n",
       " 'way': 555,\n",
       " 'noir': 556,\n",
       " 'keeping': 557,\n",
       " 'tight': 558,\n",
       " 'nasty': 559,\n",
       " 'real': 560,\n",
       " 'winner': 561,\n",
       " 'imamura': 562,\n",
       " 'said': 563,\n",
       " 'warm': 564,\n",
       " 'water': 565,\n",
       " 'under': 566,\n",
       " 'red': 567,\n",
       " 'bridge': 568,\n",
       " 'enduring': 569,\n",
       " 'strengths': 570,\n",
       " 'women': 571,\n",
       " 'also': 572,\n",
       " 'best': 573,\n",
       " 'sex': 574,\n",
       " 'environmental': 575,\n",
       " 'pollution': 576,\n",
       " 'hour': 577,\n",
       " 'joyful': 578,\n",
       " 'solo': 579,\n",
       " 'performance': 580,\n",
       " 'helps': 581,\n",
       " 'lil': 582,\n",
       " 'bow': 583,\n",
       " 'wow': 584,\n",
       " 'tones': 585,\n",
       " 'down': 586,\n",
       " 'his': 587,\n",
       " 'pint': 588,\n",
       " 'sized': 589,\n",
       " 'gangsta': 590,\n",
       " 'act': 591,\n",
       " 'play': 592,\n",
       " 'someone': 593,\n",
       " 'kid': 594,\n",
       " 'looks': 595,\n",
       " 'plays': 596,\n",
       " 'million': 597,\n",
       " 'version': 598,\n",
       " 'game': 599,\n",
       " 'likely': 600,\n",
       " 'enjoy': 601,\n",
       " 'computer': 602,\n",
       " 'there': 603,\n",
       " 'are': 604,\n",
       " 'things': 605,\n",
       " 'elevate': 606,\n",
       " 'glory': 607,\n",
       " 'above': 608,\n",
       " 'ilk': 609,\n",
       " 'notably': 610,\n",
       " 'mere': 611,\n",
       " 'presence': 612,\n",
       " 'duvall': 613,\n",
       " 'i': 614,\n",
       " 'm': 615,\n",
       " 'these': 616,\n",
       " 'words': 617,\n",
       " 'been': 618,\n",
       " 'sentence': 619,\n",
       " 'erotic': 620,\n",
       " 'cannibal': 621,\n",
       " 'boring': 622,\n",
       " 'scooby': 623,\n",
       " 'dooby': 624,\n",
       " 'doo': 625,\n",
       " 'shaggy': 626,\n",
       " 'both': 627,\n",
       " 'look': 628,\n",
       " 'sound': 629,\n",
       " 'great': 630,\n",
       " 'daphne': 631,\n",
       " 'buff': 632,\n",
       " 'fred': 633,\n",
       " 'thinks': 634,\n",
       " 'tough': 635,\n",
       " 'velma': 636,\n",
       " 've': 637,\n",
       " 'lost': 638,\n",
       " 'weight': 639,\n",
       " 'trinity': 640,\n",
       " 'assembly': 641,\n",
       " 'approaches': 642,\n",
       " 'endeavor': 643,\n",
       " 'shocking': 644,\n",
       " 'lack': 645,\n",
       " 'irony': 646,\n",
       " 'george': 647,\n",
       " 'ratliff': 648,\n",
       " 'documentary': 649,\n",
       " 'hell': 650,\n",
       " 'house': 651,\n",
       " 'reflects': 652,\n",
       " 'earnestness': 653,\n",
       " 'symbolically': 654,\n",
       " 'celebration': 655,\n",
       " 'feminine': 656,\n",
       " 'energy': 657,\n",
       " 'heal': 658,\n",
       " 'carl': 659,\n",
       " 'franklin': 660,\n",
       " 'adds': 661,\n",
       " 'flourishes': 662,\n",
       " 'freak': 663,\n",
       " 'outs': 664,\n",
       " 'going': 665,\n",
       " 'festival': 666,\n",
       " 'rewarding': 667,\n",
       " 'experiencing': 668,\n",
       " 'sampling': 669,\n",
       " 'totally': 670,\n",
       " 'weirded': 671,\n",
       " 'notion': 672,\n",
       " 'cinema': 673,\n",
       " 'community': 674,\n",
       " 'therapy': 675,\n",
       " 'spectacle': 676,\n",
       " 'quitting': 677,\n",
       " 'hits': 678,\n",
       " 'home': 679,\n",
       " 'disorienting': 680,\n",
       " 'force': 681,\n",
       " 'unnerving': 682,\n",
       " 'recoing': 683,\n",
       " 'bizzarre': 684,\n",
       " 'reaction': 685,\n",
       " 'unemployment': 686,\n",
       " 'glum': 687,\n",
       " 'nelson': 688,\n",
       " 'needs': 689,\n",
       " 'some': 690,\n",
       " 'serious': 691,\n",
       " 'working': 692,\n",
       " 'show': 693,\n",
       " 'dilemma': 694,\n",
       " 'rather': 695,\n",
       " 'stage': 696,\n",
       " 'shouting': 697,\n",
       " 'matches': 698,\n",
       " 'territory': 699,\n",
       " 'those': 700,\n",
       " 'pause': 701,\n",
       " 'think': 702,\n",
       " 'what': 703,\n",
       " 'up': 704,\n",
       " 'acquire': 705,\n",
       " 'fast': 706,\n",
       " 'paced': 707,\n",
       " 'society': 708,\n",
       " 'almost': 709,\n",
       " 'mendes': 710,\n",
       " 'company': 711,\n",
       " 'getting': 712,\n",
       " 'before': 713,\n",
       " 'frame': 714,\n",
       " 'had': 715,\n",
       " 'collectively': 716,\n",
       " 'vowing': 717,\n",
       " 'something': 718,\n",
       " 'pumpkin': 719,\n",
       " 'outrageous': 720,\n",
       " 'dark': 721,\n",
       " 'fraternity': 722,\n",
       " 'life': 723,\n",
       " 'ambitions': 724,\n",
       " 'far': 725,\n",
       " 'exceed': 726,\n",
       " 'abilities': 727,\n",
       " 'writer': 728,\n",
       " 'adam': 729,\n",
       " 'larson': 730,\n",
       " 'broder': 731,\n",
       " 'co': 732,\n",
       " 'tony': 733,\n",
       " 'r': 734,\n",
       " 'abrams': 735,\n",
       " 'maybe': 736,\n",
       " 'lucky': 737,\n",
       " 'outage': 738,\n",
       " 'during': 739,\n",
       " 'screening': 740,\n",
       " 'get': 741,\n",
       " 'money': 742,\n",
       " 'back': 743,\n",
       " 'useless': 744,\n",
       " 'helm': 745,\n",
       " 'intricate': 746,\n",
       " 'elegance': 747,\n",
       " 'literary': 748,\n",
       " 'lyricism': 749,\n",
       " 'profound': 750,\n",
       " 'common': 751,\n",
       " 'winds': 752,\n",
       " 'directions': 753,\n",
       " 'searches': 754,\n",
       " 'vainly': 755,\n",
       " 'fresh': 756,\n",
       " 'say': 757,\n",
       " 'yo': 758,\n",
       " 'days': 759,\n",
       " 'our': 760,\n",
       " 'lives': 761,\n",
       " 'meets': 762,\n",
       " 'electric': 763,\n",
       " 'boogaloo': 764,\n",
       " 'bizarre': 765,\n",
       " 'curiosity': 766,\n",
       " 'memorable': 767,\n",
       " 'mainly': 768,\n",
       " 'fritters': 769,\n",
       " 'away': 770,\n",
       " 'potentially': 771,\n",
       " 'interesting': 772,\n",
       " 'subject': 773,\n",
       " 'matter': 774,\n",
       " 'via': 775,\n",
       " 'banal': 776,\n",
       " 'script': 777,\n",
       " 'unimpressive': 778,\n",
       " 'acting': 779,\n",
       " 'indifferent': 780,\n",
       " 'direction': 781,\n",
       " 'divine': 782,\n",
       " 'secrets': 783,\n",
       " 'ya': 784,\n",
       " 'sisterhood': 785,\n",
       " 'suffers': 786,\n",
       " 'ploddingly': 787,\n",
       " 'melodramatic': 788,\n",
       " 'structure': 789,\n",
       " 'comes': 790,\n",
       " 'rumor': 791,\n",
       " 'muddled': 792,\n",
       " 'drama': 793,\n",
       " 'terms': 794,\n",
       " 'death': 795,\n",
       " 'impersonal': 796,\n",
       " 'generic': 797,\n",
       " 'poor': 798,\n",
       " 'editing': 799,\n",
       " 'bluescreen': 800,\n",
       " 'ultra': 801,\n",
       " 'cheesy': 802,\n",
       " 'highlight': 803,\n",
       " 'radical': 804,\n",
       " 'action': 805,\n",
       " 'twohy': 806,\n",
       " 'yarn': 807,\n",
       " 'spinner': 808,\n",
       " 'compels': 809,\n",
       " 'truly': 810,\n",
       " 'perfect': 811,\n",
       " 'example': 812,\n",
       " 'how': 813,\n",
       " 'art': 814,\n",
       " 'when': 815,\n",
       " 'done': 816,\n",
       " 'right': 817,\n",
       " 'help': 818,\n",
       " 'clarify': 819,\n",
       " 'comfort': 820,\n",
       " 'people': 821,\n",
       " 'jessica': 822,\n",
       " 'recognizable': 823,\n",
       " 'true': 824,\n",
       " 'exudes': 825,\n",
       " 'urbane': 826,\n",
       " 'sweetness': 827,\n",
       " 'woody': 828,\n",
       " 'allen': 829,\n",
       " 'bitterly': 830,\n",
       " 'forsaken': 831,\n",
       " 'provocative': 832,\n",
       " 'impossible': 833,\n",
       " 'gets': 834,\n",
       " 'skin': 835,\n",
       " 'man': 836,\n",
       " 'only': 837,\n",
       " 'evil': 838,\n",
       " 'monstrous': 839,\n",
       " 'lunatic': 840,\n",
       " 'devoid': 841,\n",
       " 'pleasure': 842,\n",
       " 'sensuality': 843,\n",
       " 'dubbed': 844,\n",
       " 'hedonistic': 845,\n",
       " 'fun': 846,\n",
       " 'adventure': 847,\n",
       " 'kids': 848,\n",
       " 'ages': 849,\n",
       " 'conventional': 850,\n",
       " 'heartwarming': 851,\n",
       " 'element': 852,\n",
       " 'whether': 853,\n",
       " 'change': 854,\n",
       " 'titles': 855,\n",
       " 'distributors': 856,\n",
       " 'again': 857,\n",
       " 'closing': 858,\n",
       " 'credits': 859,\n",
       " 'roll': 860,\n",
       " 'gifted': 861,\n",
       " 'pearce': 862,\n",
       " 'hand': 863,\n",
       " 'keep': 864,\n",
       " 'semi': 865,\n",
       " 'stable': 866,\n",
       " 'ground': 867,\n",
       " 'dramatically': 868,\n",
       " 'retooled': 869,\n",
       " 'machine': 870,\n",
       " 'effective': 871,\n",
       " 'achieving': 872,\n",
       " 'modest': 873,\n",
       " 'crowd': 874,\n",
       " 'pleasing': 875,\n",
       " 'goals': 876,\n",
       " 'sets': 877,\n",
       " 'itself': 878,\n",
       " 'twenty': 879,\n",
       " 'years': 880,\n",
       " 'later': 881,\n",
       " 'touchstone': 882,\n",
       " 'paper': 883,\n",
       " 'thin': 884,\n",
       " 'personalities': 885,\n",
       " 'undergo': 886,\n",
       " 'changes': 887,\n",
       " 'suits': 888,\n",
       " 'fairly': 889,\n",
       " 'enjoyable': 890,\n",
       " 'mixture': 891,\n",
       " 'longest': 892,\n",
       " 'yard': 893,\n",
       " 'guy': 894,\n",
       " 'ritchie': 895,\n",
       " 'caper': 896,\n",
       " 'lock': 897,\n",
       " 'stock': 898,\n",
       " 'smoking': 899,\n",
       " 'barrels': 900,\n",
       " 'dim': 901,\n",
       " 'witted': 902,\n",
       " 'pairing': 903,\n",
       " 'speak': 904,\n",
       " 'animal': 905,\n",
       " 'gibberish': 906,\n",
       " 'marinated': 907,\n",
       " 'clich': 908,\n",
       " 'mawkish': 909,\n",
       " 'grabs': 910,\n",
       " 'shakes': 911,\n",
       " 'vigorously': 912,\n",
       " 'duration': 913,\n",
       " 'preposterous': 914,\n",
       " 'prurient': 915,\n",
       " 'whodunit': 916,\n",
       " 'time': 917,\n",
       " 'spend': 918,\n",
       " 'inside': 919,\n",
       " 'compelling': 920,\n",
       " 'prescient': 921,\n",
       " 'viewing': 922,\n",
       " 'somber': 923,\n",
       " 'completely': 924,\n",
       " 'unrelieved': 925,\n",
       " 'beyond': 926,\n",
       " 'wistful': 927,\n",
       " 'everyday': 928,\n",
       " 'ironies': 929,\n",
       " 'cq': 930,\n",
       " 'reflection': 931,\n",
       " 'artists': 932,\n",
       " 'love': 933,\n",
       " 'suggests': 934,\n",
       " 'voice': 935,\n",
       " 'deserves': 936,\n",
       " 'considered': 937,\n",
       " 'successor': 938,\n",
       " 'european': 939,\n",
       " 'directors': 940,\n",
       " 'moviegoing': 941,\n",
       " 'equivalent': 942,\n",
       " 'dinner': 943,\n",
       " 'party': 944,\n",
       " 'being': 945,\n",
       " 'forced': 946,\n",
       " 'watch': 947,\n",
       " 'host': 948,\n",
       " 'hostess': 949,\n",
       " 'video': 950,\n",
       " 'baby': 951,\n",
       " 'birth': 952,\n",
       " 'goes': 953,\n",
       " 'panic': 954,\n",
       " 'battle': 955,\n",
       " 'witlessness': 956,\n",
       " 'between': 957,\n",
       " 'bright': 958,\n",
       " 'mother': 959,\n",
       " 'daughter': 960,\n",
       " 'capable': 961,\n",
       " 'trio': 962,\n",
       " 'criminals': 963,\n",
       " 'recording': 964,\n",
       " 'session': 965,\n",
       " 'enlightening': 966,\n",
       " 'appreciative': 967,\n",
       " 'depends': 968,\n",
       " 'level': 969,\n",
       " 'fandom': 970,\n",
       " 'deny': 971,\n",
       " 'seriousness': 972,\n",
       " 'quality': 973,\n",
       " 'transcends': 974,\n",
       " 'agenda': 975,\n",
       " 'deliver': 976,\n",
       " 'awe': 977,\n",
       " 'inspiring': 978,\n",
       " 'sublime': 979,\n",
       " 'offer': 980,\n",
       " 'fascinating': 981,\n",
       " 'glimpse': 982,\n",
       " 'subculture': 983,\n",
       " 'extreme': 984,\n",
       " 'athletes': 985,\n",
       " 'whose': 986,\n",
       " 'derring': 987,\n",
       " 'do': 988,\n",
       " 'x': 989,\n",
       " 'games': 990,\n",
       " 'solidly': 991,\n",
       " 'sloppy': 992,\n",
       " 'slapstick': 993,\n",
       " 'throwback': 994,\n",
       " 'gone': 995,\n",
       " 'bottom': 996,\n",
       " 'bill': 997,\n",
       " 'fare': 998,\n",
       " 'ghost': 999,\n",
       " ...}"
      ]
     },
     "execution_count": 156,
     "metadata": {},
     "output_type": "execute_result"
    }
   ],
   "source": [
    "vocab.token_to_idx"
   ]
  },
  {
   "cell_type": "code",
   "execution_count": 157,
   "metadata": {},
   "outputs": [
    {
     "data": {
      "text/plain": [
       "100"
      ]
     },
     "execution_count": 157,
     "metadata": {},
     "output_type": "execute_result"
    }
   ],
   "source": [
    "vocab.max_len"
   ]
  },
  {
   "cell_type": "code",
   "execution_count": 158,
   "metadata": {},
   "outputs": [],
   "source": [
    "class ReviewDataset(Dataset):\n",
    "  def __init__(self, X, y, vocab):\n",
    "    self.X = X\n",
    "    self.y = y\n",
    "    self.vocab = vocab\n",
    "\n",
    "  def vectorize(self, review):\n",
    "    '''Генерирует представление отзыва review при помощи бинарного кодирования (см. 1.2)'''\n",
    "    review_rep = []\n",
    "    for rev in review:\n",
    "        rep = []\n",
    "        for w in word_tokenize(preprocess_text(rev[0])):\n",
    "            if w in vocab.token_to_idx:\n",
    "                rep.append(vocab.token_to_idx[w])\n",
    "            else:\n",
    "                rep.append(0)\n",
    "        review_rep.append(torch.tensor(rep+[0]*(vocab.max_len-len(rep))))\n",
    "    self.X_rep = torch.stack(review_rep)\n",
    "    \n",
    "  def __len__(self):\n",
    "    return len(self.X_rep)\n",
    "\n",
    "  def __getitem__(self, idx):\n",
    "    sample = self.X_rep[idx], self.y.values[idx]\n",
    "    return sample"
   ]
  },
  {
   "cell_type": "code",
   "execution_count": 159,
   "metadata": {},
   "outputs": [],
   "source": [
    "data_train = ReviewDataset(X_train, y_train, vocab)\n",
    "data_train.vectorize(X_train.values)"
   ]
  },
  {
   "cell_type": "code",
   "execution_count": 160,
   "metadata": {},
   "outputs": [],
   "source": [
    "data_test = ReviewDataset(X_test, y_test, vocab)\n",
    "data_test.vectorize(X_test.values)"
   ]
  },
  {
   "cell_type": "code",
   "execution_count": 161,
   "metadata": {},
   "outputs": [],
   "source": [
    "train_loader = DataLoader(data_train, batch_size = 50, shuffle = True)\n",
    "test_loader = DataLoader(data_test, batch_size = 50, shuffle = True)"
   ]
  },
  {
   "cell_type": "code",
   "execution_count": 162,
   "metadata": {},
   "outputs": [
    {
     "data": {
      "text/plain": [
       "16406"
      ]
     },
     "execution_count": 162,
     "metadata": {},
     "output_type": "execute_result"
    }
   ],
   "source": [
    "vocab.vocab_len"
   ]
  },
  {
   "cell_type": "code",
   "execution_count": 163,
   "metadata": {},
   "outputs": [
    {
     "data": {
      "text/plain": [
       "100"
      ]
     },
     "execution_count": 163,
     "metadata": {},
     "output_type": "execute_result"
    }
   ],
   "source": [
    "vocab.max_len"
   ]
  },
  {
   "cell_type": "code",
   "execution_count": 164,
   "metadata": {},
   "outputs": [
    {
     "data": {
      "text/plain": [
       "(tensor([ 1,  2,  3,  4,  5,  6,  7,  8,  9, 10, 11,  0,  0,  0,  0,  0,  0,  0,\n",
       "          0,  0,  0,  0,  0,  0,  0,  0,  0,  0,  0,  0,  0,  0,  0,  0,  0,  0,\n",
       "          0,  0,  0,  0,  0,  0,  0,  0,  0,  0,  0,  0,  0,  0,  0,  0,  0,  0,\n",
       "          0,  0,  0,  0,  0,  0,  0,  0,  0,  0,  0,  0,  0,  0,  0,  0,  0,  0,\n",
       "          0,  0,  0,  0,  0,  0,  0,  0,  0,  0,  0,  0,  0,  0,  0,  0,  0,  0,\n",
       "          0,  0,  0,  0,  0,  0,  0,  0,  0,  0]),\n",
       " 1)"
      ]
     },
     "execution_count": 164,
     "metadata": {},
     "output_type": "execute_result"
    }
   ],
   "source": [
    "z = next(iter(data_train))\n",
    "z"
   ]
  },
  {
   "cell_type": "code",
   "execution_count": 165,
   "metadata": {},
   "outputs": [
    {
     "name": "stdout",
     "output_type": "stream",
     "text": [
      "ex1: torch.Size([1, 50, 100])\n",
      "ex2: torch.Size([1, 64, 49])\n",
      "ex3: torch.Size([1, 70, 47])\n",
      "ex4: torch.Size([1, 70, 23])\n"
     ]
    }
   ],
   "source": [
    "emb = nn.Embedding(vocab.vocab_len, 50)\n",
    "ex1 = emb(torch.LongTensor(z[0])).view(1,50,100)\n",
    "print('ex1:', ex1.shape)\n",
    "\n",
    "conv1 = nn.Conv1d(50, 64, kernel_size=3)\n",
    "ex2 = F.max_pool1d(conv1(ex1), 2)\n",
    "print('ex2:', ex2.shape)\n",
    "\n",
    "conv2 = nn.Conv1d(64, 70, kernel_size=3)\n",
    "ex3 = conv2(ex2)\n",
    "print('ex3:', ex3.shape)\n",
    "ex4 = F.max_pool1d(ex3, 2)\n",
    "print('ex4:', ex4.shape)"
   ]
  },
  {
   "cell_type": "code",
   "execution_count": 166,
   "metadata": {},
   "outputs": [
    {
     "name": "stdout",
     "output_type": "stream",
     "text": [
      "epoch 0: train_loss = 0.69471183, test_loss = 0.69374555\n",
      "Точность на тестовой выборке: 0.49507735583684953\n",
      "epoch 1: train_loss = 0.69360376, test_loss = 0.69293323\n",
      "Точность на тестовой выборке: 0.5058602906704173\n",
      "epoch 2: train_loss = 0.69305710, test_loss = 0.69579645\n",
      "Точность на тестовой выборке: 0.483356774496015\n",
      "epoch 3: train_loss = 0.69319693, test_loss = 0.69460629\n",
      "Точность на тестовой выборке: 0.4866385372714487\n",
      "epoch 4: train_loss = 0.69325252, test_loss = 0.69538207\n",
      "Точность на тестовой выборке: 0.48148148148148145\n",
      "epoch 5: train_loss = 0.69299852, test_loss = 0.69275366\n",
      "Точность на тестовой выборке: 0.5142991092358181\n",
      "epoch 6: train_loss = 0.69207950, test_loss = 0.68985604\n",
      "Точность на тестовой выборке: 0.5349273323956868\n",
      "epoch 7: train_loss = 0.68700361, test_loss = 0.68560568\n",
      "Точность на тестовой выборке: 0.5588373183309893\n",
      "epoch 8: train_loss = 0.67693610, test_loss = 0.69378558\n",
      "Точность на тестовой выборке: 0.5461790904828879\n",
      "epoch 9: train_loss = 0.65586849, test_loss = 0.67930065\n",
      "Точность на тестовой выборке: 0.5757149554617909\n",
      "epoch 10: train_loss = 0.63195147, test_loss = 0.65431917\n",
      "Точность на тестовой выборке: 0.6155649320206282\n",
      "epoch 11: train_loss = 0.59848664, test_loss = 0.65928256\n",
      "Точность на тестовой выборке: 0.6211908110642288\n",
      "epoch 12: train_loss = 0.56764400, test_loss = 0.64530436\n",
      "Точность на тестовой выборке: 0.6465072667604314\n",
      "epoch 13: train_loss = 0.52911848, test_loss = 0.67604834\n",
      "Точность на тестовой выборке: 0.6418190342240975\n",
      "epoch 14: train_loss = 0.50079505, test_loss = 0.65119054\n",
      "Точность на тестовой выборке: 0.6624472573839663\n",
      "epoch 15: train_loss = 0.47281207, test_loss = 0.62439553\n",
      "Точность на тестовой выборке: 0.6713548992030005\n",
      "epoch 16: train_loss = 0.43889511, test_loss = 0.64430822\n",
      "Точность на тестовой выборке: 0.6774496015002344\n",
      "epoch 17: train_loss = 0.41327201, test_loss = 0.66455103\n",
      "Точность на тестовой выборке: 0.6788560712611346\n",
      "epoch 18: train_loss = 0.38920191, test_loss = 0.65100927\n",
      "Точность на тестовой выборке: 0.6910454758556024\n",
      "epoch 19: train_loss = 0.36711054, test_loss = 0.67634075\n",
      "Точность на тестовой выборке: 0.6924519456165026\n",
      "epoch 20: train_loss = 0.33895675, test_loss = 0.70050032\n",
      "Точность на тестовой выборке: 0.6957337083919363\n",
      "epoch 21: train_loss = 0.31588617, test_loss = 0.74763680\n",
      "Точность на тестовой выборке: 0.6943272386310361\n",
      "epoch 22: train_loss = 0.29402829, test_loss = 0.67696446\n",
      "Точность на тестовой выборке: 0.69901547116737\n",
      "epoch 23: train_loss = 0.26940928, test_loss = 0.79279133\n",
      "Точность на тестовой выборке: 0.7051101734646038\n"
     ]
    }
   ],
   "source": [
    "losses = []\n",
    "\n",
    "class Model(nn.Module):\n",
    "  def __init__(self):\n",
    "    super().__init__()\n",
    "    self.conv1 = nn.Conv1d(50, 64, kernel_size=3)\n",
    "    self.conv2 = nn.Conv1d(64, 70, kernel_size=3)\n",
    "    self.conv2_drop = nn.Dropout1d(0.2) \n",
    "    self.fc1 = nn.Linear(1*70*23, 256)\n",
    "    self.fc2 = nn.Linear(256, 128)\n",
    "    self.fc3 = nn.Linear(128,2)\n",
    "    self.emb = nn.Embedding(vocab.vocab_len, 50)\n",
    "    self.emb.requires_grad = True\n",
    "    \n",
    "  def forward(self, X):\n",
    "    X = self.emb(torch.LongTensor(X)).view(X.shape[0],50,100)\n",
    "    X = F.relu(F.max_pool1d(self.conv2_drop(self.conv1(X)), 2)) # первый сверточный слой\n",
    "    X = F.relu(F.max_pool1d(self.conv2_drop(self.conv2(X)), 2)) # первый сверточный слой\n",
    "    X = X.view(-1, 1*70*23)\n",
    "    X = F.dropout(X, 0.4)\n",
    "    X = F.dropout(nn.ReLU()(self.fc1(X)), 0.25) # первый полносвязный слой\n",
    "    X = F.dropout(nn.ReLU()(self.fc2(X)), 0.2) # первый полносвязный слой\n",
    "    y_pred = self.fc3(X) # третий полносвязный слой\n",
    "    return y_pred\n",
    "\n",
    "model2 = Model()\n",
    "\n",
    "criterion = nn.CrossEntropyLoss()\n",
    "\n",
    "optimizer = torch.optim.Adam(model2.parameters(), lr=0.0005)\n",
    "\n",
    "train_losses = []\n",
    "test_losses = []\n",
    "\n",
    "for i in range(25):\n",
    "    model2.train()\n",
    "    losses_epoch_train = []\n",
    "    losses_epoch_test = []\n",
    "    y_pred_test = []\n",
    "    y_true_test = []\n",
    "    for x_example, y_example in train_loader:\n",
    "        y_pred = model2(x_example)\n",
    "    \n",
    "        loss = criterion(y_pred, y_example.long())\n",
    "        losses_epoch_train.append(loss.item())\n",
    "        loss.backward()\n",
    "        \n",
    "        optimizer.step()\n",
    "        optimizer.zero_grad()\n",
    "        \n",
    "    for x_example, y_example in test_loader:\n",
    "        y_pred = model2(x_example)\n",
    "    \n",
    "        loss = criterion(y_pred, y_example.long())\n",
    "        losses_epoch_test.append(loss.item())\n",
    "        \n",
    "        y_pred_test.extend(y_pred)\n",
    "        y_true_test.extend(y_example)\n",
    "    \n",
    "    train_losses.append(np.mean(losses_epoch_train))\n",
    "    test_losses.append(np.mean(losses_epoch_test))\n",
    "    y_pred_test = list(map(lambda x: torch.argmax(x).item(), y_pred_test))\n",
    "    y_true_test = list(map(lambda x: x.item(), y_true_test))\n",
    "    print(f'epoch {i}: train_loss = {np.mean(losses_epoch_train):.8f}, test_loss = {np.mean(losses_epoch_test):.8f}') \n",
    "    print('Точность на тестовой выборке:', accuracy_score(y_true_test, y_pred_test))\n",
    "    if accuracy_score(y_true_test, y_pred_test)>0.7:\n",
    "        break"
   ]
  },
  {
   "cell_type": "code",
   "execution_count": 175,
   "metadata": {},
   "outputs": [],
   "source": [
    "y_pred = []\n",
    "y_true = []\n",
    "for x,y in test_loader:\n",
    "    y_pred.extend(model2(x))\n",
    "    y_true.extend(y)\n",
    "y_pred = list(map(lambda x: torch.argmax(x).item(), y_pred))\n",
    "y_true = list(map(lambda x: x.item(), y_true))"
   ]
  },
  {
   "cell_type": "code",
   "execution_count": 176,
   "metadata": {},
   "outputs": [],
   "source": [
    "from sklearn.metrics import confusion_matrix\n",
    "\n",
    "cf_matrix = confusion_matrix(y_true, y_pred)"
   ]
  },
  {
   "cell_type": "code",
   "execution_count": 177,
   "metadata": {},
   "outputs": [
    {
     "data": {
      "image/png": "[encoded data removed]",
      "text/plain": [
       "<Figure size 640x480 with 2 Axes>"
      ]
     },
     "metadata": {},
     "output_type": "display_data"
    }
   ],
   "source": [
    "import seaborn as sns\n",
    "import matplotlib.pyplot as plt\n",
    "\n",
    "ax = sns.heatmap(cf_matrix, annot=True)\n",
    "plt.show()"
   ]
  },
  {
   "cell_type": "code",
   "execution_count": 178,
   "metadata": {},
   "outputs": [
    {
     "name": "stdout",
     "output_type": "stream",
     "text": [
      "Точность на тестовой выборке: 0.7027660571964369\n"
     ]
    }
   ],
   "source": [
    "from sklearn.metrics import accuracy_score\n",
    "print('Точность на тестовой выборке:', accuracy_score(y_true, y_pred))"
   ]
  },
  {
   "cell_type": "code",
   "execution_count": 179,
   "metadata": {},
   "outputs": [],
   "source": [
    "surname = pd.Series([['very cool movie! I advise everyone to watch this amazing movie!'],['it was boring and just awful! I do not advise anyone to watch this movie']])\n",
    "data_test.vectorize(surname)"
   ]
  },
  {
   "cell_type": "code",
   "execution_count": 190,
   "metadata": {},
   "outputs": [],
   "source": [
    "y_pred = []\n",
    "for x,y in data_test:\n",
    "    y_pred.append(model2(x.reshape(1,x.shape[0])))"
   ]
  },
  {
   "cell_type": "code",
   "execution_count": 191,
   "metadata": {},
   "outputs": [
    {
     "name": "stdout",
     "output_type": "stream",
     "text": [
      "Отзыв: ['very cool movie! I advise everyone to watch this amazing movie!']\n",
      "С вероятностью  0.8244079351425171 положительный отзыв\n",
      "Отзыв: ['it was boring and just awful! I do not advise anyone to watch this movie']\n",
      "С вероятностью  0.9970511198043823 отрицательный отзыв\n"
     ]
    }
   ],
   "source": [
    "for i in range(2):\n",
    "    y = y_pred[i]\n",
    "    print('Отзыв:',surname[i])\n",
    "    if y.argmax()==1:\n",
    "        print('С вероятностью ', max(nn.Softmax(dim = 0)(y.float()[0])).item(), 'отрицательный отзыв')\n",
    "    else:\n",
    "        print('С вероятностью ', max(nn.Softmax(dim = 0)(y.float()[0])).item(), 'положительный отзыв')"
   ]
  },
  {
   "cell_type": "code",
   "execution_count": null,
   "metadata": {},
   "outputs": [],
   "source": []
  }
 ],
 "metadata": {
  "accelerator": "GPU",
  "colab": {
   "collapsed_sections": [],
   "name": "blank__06_CNN_embeddings_v2.ipynb",
   "provenance": [],
   "toc_visible": true
  },
  "kernelspec": {
   "display_name": "Python 3 (ipykernel)",
   "language": "python",
   "name": "python3"
  },
  "language_info": {
   "codemirror_mode": {
    "name": "ipython",
    "version": 3
   },
   "file_extension": ".py",
   "mimetype": "text/x-python",
   "name": "python",
   "nbconvert_exporter": "python",
   "pygments_lexer": "ipython3",
   "version": "3.11.4"
  }
 },
 "nbformat": 4,
 "nbformat_minor": 1
}
