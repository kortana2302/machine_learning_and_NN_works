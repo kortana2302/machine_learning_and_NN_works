{
 "cells": [
  {
   "cell_type": "markdown",
   "id": "22a17ef7",
   "metadata": {
    "id": "22a17ef7"
   },
   "source": [
    "# Графовые нейронные сети"
   ]
  },
  {
   "cell_type": "markdown",
   "id": "3aecb75f",
   "metadata": {
    "id": "3aecb75f"
   },
   "source": [
    "Материалы:\n",
    "* Макрушин С.В. Курс \"Машинное обучение на графах\", Лекции 4-5 \"Графовые нейронные сети\"\n",
    "* Документация:\n",
    "    * https://docs.dgl.ai/en/0.6.x/tutorials/blitz/2_dglgraph.html#sphx-glr-tutorials-blitz-2-dglgraph-py\n",
    "    * https://docs.dgl.ai/en/0.6.x/tutorials/blitz/1_introduction.html#sphx-glr-tutorials-blitz-1-introduction-py\n",
    "    * https://docs.dgl.ai/generated/dgl.nn.pytorch.conv.GraphConv.html#dgl.nn.pytorch.conv.GraphConv\n",
    "    * https://docs.dgl.ai/api/python/dgl.data.html\n",
    "    \n",
    "Настройка окружения (Google Colab)\n",
    "\n",
    "```\n",
    "!pip install dgl\n",
    "```"
   ]
  },
  {
   "cell_type": "markdown",
   "id": "6fCvI-o5LJYd",
   "metadata": {
    "id": "6fCvI-o5LJYd"
   },
   "source": [
    "## Работа с графами в dgl"
   ]
  },
  {
   "cell_type": "code",
   "execution_count": 2,
   "id": "heani7-Z6gPK",
   "metadata": {
    "colab": {
     "base_uri": "https://localhost:8080/"
    },
    "id": "heani7-Z6gPK",
    "outputId": "8cbbfe24-f3ae-4a89-9951-9d2b0d74fb74"
   },
   "outputs": [
    {
     "name": "stdout",
     "output_type": "stream",
     "text": [
      "Collecting dgl\n",
      "  Downloading dgl-0.6.1-cp37-cp37m-manylinux1_x86_64.whl (4.4 MB)\n",
      "\u001b[K     |████████████████████████████████| 4.4 MB 5.1 MB/s \n",
      "\u001b[?25hRequirement already satisfied: networkx>=2.1 in /usr/local/lib/python3.7/dist-packages (from dgl) (2.6.3)\n",
      "Requirement already satisfied: numpy>=1.14.0 in /usr/local/lib/python3.7/dist-packages (from dgl) (1.21.6)\n",
      "Requirement already satisfied: scipy>=1.1.0 in /usr/local/lib/python3.7/dist-packages (from dgl) (1.4.1)\n",
      "Requirement already satisfied: requests>=2.19.0 in /usr/local/lib/python3.7/dist-packages (from dgl) (2.23.0)\n",
      "Requirement already satisfied: certifi>=2017.4.17 in /usr/local/lib/python3.7/dist-packages (from requests>=2.19.0->dgl) (2021.10.8)\n",
      "Requirement already satisfied: urllib3!=1.25.0,!=1.25.1,<1.26,>=1.21.1 in /usr/local/lib/python3.7/dist-packages (from requests>=2.19.0->dgl) (1.24.3)\n",
      "Requirement already satisfied: chardet<4,>=3.0.2 in /usr/local/lib/python3.7/dist-packages (from requests>=2.19.0->dgl) (3.0.4)\n",
      "Requirement already satisfied: idna<3,>=2.5 in /usr/local/lib/python3.7/dist-packages (from requests>=2.19.0->dgl) (2.10)\n",
      "Installing collected packages: dgl\n",
      "Successfully installed dgl-0.6.1\n"
     ]
    }
   ],
   "source": [
    "!pip install dgl"
   ]
  },
  {
   "cell_type": "markdown",
   "id": "6DG7SoPoL4m1",
   "metadata": {
    "id": "6DG7SoPoL4m1"
   },
   "source": [
    "1.1 Cоздайте граф \"путь\", состоящий из 5 вершин, и представьте его в виде `dgl.graph`. Создайте двумерный тензор размера 5х2 и сохраните его в качестве атрибутов узлов `features`. Выведите основные характеристики графа: количество узлов, количество ребер, размерность признаков узлов. Выведите входящую и исходящую степень узлов."
   ]
  },
  {
   "cell_type": "code",
   "execution_count": 3,
   "id": "xJgw8M0c3WXm",
   "metadata": {
    "colab": {
     "base_uri": "https://localhost:8080/"
    },
    "id": "xJgw8M0c3WXm",
    "outputId": "f5d6ba83-8aed-407d-dfa2-6afe0149ada8"
   },
   "outputs": [
    {
     "name": "stderr",
     "output_type": "stream",
     "text": [
      "DGL backend not selected or invalid.  Assuming PyTorch for now.\n"
     ]
    },
    {
     "name": "stdout",
     "output_type": "stream",
     "text": [
      "Setting the default backend to \"pytorch\". You can change it in the ~/.dgl/config.json file or export the DGLBACKEND environment variable.  Valid options are: pytorch, mxnet, tensorflow (all lowercase)\n"
     ]
    },
    {
     "name": "stderr",
     "output_type": "stream",
     "text": [
      "Using backend: pytorch\n"
     ]
    }
   ],
   "source": [
    "import dgl\n",
    "import torch"
   ]
  },
  {
   "cell_type": "code",
   "execution_count": 4,
   "id": "CiZDM4sH8Bsd",
   "metadata": {
    "colab": {
     "base_uri": "https://localhost:8080/"
    },
    "id": "CiZDM4sH8Bsd",
    "outputId": "718022b1-c4f6-46d7-f339-00d219013076"
   },
   "outputs": [
    {
     "data": {
      "text/plain": [
       "Graph(num_nodes=5, num_edges=6,\n",
       "      ndata_schemes={'feat': Scheme(shape=(2,), dtype=torch.float32)}\n",
       "      edata_schemes={})"
      ]
     },
     "execution_count": 4,
     "metadata": {},
     "output_type": "execute_result"
    }
   ],
   "source": [
    "g = dgl.graph(\n",
    "    (\n",
    "        (0,1,2,3,1,2),\n",
    "        (1,2,3,4,0,1)\n",
    "    )\n",
    ")\n",
    "g.ndata['feat'] = torch.rand(5,2)\n",
    "g"
   ]
  },
  {
   "cell_type": "code",
   "execution_count": 9,
   "id": "Mv81foN2mOe8",
   "metadata": {
    "colab": {
     "base_uri": "https://localhost:8080/"
    },
    "id": "Mv81foN2mOe8",
    "outputId": "aec63fc4-2d89-4a96-9bde-09988883e88e"
   },
   "outputs": [
    {
     "data": {
      "text/plain": [
       "5"
      ]
     },
     "execution_count": 9,
     "metadata": {},
     "output_type": "execute_result"
    }
   ],
   "source": [
    "g.number_of_nodes()#колво узлов"
   ]
  },
  {
   "cell_type": "code",
   "execution_count": 11,
   "id": "F6nOiFZ6mmeL",
   "metadata": {
    "colab": {
     "base_uri": "https://localhost:8080/"
    },
    "id": "F6nOiFZ6mmeL",
    "outputId": "68ed3418-275f-42e3-ff51-6c4a11f22450"
   },
   "outputs": [
    {
     "data": {
      "text/plain": [
       "6"
      ]
     },
     "execution_count": 11,
     "metadata": {},
     "output_type": "execute_result"
    }
   ],
   "source": [
    "g.number_of_edges()#колво ребер"
   ]
  },
  {
   "cell_type": "code",
   "execution_count": 17,
   "id": "4RpF63A4mvLK",
   "metadata": {
    "colab": {
     "base_uri": "https://localhost:8080/"
    },
    "id": "4RpF63A4mvLK",
    "outputId": "d21450c8-2165-4a1c-e8fd-bb2d22f66a31"
   },
   "outputs": [
    {
     "data": {
      "text/plain": [
       "2"
      ]
     },
     "execution_count": 17,
     "metadata": {},
     "output_type": "execute_result"
    }
   ],
   "source": [
    "g.ndata['feat'].shape[1]#размерность признаков узлов"
   ]
  },
  {
   "cell_type": "code",
   "execution_count": 13,
   "id": "Zc7XyUVxmve_",
   "metadata": {
    "colab": {
     "base_uri": "https://localhost:8080/"
    },
    "id": "Zc7XyUVxmve_",
    "outputId": "d77ee7ff-c94b-4b27-c08d-f6c62e7b55e2"
   },
   "outputs": [
    {
     "data": {
      "text/plain": [
       "tensor([1, 2, 1, 1, 1])"
      ]
     },
     "execution_count": 13,
     "metadata": {},
     "output_type": "execute_result"
    }
   ],
   "source": [
    "g.in_degrees()#входящая степень узлов"
   ]
  },
  {
   "cell_type": "code",
   "execution_count": 14,
   "id": "yP2Dd-9Wnj8M",
   "metadata": {
    "colab": {
     "base_uri": "https://localhost:8080/"
    },
    "id": "yP2Dd-9Wnj8M",
    "outputId": "3bed53f6-ed6f-4946-e695-241ecbdfe667"
   },
   "outputs": [
    {
     "data": {
      "text/plain": [
       "tensor([1, 2, 2, 1, 0])"
      ]
     },
     "execution_count": 14,
     "metadata": {},
     "output_type": "execute_result"
    }
   ],
   "source": [
    "g.out_degrees()#исходящая степень узлов"
   ]
  },
  {
   "cell_type": "markdown",
   "id": "Vb1dwbKIMyfV",
   "metadata": {
    "id": "Vb1dwbKIMyfV"
   },
   "source": [
    "1.2 Загрузите граф \"Карате Клуб\" из `networkx.` Закодируйте значения атрибута `club` на узлах числами 0 (для клуба \"Mr. Hi\") и 1 (для клуба \"Officer\"). Преобразуйте его к графу `dgl.graph` при помощи `dgl.from_networkx`, сохранив значения атрибута узлов `club`. Добавьте в качестве атрибутов узлов единичную матрицу размера 34х34. Выведите основные характеристики графа: количество узлов, количество ребер, размерность признаков узлов, кол-во уникальных классов узлов."
   ]
  },
  {
   "cell_type": "markdown",
   "id": "4ele4YD11RD6",
   "metadata": {
    "id": "4ele4YD11RD6"
   },
   "source": [
    "1.3 Загрузите датасет `CoraFullDataset` из `dgl.data`. Этот датасет состоит из одного графа. Выведите основные характеристики графа: количество узлов, количество ребер, размерность признаков узлов, кол-во уникальных классов узлов."
   ]
  },
  {
   "cell_type": "code",
   "execution_count": 18,
   "id": "BUFZ2b-I9mZE",
   "metadata": {
    "colab": {
     "base_uri": "https://localhost:8080/"
    },
    "id": "BUFZ2b-I9mZE",
    "outputId": "809aae13-2896-49ec-d3ef-53bbdd9c5f36"
   },
   "outputs": [
    {
     "name": "stdout",
     "output_type": "stream",
     "text": [
      "Downloading /root/.dgl/cora_full.zip from https://data.dgl.ai/dataset/cora_full.zip...\n",
      "Extracting file to /root/.dgl/cora_full\n"
     ]
    }
   ],
   "source": [
    "data = dgl.data.CoraFullDataset()\n",
    "g = data[0]"
   ]
  },
  {
   "cell_type": "code",
   "execution_count": 19,
   "id": "1_dxyObIn6Lp",
   "metadata": {
    "colab": {
     "base_uri": "https://localhost:8080/"
    },
    "id": "1_dxyObIn6Lp",
    "outputId": "4f9a7a2c-063f-4eee-9df7-e6c3cf0e808a"
   },
   "outputs": [
    {
     "data": {
      "text/plain": [
       "19793"
      ]
     },
     "execution_count": 19,
     "metadata": {},
     "output_type": "execute_result"
    }
   ],
   "source": [
    "g.number_of_nodes()#колво узлов"
   ]
  },
  {
   "cell_type": "code",
   "execution_count": 20,
   "id": "F2H-3m18oBII",
   "metadata": {
    "colab": {
     "base_uri": "https://localhost:8080/"
    },
    "id": "F2H-3m18oBII",
    "outputId": "7000d181-0839-4bd7-b30f-06840210a916"
   },
   "outputs": [
    {
     "data": {
      "text/plain": [
       "126842"
      ]
     },
     "execution_count": 20,
     "metadata": {},
     "output_type": "execute_result"
    }
   ],
   "source": [
    "g.number_of_edges()#колво ребер"
   ]
  },
  {
   "cell_type": "code",
   "execution_count": 21,
   "id": "QkWoQrweoDd8",
   "metadata": {
    "colab": {
     "base_uri": "https://localhost:8080/"
    },
    "id": "QkWoQrweoDd8",
    "outputId": "354fe423-c2f7-4413-9b95-64f5ba1a030a"
   },
   "outputs": [
    {
     "data": {
      "text/plain": [
       "8710"
      ]
     },
     "execution_count": 21,
     "metadata": {},
     "output_type": "execute_result"
    }
   ],
   "source": [
    "g.ndata['feat'].shape[1]#размерность признаков узлов"
   ]
  },
  {
   "cell_type": "code",
   "execution_count": 25,
   "id": "r8mcs5oNoFlQ",
   "metadata": {
    "colab": {
     "base_uri": "https://localhost:8080/"
    },
    "id": "r8mcs5oNoFlQ",
    "outputId": "4dc179a5-dbbe-4e58-da28-fc45cf885c0f"
   },
   "outputs": [
    {
     "data": {
      "text/plain": [
       "70"
      ]
     },
     "execution_count": 25,
     "metadata": {},
     "output_type": "execute_result"
    }
   ],
   "source": [
    "len(g.ndata['label'].unique())#колво уникальных классов"
   ]
  },
  {
   "cell_type": "markdown",
   "id": "EEsS9MLo2pvJ",
   "metadata": {
    "id": "EEsS9MLo2pvJ"
   },
   "source": [
    "1.4 Для графа `CoraFullDataset` выделите подграф (`dgl.node_subgraph`), содержащий узлы, относящиеся к трем наиболее часто встречающимся классам."
   ]
  },
  {
   "cell_type": "markdown",
   "id": "V6M6wKkh1szh",
   "metadata": {
    "id": "V6M6wKkh1szh"
   },
   "source": [
    "## Построение нейронных сетей с использованием `dgl`"
   ]
  },
  {
   "cell_type": "markdown",
   "id": "e1WntrsE23bB",
   "metadata": {
    "id": "e1WntrsE23bB"
   },
   "source": [
    "2.1 Загрузите граф Cora из файла `CoraGraphDataset.dgl.pickle`. Решите задачу классификации узлов графа, используя только полносвязные слои `torch.nn.Linear`. Обратите внимание, что настройка весов модели должна проводиться только на основе примеров из обучающей выборки. Посчитайте значение `accuracy` на тестовой выборке."
   ]
  },
  {
   "cell_type": "code",
   "execution_count": 41,
   "id": "ENgyneIn9_o0",
   "metadata": {
    "id": "ENgyneIn9_o0"
   },
   "outputs": [],
   "source": [
    "import torch.nn as nn\n",
    "import torch.optim as optim"
   ]
  },
  {
   "cell_type": "code",
   "execution_count": 42,
   "id": "TZuo3jA7_SsP",
   "metadata": {
    "id": "TZuo3jA7_SsP"
   },
   "outputs": [],
   "source": [
    "import pickle\n",
    "with open('CoraGraphDataset.dgl.pickle','rb') as f:\n",
    "  g=pickle.load(f)"
   ]
  },
  {
   "cell_type": "code",
   "execution_count": 43,
   "id": "RRkElZxg_iXG",
   "metadata": {
    "colab": {
     "base_uri": "https://localhost:8080/"
    },
    "id": "RRkElZxg_iXG",
    "outputId": "d5656076-b43c-4873-e659-4b99d730ab56"
   },
   "outputs": [
    {
     "data": {
      "text/plain": [
       "Graph(num_nodes=2708, num_edges=10556,\n",
       "      ndata_schemes={'train_mask': Scheme(shape=(), dtype=torch.bool), 'val_mask': Scheme(shape=(), dtype=torch.bool), 'test_mask': Scheme(shape=(), dtype=torch.bool), 'label': Scheme(shape=(), dtype=torch.int64), 'feat': Scheme(shape=(1433,), dtype=torch.float32)}\n",
       "      edata_schemes={'__orig__': Scheme(shape=(), dtype=torch.int64)})"
      ]
     },
     "execution_count": 43,
     "metadata": {},
     "output_type": "execute_result"
    }
   ],
   "source": [
    "g"
   ]
  },
  {
   "cell_type": "code",
   "execution_count": 44,
   "id": "dsPKLa8L_sRB",
   "metadata": {
    "colab": {
     "base_uri": "https://localhost:8080/"
    },
    "id": "dsPKLa8L_sRB",
    "outputId": "cd4779d4-3953-491d-b5bf-62e161228ac8"
   },
   "outputs": [
    {
     "data": {
      "text/plain": [
       "tensor([0, 1, 2, 3, 4, 5, 6])"
      ]
     },
     "execution_count": 44,
     "metadata": {},
     "output_type": "execute_result"
    }
   ],
   "source": [
    "g.ndata['label'].unique()"
   ]
  },
  {
   "cell_type": "code",
   "execution_count": 45,
   "id": "1rEqBmQmoxgu",
   "metadata": {
    "id": "1rEqBmQmoxgu"
   },
   "outputs": [],
   "source": [
    "train=g.ndata['train_mask']\n",
    "test=g.ndata['test_mask']\n",
    "val=g.ndata['val_mask']"
   ]
  },
  {
   "cell_type": "code",
   "execution_count": 46,
   "id": "8UhnjWPT-_xJ",
   "metadata": {
    "colab": {
     "base_uri": "https://localhost:8080/"
    },
    "id": "8UhnjWPT-_xJ",
    "outputId": "e338cbc7-9c2b-405e-c532-9d2ff13d180f"
   },
   "outputs": [
    {
     "name": "stdout",
     "output_type": "stream",
     "text": [
      "0 1.955780029296875\n",
      "1 1.9507275819778442\n",
      "2 1.9450457096099854\n",
      "3 1.938631296157837\n",
      "4 1.931694507598877\n",
      "5 1.9241877794265747\n",
      "6 1.9159188270568848\n",
      "7 1.9068448543548584\n",
      "8 1.896972417831421\n",
      "9 1.8862910270690918\n",
      "10 1.8747689723968506\n",
      "11 1.8623967170715332\n",
      "12 1.8491178750991821\n",
      "13 1.8349114656448364\n",
      "14 1.8197470903396606\n",
      "15 1.8035904169082642\n",
      "16 1.7864506244659424\n",
      "17 1.76829195022583\n",
      "18 1.7491188049316406\n",
      "19 1.7289128303527832\n",
      "20 1.7076746225357056\n",
      "21 1.6853975057601929\n",
      "22 1.6620670557022095\n",
      "23 1.6377354860305786\n",
      "24 1.6124351024627686\n",
      "25 1.5861397981643677\n",
      "26 1.5589102506637573\n",
      "27 1.5307483673095703\n",
      "28 1.501708745956421\n",
      "29 1.4718700647354126\n",
      "30 1.4412333965301514\n",
      "31 1.4098834991455078\n",
      "32 1.3778306245803833\n",
      "33 1.3451805114746094\n",
      "34 1.3119696378707886\n",
      "35 1.2782604694366455\n",
      "36 1.2441449165344238\n",
      "37 1.2096856832504272\n",
      "38 1.174992322921753\n",
      "39 1.1401450634002686\n",
      "40 1.1051747798919678\n",
      "41 1.070152997970581\n",
      "42 1.035197138786316\n",
      "43 1.0003621578216553\n",
      "44 0.9657130837440491\n",
      "45 0.9313628077507019\n",
      "46 0.897391676902771\n",
      "47 0.863810658454895\n",
      "48 0.8307443857192993\n",
      "49 0.7981994152069092\n",
      "50 0.7662864923477173\n",
      "51 0.7349734902381897\n",
      "52 0.7043333053588867\n",
      "53 0.6744089126586914\n",
      "54 0.6452405452728271\n",
      "55 0.6168962717056274\n",
      "56 0.5893728137016296\n",
      "57 0.562693178653717\n",
      "58 0.5368579030036926\n",
      "59 0.5118692517280579\n",
      "60 0.48778006434440613\n",
      "61 0.4645669162273407\n",
      "62 0.4422164857387543\n",
      "63 0.4207766652107239\n",
      "64 0.40022993087768555\n",
      "65 0.38055601716041565\n",
      "66 0.361738383769989\n",
      "67 0.34379875659942627\n",
      "68 0.32670721411705017\n",
      "69 0.31042060256004333\n",
      "70 0.2949461042881012\n",
      "71 0.28024211525917053\n",
      "72 0.26631009578704834\n",
      "73 0.25307559967041016\n",
      "74 0.24057382345199585\n",
      "75 0.22873570024967194\n",
      "76 0.2175515741109848\n",
      "77 0.206984743475914\n",
      "78 0.19701024889945984\n",
      "79 0.1876053810119629\n",
      "80 0.17872639000415802\n",
      "81 0.17035646736621857\n",
      "82 0.16246312856674194\n",
      "83 0.1550138145685196\n",
      "84 0.1479865163564682\n",
      "85 0.14137548208236694\n",
      "86 0.13514287769794464\n",
      "87 0.12926878035068512\n",
      "88 0.12373057752847672\n",
      "89 0.11850758641958237\n",
      "90 0.1135779619216919\n",
      "91 0.10892853140830994\n",
      "92 0.10454843193292618\n",
      "93 0.10041557252407074\n",
      "94 0.09651949256658554\n",
      "95 0.09283798933029175\n",
      "96 0.08935932070016861\n",
      "97 0.08606664091348648\n",
      "98 0.08295285701751709\n",
      "99 0.08000816404819489\n"
     ]
    }
   ],
   "source": [
    "# 1. Определить модель\n",
    "class TwoLayersNet(nn.Module):\n",
    "    def __init__(self, nX, nH, nY):        \n",
    "        super(TwoLayersNet, self).__init__()     \n",
    "         \n",
    "        self.fc1 = nn.Linear(nX, nH)            \n",
    "        self.fc2 = nn.Linear(nH, nY)             \n",
    "          \n",
    "    def forward(self, x):                        \n",
    "        x = self.fc1(x)                          \n",
    "        x = nn.ReLU()(x)                      \n",
    "        x = self.fc2(x)                         \n",
    "        return x\n",
    "\n",
    "model = TwoLayersNet(1433,16,7)\n",
    "X=g.ndata['feat']\n",
    "y=g.ndata['label']\n",
    "#2. Определиться с функцией потерь\n",
    "criterion = nn.CrossEntropyLoss()\n",
    "\n",
    "# 3. Определяемся с методом оптимизации\n",
    "optimizer = torch.optim.Adam(model.parameters(),          \n",
    "                            lr=0.01)\n",
    "\n",
    "# 4. Процесс обучения\n",
    "for i in range(100):\n",
    "  y_pred = model(X[train])\n",
    "  loss = criterion(y_pred,y[train])\n",
    "  loss.backward()\n",
    "  optimizer.step()\n",
    "  optimizer.zero_grad()\n",
    "  print(f'{i} {loss.item()}')"
   ]
  },
  {
   "cell_type": "code",
   "execution_count": 47,
   "id": "eMmrFdSWAjhY",
   "metadata": {
    "id": "eMmrFdSWAjhY"
   },
   "outputs": [],
   "source": [
    "from sklearn.metrics import accuracy_score"
   ]
  },
  {
   "cell_type": "code",
   "execution_count": 48,
   "id": "1ci6KLYsArsU",
   "metadata": {
    "id": "1ci6KLYsArsU"
   },
   "outputs": [],
   "source": [
    "y_pred = model(X[test])\n",
    "y_class=torch.argmax(y_pred,axis=1)"
   ]
  },
  {
   "cell_type": "code",
   "execution_count": 49,
   "id": "ZZQA1MzRBFLc",
   "metadata": {
    "colab": {
     "base_uri": "https://localhost:8080/"
    },
    "id": "ZZQA1MzRBFLc",
    "outputId": "13d5e3e3-edd9-4fb7-cac3-7976e9bb72cf"
   },
   "outputs": [
    {
     "data": {
      "text/plain": [
       "0.469"
      ]
     },
     "execution_count": 49,
     "metadata": {},
     "output_type": "execute_result"
    }
   ],
   "source": [
    "accuracy_score(y[test],y_class)"
   ]
  },
  {
   "cell_type": "markdown",
   "id": "uVUOOsJsAM8r",
   "metadata": {
    "id": "uVUOOsJsAM8r"
   },
   "source": [
    "2.2 Повторите решение задачи 2.1, используя один графовый сверточный слой."
   ]
  },
  {
   "cell_type": "code",
   "execution_count": 56,
   "id": "ZkjjDAaoBgmP",
   "metadata": {
    "colab": {
     "base_uri": "https://localhost:8080/"
    },
    "id": "ZkjjDAaoBgmP",
    "outputId": "9401c4e2-9461-429e-b284-3645da6058f0"
   },
   "outputs": [
    {
     "name": "stderr",
     "output_type": "stream",
     "text": [
      "/usr/local/lib/python3.7/dist-packages/torch/autocast_mode.py:162: UserWarning: User provided device_type of 'cuda', but CUDA is not available. Disabling\n",
      "  warnings.warn('User provided device_type of \\'cuda\\', but CUDA is not available. Disabling')\n"
     ]
    },
    {
     "name": "stdout",
     "output_type": "stream",
     "text": [
      "0 1.9452520608901978\n",
      "1 1.9369977712631226\n",
      "2 1.9287220239639282\n",
      "3 1.9204812049865723\n",
      "4 1.912264108657837\n",
      "5 1.9040582180023193\n",
      "6 1.8958666324615479\n",
      "7 1.8876971006393433\n",
      "8 1.879550814628601\n",
      "9 1.871423363685608\n",
      "10 1.8633135557174683\n",
      "11 1.855223298072815\n",
      "12 1.8471542596817017\n",
      "13 1.839106559753418\n",
      "14 1.8310807943344116\n",
      "15 1.8230769634246826\n",
      "16 1.8150947093963623\n",
      "17 1.8071346282958984\n",
      "18 1.7991971969604492\n",
      "19 1.7912832498550415\n",
      "20 1.7833929061889648\n",
      "21 1.775526523590088\n",
      "22 1.7676838636398315\n",
      "23 1.7598652839660645\n",
      "24 1.7520713806152344\n",
      "25 1.74430251121521\n",
      "26 1.7365589141845703\n",
      "27 1.7288405895233154\n",
      "28 1.721148133277893\n",
      "29 1.7134819030761719\n",
      "30 1.7058415412902832\n",
      "31 1.6982274055480957\n",
      "32 1.6906399726867676\n",
      "33 1.683079719543457\n",
      "34 1.6755465269088745\n",
      "35 1.668040156364441\n",
      "36 1.660561203956604\n",
      "37 1.653110146522522\n",
      "38 1.6456868648529053\n",
      "39 1.638291597366333\n",
      "40 1.6309244632720947\n",
      "41 1.6235853433609009\n",
      "42 1.6162748336791992\n",
      "43 1.6089926958084106\n",
      "44 1.601739525794983\n",
      "45 1.5945148468017578\n",
      "46 1.5873193740844727\n",
      "47 1.5801526308059692\n",
      "48 1.5730154514312744\n",
      "49 1.56590735912323\n",
      "50 1.558828592300415\n",
      "51 1.5517792701721191\n",
      "52 1.5447596311569214\n",
      "53 1.5377695560455322\n",
      "54 1.5308090448379517\n",
      "55 1.5238782167434692\n",
      "56 1.5169774293899536\n",
      "57 1.5101065635681152\n",
      "58 1.5032655000686646\n",
      "59 1.4964542388916016\n",
      "60 1.489673376083374\n",
      "61 1.4829223155975342\n",
      "62 1.4762017726898193\n",
      "63 1.4695110321044922\n",
      "64 1.462850570678711\n",
      "65 1.4562203884124756\n",
      "66 1.4496201276779175\n",
      "67 1.4430502653121948\n",
      "68 1.436510682106018\n",
      "69 1.4300013780593872\n",
      "70 1.4235224723815918\n",
      "71 1.4170736074447632\n",
      "72 1.4106550216674805\n",
      "73 1.4042669534683228\n",
      "74 1.3979086875915527\n",
      "75 1.3915810585021973\n",
      "76 1.385283350944519\n",
      "77 1.3790160417556763\n",
      "78 1.3727790117263794\n",
      "79 1.3665717840194702\n",
      "80 1.360394835472107\n",
      "81 1.354247808456421\n",
      "82 1.3481310606002808\n",
      "83 1.3420442342758179\n",
      "84 1.3359872102737427\n",
      "85 1.3299602270126343\n",
      "86 1.3239631652832031\n",
      "87 1.3179957866668701\n",
      "88 1.3120583295822144\n",
      "89 1.3061504364013672\n",
      "90 1.3002721071243286\n",
      "91 1.2944236993789673\n",
      "92 1.288604497909546\n",
      "93 1.2828149795532227\n",
      "94 1.2770545482635498\n",
      "95 1.2713236808776855\n",
      "96 1.2656220197677612\n",
      "97 1.2599493265151978\n",
      "98 1.2543059587478638\n",
      "99 1.2486915588378906\n"
     ]
    }
   ],
   "source": [
    "# 1. Определить модель\n",
    "class TwoLayersNet(nn.Module):\n",
    "    def __init__(self, nX, nH):        \n",
    "        super(TwoLayersNet, self).__init__()     \n",
    "         \n",
    "        self.conv1 = dgl.nn.GraphConv(nX, nH)\n",
    "          \n",
    "    def forward(self, g, x):                        \n",
    "        x = self.conv1(g, x)\n",
    "        return x\n",
    "\n",
    "model = TwoLayersNet(1433,7)\n",
    "X=g.ndata['feat']\n",
    "y=g.ndata['label']\n",
    "#2. Определиться с функцией потерь\n",
    "criterion = nn.CrossEntropyLoss()\n",
    "\n",
    "# 3. Определяемся с методом оптимизации\n",
    "optimizer = torch.optim.Adam(model.parameters(),         \n",
    "                            lr=0.01)\n",
    "\n",
    "# 4. Процесс обучения\n",
    "for i in range(100):\n",
    "  y_pred = model(g, X)\n",
    "  loss = criterion(y_pred[train],y[train])\n",
    "  loss.backward()\n",
    "  optimizer.step()\n",
    "  optimizer.zero_grad()\n",
    "  print(f'{i} {loss.item()}')"
   ]
  },
  {
   "cell_type": "code",
   "execution_count": 58,
   "id": "xqcDbpoPrbC3",
   "metadata": {
    "id": "xqcDbpoPrbC3"
   },
   "outputs": [],
   "source": [
    "y_pred = model(g, X)\n",
    "y_class=torch.argmax(y_pred[test],axis=1)"
   ]
  },
  {
   "cell_type": "code",
   "execution_count": 59,
   "id": "El47ZVQHrhpQ",
   "metadata": {
    "colab": {
     "base_uri": "https://localhost:8080/"
    },
    "id": "El47ZVQHrhpQ",
    "outputId": "30f7c554-1287-4933-d484-4581a9627b96"
   },
   "outputs": [
    {
     "data": {
      "text/plain": [
       "0.659"
      ]
     },
     "execution_count": 59,
     "metadata": {},
     "output_type": "execute_result"
    }
   ],
   "source": [
    "accuracy_score(y[test],y_class)"
   ]
  },
  {
   "cell_type": "markdown",
   "id": "fYSKk7hVBFU6",
   "metadata": {
    "id": "fYSKk7hVBFU6"
   },
   "source": [
    "2.3. Перепишите решение задачи 2.2, используя два слоя `dgl.nn.GraphConv`."
   ]
  },
  {
   "cell_type": "code",
   "execution_count": 60,
   "id": "O0L0ei1KDknI",
   "metadata": {
    "colab": {
     "base_uri": "https://localhost:8080/"
    },
    "id": "O0L0ei1KDknI",
    "outputId": "7ccc9556-ac5d-48b1-cf33-0499423cc108"
   },
   "outputs": [
    {
     "name": "stderr",
     "output_type": "stream",
     "text": [
      "/usr/local/lib/python3.7/dist-packages/torch/autocast_mode.py:162: UserWarning: User provided device_type of 'cuda', but CUDA is not available. Disabling\n",
      "  warnings.warn('User provided device_type of \\'cuda\\', but CUDA is not available. Disabling')\n"
     ]
    },
    {
     "name": "stdout",
     "output_type": "stream",
     "text": [
      "0 1.9456390142440796\n",
      "1 1.938171625137329\n",
      "2 1.92892587184906\n",
      "3 1.9172797203063965\n",
      "4 1.9050045013427734\n",
      "5 1.8926459550857544\n",
      "6 1.8791379928588867\n",
      "7 1.8641237020492554\n",
      "8 1.8472284078598022\n",
      "9 1.8290361166000366\n",
      "10 1.8106070756912231\n",
      "11 1.7917389869689941\n",
      "12 1.771891474723816\n",
      "13 1.7509651184082031\n",
      "14 1.7289413213729858\n",
      "15 1.7058483362197876\n",
      "16 1.6817214488983154\n",
      "17 1.656624674797058\n",
      "18 1.6305785179138184\n",
      "19 1.603597640991211\n",
      "20 1.5757204294204712\n",
      "21 1.5469729900360107\n",
      "22 1.5173927545547485\n",
      "23 1.4870058298110962\n",
      "24 1.455880045890808\n",
      "25 1.4240785837173462\n",
      "26 1.3916388750076294\n",
      "27 1.3585872650146484\n",
      "28 1.325000524520874\n",
      "29 1.2909636497497559\n",
      "30 1.2565280199050903\n",
      "31 1.2217512130737305\n",
      "32 1.1867496967315674\n",
      "33 1.1515835523605347\n",
      "34 1.1163442134857178\n",
      "35 1.081117033958435\n",
      "36 1.0459786653518677\n",
      "37 1.01101553440094\n",
      "38 0.9763060212135315\n",
      "39 0.941926121711731\n",
      "40 0.9079540371894836\n",
      "41 0.8744661211967468\n",
      "42 0.8415271639823914\n",
      "43 0.8092070817947388\n",
      "44 0.7775614857673645\n",
      "45 0.7466419339179993\n",
      "46 0.7165040373802185\n",
      "47 0.6871914267539978\n",
      "48 0.6587254405021667\n",
      "49 0.6311419010162354\n",
      "50 0.6044557690620422\n",
      "51 0.5786857008934021\n",
      "52 0.5538452863693237\n",
      "53 0.5299316644668579\n",
      "54 0.5069400668144226\n",
      "55 0.4848683476448059\n",
      "56 0.46370506286621094\n",
      "57 0.4434354305267334\n",
      "58 0.42404332756996155\n",
      "59 0.4055064618587494\n",
      "60 0.38780462741851807\n",
      "61 0.37091293931007385\n",
      "62 0.3548144996166229\n",
      "63 0.3394739329814911\n",
      "64 0.3248639404773712\n",
      "65 0.3109542727470398\n",
      "66 0.29771772027015686\n",
      "67 0.28512704372406006\n",
      "68 0.2731530964374542\n",
      "69 0.2617674171924591\n",
      "70 0.25094494223594666\n",
      "71 0.24065576493740082\n",
      "72 0.23087896406650543\n",
      "73 0.2215908020734787\n",
      "74 0.2127620130777359\n",
      "75 0.20436988770961761\n",
      "76 0.1963915079832077\n",
      "77 0.1888062059879303\n",
      "78 0.1815921664237976\n",
      "79 0.17473506927490234\n",
      "80 0.16821224987506866\n",
      "81 0.16200585663318634\n",
      "82 0.15609972178936005\n",
      "83 0.15047763288021088\n",
      "84 0.14512376487255096\n",
      "85 0.14002534747123718\n",
      "86 0.13516880571842194\n",
      "87 0.13054044544696808\n",
      "88 0.12612700462341309\n",
      "89 0.12192212790250778\n",
      "90 0.1179107129573822\n",
      "91 0.1140802800655365\n",
      "92 0.11042407155036926\n",
      "93 0.10693203657865524\n",
      "94 0.10359470546245575\n",
      "95 0.10040397942066193\n",
      "96 0.09735222905874252\n",
      "97 0.09443262219429016\n",
      "98 0.09163978695869446\n",
      "99 0.08896617591381073\n"
     ]
    }
   ],
   "source": [
    "# 1. Определить модель\n",
    "class TwoLayersNet(nn.Module):\n",
    "    def __init__(self, nX, nH, nY):        \n",
    "        super(TwoLayersNet, self).__init__()     \n",
    "         \n",
    "        self.conv1 = dgl.nn.GraphConv(nX, nH)\n",
    "        self.conv2 = dgl.nn.GraphConv(nH, nY)             \n",
    "          \n",
    "    def forward(self, g, x):                        \n",
    "        x = self.conv1(g, x)\n",
    "        x = nn.ReLU()(x)                     \n",
    "        x = self.conv2(g, x)                  \n",
    "        return x\n",
    "\n",
    "model = TwoLayersNet(1433,16,7)\n",
    "X=g.ndata['feat']\n",
    "y=g.ndata['label']\n",
    "#2. Определиться с функцией потерь\n",
    "criterion = nn.CrossEntropyLoss()\n",
    "\n",
    "# 3. Определяемся с методом оптимизации\n",
    "optimizer = torch.optim.Adam(model.parameters(),         \n",
    "                            lr=0.01)\n",
    "\n",
    "# 4. Процесс обучения\n",
    "for i in range(100):\n",
    "  y_pred = model(g, X)\n",
    "  loss = criterion(y_pred[train],y[train])\n",
    "  loss.backward()\n",
    "  optimizer.step()\n",
    "  optimizer.zero_grad()\n",
    "  print(f'{i} {loss.item()}')"
   ]
  },
  {
   "cell_type": "code",
   "execution_count": 61,
   "id": "qlW0gz4grwb7",
   "metadata": {
    "id": "qlW0gz4grwb7"
   },
   "outputs": [],
   "source": [
    "y_pred = model(g, X)\n",
    "y_class=torch.argmax(y_pred[test],axis=1)"
   ]
  },
  {
   "cell_type": "code",
   "execution_count": 62,
   "id": "G4wSvtsrrzf-",
   "metadata": {
    "colab": {
     "base_uri": "https://localhost:8080/"
    },
    "id": "G4wSvtsrrzf-",
    "outputId": "6d929d5e-73e5-4338-bdf4-d5c857687e7e"
   },
   "outputs": [
    {
     "data": {
      "text/plain": [
       "0.771"
      ]
     },
     "execution_count": 62,
     "metadata": {},
     "output_type": "execute_result"
    }
   ],
   "source": [
    "accuracy_score(y[test],y_class)"
   ]
  }
 ],
 "metadata": {
  "colab": {
   "collapsed_sections": [],
   "name": "07_gnn_Фамилия_Имя_Группа.ipynb",
   "provenance": []
  },
  "kernelspec": {
   "display_name": "Python 3 (ipykernel)",
   "language": "python",
   "name": "python3"
  },
  "language_info": {
   "codemirror_mode": {
    "name": "ipython",
    "version": 3
   },
   "file_extension": ".py",
   "mimetype": "text/x-python",
   "name": "python",
   "nbconvert_exporter": "python",
   "pygments_lexer": "ipython3",
   "version": "3.11.4"
  }
 },
 "nbformat": 4,
 "nbformat_minor": 5
}
