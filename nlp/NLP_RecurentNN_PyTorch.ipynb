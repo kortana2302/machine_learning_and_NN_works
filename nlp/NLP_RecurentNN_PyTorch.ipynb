{
 "cells": [
  {
   "cell_type": "code",
   "execution_count": 1,
   "metadata": {
    "colab": {
     "base_uri": "https://localhost:8080/"
    },
    "executionInfo": {
     "elapsed": 5669,
     "status": "ok",
     "timestamp": 1619632510103,
     "user": {
      "displayName": "Никита Блохин",
      "photoUrl": "",
      "userId": "16402972581398673009"
     },
     "user_tz": -180
    },
    "id": "zKMq7dp2W15Y",
    "outputId": "ce2273c5-6a96-4216-9d88-fbee51bf5ff0"
   },
   "outputs": [
    {
     "name": "stderr",
     "output_type": "stream",
     "text": [
      "[nltk_data] Downloading package punkt to\n",
      "[nltk_data]     C:\\Users\\79165\\AppData\\Roaming\\nltk_data...\n",
      "[nltk_data]   Package punkt is already up-to-date!\n"
     ]
    },
    {
     "data": {
      "text/plain": [
       "True"
      ]
     },
     "execution_count": 1,
     "metadata": {},
     "output_type": "execute_result"
    }
   ],
   "source": [
    "import re\n",
    "import nltk\n",
    "\n",
    "import torch\n",
    "from torch.utils.data import Dataset, DataLoader\n",
    "import torch.nn as nn\n",
    "import torch.optim as optim\n",
    "\n",
    "import pandas as pd\n",
    "from sklearn.model_selection import train_test_split\n",
    "from sklearn.metrics import accuracy_score\n",
    "from nltk.tokenize import word_tokenize\n",
    "from sklearn.preprocessing import LabelEncoder\n",
    "import torch.nn.functional as F\n",
    "import numpy as np\n",
    "nltk.download('punkt')"
   ]
  },
  {
   "cell_type": "markdown",
   "metadata": {
    "id": "Jm-QilGISxkt"
   },
   "source": [
    "## 1. Классификация фамилий (RNN)\n",
    "\n",
    "Датасет: https://disk.yandex.ru/d/frNchuaBQVLxyA?w=1"
   ]
  },
  {
   "cell_type": "markdown",
   "metadata": {
    "id": "YdPr92i6k-If"
   },
   "source": [
    "1.1 Используя класс `nn.RNNCell` (абстракцию для отдельного временного шага RNN), реализуйте простейшую рекуррентную сеть Элмана в виде класса `RNN`. Используя созданный класс `RNN`, решите задачу классификации фамилий. \n"
   ]
  },
  {
   "cell_type": "code",
   "execution_count": 234,
   "metadata": {
    "id": "ir6UUkl6l4tp"
   },
   "outputs": [],
   "source": [
    "class RNN(nn.Module):\n",
    "  def __init__(self, input_size, hidden_size):\n",
    "    super(RNN, self).__init__()\n",
    "    self.rnn_cell = nn.RNNCell(input_size, hidden_size)\n",
    "    self.hidden_size = hidden_size\n",
    "\n",
    "  def forward(self, x, h=None):\n",
    "    '''\n",
    "    x.shape = (batch_size, seq_len, feature_size) - тензор входных данных\n",
    "    h.shape = (batch_size, hidden_size) - тензор со скрытым состоянием RNN\n",
    "    '''\n",
    "    # инициализация тензора скрытых состояний\n",
    "    # h = ...\n",
    "    batch_size, seq_size, feat_size = x.size()\n",
    "    x = x.permute(1, 0, 2)\n",
    "    h = torch.zeros((batch_size, self.hidden_size))\n",
    "    # проход по каждому элементу последовательностей s в батче и обновление скрытого состояния\n",
    "    # h = RNNCell(s_t, h)\n",
    "    hiddens = []\n",
    "    hidden_t = h\n",
    "    for t in range(seq_size):\n",
    "        hidden_t = self.rnn_cell(x[t], hidden_t)\n",
    "        hiddens.append(hidden_t)\n",
    "        \n",
    "    hiddens = torch.stack(hiddens)\n",
    "\n",
    "    # вернуть тензор всех наблюдавшихся скрытых состояний размера (batch_size, seq_len, hidden_size) и тензор скрытых состояний в последний момент времени\n",
    "    return hiddens.permute(1, 0, 2)"
   ]
  },
  {
   "cell_type": "code",
   "execution_count": 235,
   "metadata": {},
   "outputs": [
    {
     "data": {
      "text/html": [
       "<div>\n",
       "<style scoped>\n",
       "    .dataframe tbody tr th:only-of-type {\n",
       "        vertical-align: middle;\n",
       "    }\n",
       "\n",
       "    .dataframe tbody tr th {\n",
       "        vertical-align: top;\n",
       "    }\n",
       "\n",
       "    .dataframe thead th {\n",
       "        text-align: right;\n",
       "    }\n",
       "</style>\n",
       "<table border=\"1\" class=\"dataframe\">\n",
       "  <thead>\n",
       "    <tr style=\"text-align: right;\">\n",
       "      <th></th>\n",
       "      <th>surname</th>\n",
       "      <th>nationality</th>\n",
       "    </tr>\n",
       "  </thead>\n",
       "  <tbody>\n",
       "    <tr>\n",
       "      <th>0</th>\n",
       "      <td>Woodford</td>\n",
       "      <td>English</td>\n",
       "    </tr>\n",
       "    <tr>\n",
       "      <th>1</th>\n",
       "      <td>Coté</td>\n",
       "      <td>French</td>\n",
       "    </tr>\n",
       "    <tr>\n",
       "      <th>2</th>\n",
       "      <td>Kore</td>\n",
       "      <td>English</td>\n",
       "    </tr>\n",
       "    <tr>\n",
       "      <th>3</th>\n",
       "      <td>Koury</td>\n",
       "      <td>Arabic</td>\n",
       "    </tr>\n",
       "    <tr>\n",
       "      <th>4</th>\n",
       "      <td>Lebzak</td>\n",
       "      <td>Russian</td>\n",
       "    </tr>\n",
       "  </tbody>\n",
       "</table>\n",
       "</div>"
      ],
      "text/plain": [
       "    surname nationality\n",
       "0  Woodford     English\n",
       "1      Coté      French\n",
       "2      Kore     English\n",
       "3     Koury      Arabic\n",
       "4    Lebzak     Russian"
      ]
     },
     "execution_count": 235,
     "metadata": {},
     "output_type": "execute_result"
    }
   ],
   "source": [
    "df = pd.read_csv('surnames.csv')\n",
    "df.head()"
   ]
  },
  {
   "cell_type": "code",
   "execution_count": 236,
   "metadata": {},
   "outputs": [
    {
     "data": {
      "text/plain": [
       "LabelEncoder()"
      ]
     },
     "execution_count": 236,
     "metadata": {},
     "output_type": "execute_result"
    }
   ],
   "source": [
    "le = LabelEncoder()\n",
    "le.fit(df.nationality)"
   ]
  },
  {
   "cell_type": "code",
   "execution_count": 237,
   "metadata": {},
   "outputs": [
    {
     "data": {
      "text/html": [
       "<div>\n",
       "<style scoped>\n",
       "    .dataframe tbody tr th:only-of-type {\n",
       "        vertical-align: middle;\n",
       "    }\n",
       "\n",
       "    .dataframe tbody tr th {\n",
       "        vertical-align: top;\n",
       "    }\n",
       "\n",
       "    .dataframe thead th {\n",
       "        text-align: right;\n",
       "    }\n",
       "</style>\n",
       "<table border=\"1\" class=\"dataframe\">\n",
       "  <thead>\n",
       "    <tr style=\"text-align: right;\">\n",
       "      <th></th>\n",
       "      <th>surname</th>\n",
       "      <th>nationality</th>\n",
       "      <th>coder</th>\n",
       "    </tr>\n",
       "  </thead>\n",
       "  <tbody>\n",
       "    <tr>\n",
       "      <th>0</th>\n",
       "      <td>Woodford</td>\n",
       "      <td>English</td>\n",
       "      <td>4</td>\n",
       "    </tr>\n",
       "    <tr>\n",
       "      <th>1</th>\n",
       "      <td>Coté</td>\n",
       "      <td>French</td>\n",
       "      <td>5</td>\n",
       "    </tr>\n",
       "    <tr>\n",
       "      <th>2</th>\n",
       "      <td>Kore</td>\n",
       "      <td>English</td>\n",
       "      <td>4</td>\n",
       "    </tr>\n",
       "    <tr>\n",
       "      <th>3</th>\n",
       "      <td>Koury</td>\n",
       "      <td>Arabic</td>\n",
       "      <td>0</td>\n",
       "    </tr>\n",
       "    <tr>\n",
       "      <th>4</th>\n",
       "      <td>Lebzak</td>\n",
       "      <td>Russian</td>\n",
       "      <td>14</td>\n",
       "    </tr>\n",
       "  </tbody>\n",
       "</table>\n",
       "</div>"
      ],
      "text/plain": [
       "    surname nationality  coder\n",
       "0  Woodford     English      4\n",
       "1      Coté      French      5\n",
       "2      Kore     English      4\n",
       "3     Koury      Arabic      0\n",
       "4    Lebzak     Russian     14"
      ]
     },
     "execution_count": 237,
     "metadata": {},
     "output_type": "execute_result"
    }
   ],
   "source": [
    "df['coder'] = le.fit_transform(df.nationality.values)\n",
    "df.head()"
   ]
  },
  {
   "cell_type": "code",
   "execution_count": 238,
   "metadata": {},
   "outputs": [],
   "source": [
    "class Vocab:\n",
    "  def __init__(self, data):\n",
    "    self.idx_to_token = dict()\n",
    "    self.token_to_idx = dict()\n",
    "    self.token_to_idx['<PAD>'] = 0\n",
    "    self.idx_to_token[0] = '<PAD>'\n",
    "    self.max_seq_len = 0\n",
    "    k = 1\n",
    "    for sur in data.values:\n",
    "        for w in sur.lower():\n",
    "            if w not in self.token_to_idx:\n",
    "                self.token_to_idx[w] = k\n",
    "                self.idx_to_token[k] = w\n",
    "                k+=1\n",
    "        if len(sur)>self.max_seq_len:\n",
    "                self.max_seq_len = len(sur)\n",
    "    self.vocab_len = len(self.idx_to_token)"
   ]
  },
  {
   "cell_type": "code",
   "execution_count": 239,
   "metadata": {},
   "outputs": [],
   "source": [
    "vocab = Vocab(df.surname)"
   ]
  },
  {
   "cell_type": "code",
   "execution_count": 240,
   "metadata": {},
   "outputs": [],
   "source": [
    "class SurnamesDataset(Dataset):\n",
    "  def __init__(self, X, y, vocab):\n",
    "    self.X = X\n",
    "    self.y = y\n",
    "    self.vocab = vocab\n",
    "\n",
    "  def vectorize(self, surname):\n",
    "    '''Генерирует представление фамилии surname в при помощи бинарного кодирования (см. 1.2)'''\n",
    "    surname_rep = []\n",
    "    for sur in surname:\n",
    "        rep = []\n",
    "        for w in sur.lower():\n",
    "            rep.append(self.vocab.token_to_idx[w])\n",
    "        surname_rep.append(torch.tensor(rep+[0]*(vocab.max_seq_len-len(rep))))\n",
    "    self.X_rep = torch.stack(surname_rep)\n",
    "    \n",
    "  def __len__(self):\n",
    "    return len(self.X_rep)\n",
    "\n",
    "  def __getitem__(self, idx):\n",
    "    sample = self.X_rep[idx], self.y[idx]\n",
    "    return sample"
   ]
  },
  {
   "cell_type": "code",
   "execution_count": 241,
   "metadata": {},
   "outputs": [],
   "source": [
    "dataset = SurnamesDataset(df.surname, df.coder, vocab)\n",
    "dataset.vectorize(df.surname.values)"
   ]
  },
  {
   "cell_type": "code",
   "execution_count": 242,
   "metadata": {},
   "outputs": [
    {
     "data": {
      "text/plain": [
       "(tensor([1, 2, 2, 3, 4, 2, 5, 3, 0, 0, 0, 0, 0, 0, 0, 0, 0]), 4)"
      ]
     },
     "execution_count": 242,
     "metadata": {},
     "output_type": "execute_result"
    }
   ],
   "source": [
    "z = next(iter(dataset))\n",
    "z"
   ]
  },
  {
   "cell_type": "code",
   "execution_count": 243,
   "metadata": {},
   "outputs": [],
   "source": [
    "data_train, data_test = torch.utils.data.random_split(dataset, [int(len(dataset)*0.8), len(dataset) - int(len(dataset)*0.8)], generator=torch.Generator().manual_seed(42))"
   ]
  },
  {
   "cell_type": "code",
   "execution_count": 244,
   "metadata": {},
   "outputs": [],
   "source": [
    "train_loader = DataLoader(data_train, batch_size = 50, shuffle = True)\n",
    "test_loader = DataLoader(data_test, batch_size = 50, shuffle = True)"
   ]
  },
  {
   "cell_type": "markdown",
   "metadata": {},
   "source": [
    "# Class RNN"
   ]
  },
  {
   "cell_type": "code",
   "execution_count": 114,
   "metadata": {},
   "outputs": [
    {
     "name": "stdout",
     "output_type": "stream",
     "text": [
      "epoch 0: train_loss = 2.35314575, test_loss = 2.28230382\n",
      "Точность на тестовой выборке: 0.25956284153005466\n",
      "epoch 5: train_loss = 2.18858246, test_loss = 2.06997379\n",
      "Точность на тестовой выборке: 0.3843351548269581\n",
      "epoch 10: train_loss = 1.81870160, test_loss = 1.73779374\n",
      "Точность на тестовой выборке: 0.5336976320582878\n",
      "epoch 15: train_loss = 1.54988395, test_loss = 1.50956004\n",
      "Точность на тестовой выборке: 0.5796903460837887\n",
      "epoch 20: train_loss = 1.32312245, test_loss = 1.29095601\n",
      "Точность на тестовой выборке: 0.6607468123861566\n",
      "epoch 25: train_loss = 1.21213345, test_loss = 1.19708270\n",
      "Точность на тестовой выборке: 0.6775956284153005\n",
      "epoch 30: train_loss = 1.12385827, test_loss = 1.25800855\n",
      "Точность на тестовой выборке: 0.6721311475409836\n",
      "epoch 35: train_loss = 1.07986005, test_loss = 1.23142311\n",
      "Точность на тестовой выборке: 0.6826047358834244\n",
      "epoch 40: train_loss = 0.99473292, test_loss = 1.17989263\n",
      "Точность на тестовой выборке: 0.6944444444444444\n",
      "epoch 45: train_loss = 1.02605263, test_loss = 1.18649762\n",
      "Точность на тестовой выборке: 0.6848816029143898\n",
      "epoch 50: train_loss = 0.93359842, test_loss = 1.18469796\n",
      "Точность на тестовой выборке: 0.6880692167577414\n",
      "epoch 55: train_loss = 0.88547483, test_loss = 1.26950367\n",
      "Точность на тестовой выборке: 0.6680327868852459\n",
      "epoch 60: train_loss = 0.88685151, test_loss = 1.20675854\n",
      "Точность на тестовой выборке: 0.6999089253187614\n",
      "epoch 65: train_loss = 0.84368841, test_loss = 1.19635516\n",
      "Точность на тестовой выборке: 0.6948998178506375\n",
      "epoch 70: train_loss = 0.81140065, test_loss = 1.20284555\n",
      "Точность на тестовой выборке: 0.7062841530054644\n"
     ]
    }
   ],
   "source": [
    "losses = []\n",
    "\n",
    "class Model(nn.Module):\n",
    "  def __init__(self):\n",
    "    super(Model, self).__init__()\n",
    "    self.rnn = RNN(input_size = 50, hidden_size=130)\n",
    "    self.fc1 = nn.Linear(130, 50)\n",
    "    self.fc2 = nn.Linear(50, 18)\n",
    "    self.emb = nn.Embedding(vocab.vocab_len, 50)\n",
    "    self.emb.requires_grad = True\n",
    "    \n",
    "  def forward(self, X):\n",
    "    X = self.emb(torch.LongTensor(X))\n",
    "    X = self.rnn(X)\n",
    "    X = X[:, -1, :]\n",
    "    X = nn.Tanh()(self.fc1(F.dropout(X, 0.5)))\n",
    "    y_pred = self.fc2(F.dropout(X, 0.5))\n",
    "    return y_pred\n",
    "\n",
    "model = Model()\n",
    "\n",
    "criterion = nn.CrossEntropyLoss()\n",
    "\n",
    "optimizer = torch.optim.Adam(model.parameters(), lr=0.0005)\n",
    "\n",
    "train_losses = []\n",
    "test_losses = []\n",
    "\n",
    "for i in range(91):\n",
    "    model.train()\n",
    "    losses_epoch_train = []\n",
    "    losses_epoch_test = []\n",
    "    y_pred_test = []\n",
    "    y_true_test = []\n",
    "    for x_example, y_example in train_loader:\n",
    "        y_pred = model(x_example)\n",
    "    \n",
    "        loss = criterion(y_pred, y_example.long())\n",
    "        losses_epoch_train.append(loss.item())\n",
    "        loss.backward()\n",
    "        \n",
    "        optimizer.step()\n",
    "        optimizer.zero_grad()\n",
    "        \n",
    "    for x_example, y_example in test_loader:\n",
    "        y_pred = model(x_example)\n",
    "    \n",
    "        loss = criterion(y_pred, y_example.long())\n",
    "        losses_epoch_test.append(loss.item())\n",
    "        \n",
    "        y_pred_test.extend(y_pred)\n",
    "        y_true_test.extend(y_example)\n",
    "    \n",
    "    train_losses.append(np.mean(losses_epoch_train))\n",
    "    test_losses.append(np.mean(losses_epoch_test))\n",
    "    y_pred_test = list(map(lambda x: torch.argmax(x).item(), y_pred_test))\n",
    "    y_true_test = list(map(lambda x: x.item(), y_true_test))\n",
    "    if i%5==0:\n",
    "        print(f'epoch {i}: train_loss = {np.mean(losses_epoch_train):.8f}, test_loss = {np.mean(losses_epoch_test):.8f}') \n",
    "        print('Точность на тестовой выборке:', accuracy_score(y_true_test, y_pred_test))\n",
    "        if accuracy_score(y_true_test, y_pred_test)>0.7:\n",
    "            break"
   ]
  },
  {
   "cell_type": "code",
   "execution_count": 77,
   "metadata": {},
   "outputs": [],
   "source": [
    "y_pred = []\n",
    "y_true = []\n",
    "for x,y in test_loader:\n",
    "    y_pred.extend(model(x))\n",
    "    y_true.extend(y)\n",
    "y_pred = list(map(lambda x: torch.argmax(x).item(), y_pred))\n",
    "y_true = list(map(lambda x: x.item(), y_true))"
   ]
  },
  {
   "cell_type": "code",
   "execution_count": 78,
   "metadata": {},
   "outputs": [],
   "source": [
    "from sklearn.metrics import confusion_matrix\n",
    "\n",
    "cf_matrix = confusion_matrix(y_true, y_pred)"
   ]
  },
  {
   "cell_type": "code",
   "execution_count": 79,
   "metadata": {},
   "outputs": [
    {
     "data": {
      "image/png": "[encoded data removed]",
      "text/plain": [
       "<Figure size 640x480 with 2 Axes>"
      ]
     },
     "metadata": {},
     "output_type": "display_data"
    }
   ],
   "source": [
    "import seaborn as sns\n",
    "import matplotlib.pyplot as plt\n",
    "\n",
    "ax = sns.heatmap(cf_matrix, annot=True)\n",
    "plt.show()"
   ]
  },
  {
   "cell_type": "code",
   "execution_count": 80,
   "metadata": {},
   "outputs": [
    {
     "name": "stdout",
     "output_type": "stream",
     "text": [
      "Точность на тестовой выборке: 0.7144808743169399\n"
     ]
    }
   ],
   "source": [
    "from sklearn.metrics import accuracy_score\n",
    "print('Точность на тестовой выборке:', accuracy_score(y_true, y_pred))"
   ]
  },
  {
   "cell_type": "code",
   "execution_count": 134,
   "metadata": {},
   "outputs": [],
   "source": [
    "surname = pd.Series(['dubrovskaya','akhmad'])\n",
    "dataset.vectorize(surname)"
   ]
  },
  {
   "cell_type": "code",
   "execution_count": 140,
   "metadata": {},
   "outputs": [],
   "source": [
    "y_pred = []\n",
    "for x,y in dataset:\n",
    "    y_pred.append(model(x.reshape(1,x.shape[0])))\n",
    "y_pred_p = [y.argsort() for y in y_pred]\n",
    "coder_rev = dict(zip(df.coder.values,df.nationality.values))"
   ]
  },
  {
   "cell_type": "code",
   "execution_count": 141,
   "metadata": {},
   "outputs": [
    {
     "name": "stdout",
     "output_type": "stream",
     "text": [
      "Фамилия: dubrovskaya три национальности:\n",
      "Наиболее вероятно: Russian\n",
      "Вторая вероятность: Czech\n",
      "Третья вероятность: Polish\n",
      "\n",
      "Фамилия: akhmad три национальности:\n",
      "Наиболее вероятно: Arabic\n",
      "Вторая вероятность: English\n",
      "Третья вероятность: Irish\n",
      "\n"
     ]
    }
   ],
   "source": [
    "for i in range(2):\n",
    "    y = y_pred_p[i]\n",
    "    print('Фамилия:',surname[i],'три национальности:')\n",
    "    print('Наиболее вероятно:', coder_rev[y[0][-1].item()])\n",
    "    print('Вторая вероятность:', coder_rev[y[0][-2].item()])\n",
    "    print('Третья вероятность:', coder_rev[y[0][-3].item()])\n",
    "    print(\"\")"
   ]
  },
  {
   "cell_type": "markdown",
   "metadata": {
    "id": "a2MIErKTo9aO"
   },
   "source": [
    "1.2 Замените модуль `RNN` из 1.1 на модули `nn.RNN`, `nn.LSTM` и `nn.GRU` (не забудьте указать аргумент `batch_first=True`). Сравните результаты работы."
   ]
  },
  {
   "cell_type": "code",
   "execution_count": 259,
   "metadata": {},
   "outputs": [],
   "source": [
    "dataset = SurnamesDataset(df.surname, df.coder, vocab)\n",
    "dataset.vectorize(df.surname.values)"
   ]
  },
  {
   "cell_type": "code",
   "execution_count": 260,
   "metadata": {},
   "outputs": [],
   "source": [
    "data_train, data_test = torch.utils.data.random_split(dataset, [int(len(dataset)*0.8), len(dataset) - int(len(dataset)*0.8)], generator=torch.Generator().manual_seed(42))"
   ]
  },
  {
   "cell_type": "code",
   "execution_count": 261,
   "metadata": {},
   "outputs": [],
   "source": [
    "train_loader = DataLoader(data_train, batch_size = 50, shuffle = True)\n",
    "test_loader = DataLoader(data_test, batch_size = 50, shuffle = True)"
   ]
  },
  {
   "cell_type": "markdown",
   "metadata": {},
   "source": [
    "# RNN"
   ]
  },
  {
   "cell_type": "code",
   "execution_count": 262,
   "metadata": {},
   "outputs": [
    {
     "name": "stdout",
     "output_type": "stream",
     "text": [
      "epoch 0: train_loss = 2.40998054, test_loss = 2.29774304\n",
      "Точность на тестовой выборке: 0.2563752276867031\n",
      "epoch 5: train_loss = 2.18885249, test_loss = 2.13022674\n",
      "Точность на тестовой выборке: 0.35792349726775957\n",
      "epoch 10: train_loss = 1.87835140, test_loss = 1.81283900\n",
      "Точность на тестовой выборке: 0.5095628415300546\n",
      "epoch 15: train_loss = 1.61811953, test_loss = 1.59860583\n",
      "Точность на тестовой выборке: 0.5769581056466302\n",
      "epoch 20: train_loss = 1.40230665, test_loss = 1.41740217\n",
      "Точность на тестовой выборке: 0.6265938069216758\n",
      "epoch 25: train_loss = 1.24555419, test_loss = 1.30806891\n",
      "Точность на тестовой выборке: 0.6561930783242259\n",
      "epoch 30: train_loss = 1.14602073, test_loss = 1.22093874\n",
      "Точность на тестовой выборке: 0.6826047358834244\n",
      "epoch 35: train_loss = 1.07404205, test_loss = 1.28262091\n",
      "Точность на тестовой выборке: 0.6753187613843351\n",
      "epoch 40: train_loss = 1.00448999, test_loss = 1.17063605\n",
      "Точность на тестовой выборке: 0.686247723132969\n",
      "epoch 45: train_loss = 0.96336565, test_loss = 1.15017154\n",
      "Точность на тестовой выборке: 0.692167577413479\n",
      "epoch 50: train_loss = 0.91330228, test_loss = 1.14859389\n",
      "Точность на тестовой выборке: 0.7012750455373407\n",
      "epoch 55: train_loss = 0.87183658, test_loss = 1.15323261\n",
      "Точность на тестовой выборке: 0.6989981785063752\n",
      "epoch 60: train_loss = 0.84551141, test_loss = 1.14447494\n",
      "Точность на тестовой выборке: 0.7044626593806922\n",
      "epoch 65: train_loss = 0.79619853, test_loss = 1.18344833\n",
      "Точность на тестовой выборке: 0.7030965391621129\n",
      "epoch 70: train_loss = 0.79879034, test_loss = 1.14140156\n",
      "Точность на тестовой выборке: 0.7240437158469946\n"
     ]
    }
   ],
   "source": [
    "losses = []\n",
    "\n",
    "class Model(nn.Module):\n",
    "  def __init__(self):\n",
    "    super(Model, self).__init__()\n",
    "    self.rnn = nn.RNN(input_size = 50, hidden_size=150, batch_first=True)\n",
    "    self.fc1 = nn.Linear(150, 50)\n",
    "    self.fc2 = nn.Linear(50, 18)\n",
    "    self.emb = nn.Embedding(vocab.vocab_len, 50)\n",
    "    self.emb.requires_grad = True\n",
    "    \n",
    "  def forward(self, X):\n",
    "    X = self.emb(torch.LongTensor(X))\n",
    "    X = self.rnn(X)\n",
    "    X = X[0][:, -1, :]\n",
    "    X = nn.Tanh()(self.fc1(F.dropout(X, 0.5)))\n",
    "    y_pred = self.fc2(F.dropout(X, 0.5))\n",
    "    return y_pred\n",
    "\n",
    "model = Model()\n",
    "\n",
    "criterion = nn.CrossEntropyLoss()\n",
    "\n",
    "optimizer = torch.optim.Adam(model.parameters(), lr=0.0003)\n",
    "\n",
    "train_losses = []\n",
    "test_losses = []\n",
    "\n",
    "for i in range(71):\n",
    "    model.train()\n",
    "    losses_epoch_train = []\n",
    "    losses_epoch_test = []\n",
    "    y_pred_test = []\n",
    "    y_true_test = []\n",
    "    for x_example, y_example in train_loader:\n",
    "        y_pred = model(x_example)\n",
    "    \n",
    "        loss = criterion(y_pred, y_example.long())\n",
    "        losses_epoch_train.append(loss.item())\n",
    "        loss.backward()\n",
    "        \n",
    "        optimizer.step()\n",
    "        optimizer.zero_grad()\n",
    "        \n",
    "    for x_example, y_example in test_loader:\n",
    "        y_pred = model(x_example)\n",
    "    \n",
    "        loss = criterion(y_pred, y_example.long())\n",
    "        losses_epoch_test.append(loss.item())\n",
    "        \n",
    "        y_pred_test.extend(y_pred)\n",
    "        y_true_test.extend(y_example)\n",
    "    \n",
    "    train_losses.append(np.mean(losses_epoch_train))\n",
    "    test_losses.append(np.mean(losses_epoch_test))\n",
    "    y_pred_test = list(map(lambda x: torch.argmax(x).item(), y_pred_test))\n",
    "    y_true_test = list(map(lambda x: x.item(), y_true_test))\n",
    "    if i%5==0:\n",
    "        print(f'epoch {i}: train_loss = {np.mean(losses_epoch_train):.8f}, test_loss = {np.mean(losses_epoch_test):.8f}') \n",
    "        print('Точность на тестовой выборке:', accuracy_score(y_true_test, y_pred_test))\n",
    "        if accuracy_score(y_true_test, y_pred_test)>0.71:\n",
    "            break"
   ]
  },
  {
   "cell_type": "code",
   "execution_count": 271,
   "metadata": {},
   "outputs": [],
   "source": [
    "y_pred = []\n",
    "y_true = []\n",
    "for x,y in test_loader:\n",
    "    y_pred.extend(model(x))\n",
    "    y_true.extend(y)\n",
    "y_pred = list(map(lambda x: torch.argmax(x).item(), y_pred))\n",
    "y_true = list(map(lambda x: x.item(), y_true))"
   ]
  },
  {
   "cell_type": "code",
   "execution_count": 272,
   "metadata": {},
   "outputs": [],
   "source": [
    "from sklearn.metrics import confusion_matrix\n",
    "\n",
    "cf_matrix = confusion_matrix(y_true, y_pred)"
   ]
  },
  {
   "cell_type": "code",
   "execution_count": 273,
   "metadata": {
    "scrolled": false
   },
   "outputs": [
    {
     "data": {
      "image/png": "[encoded data removed]",
      "text/plain": [
       "<Figure size 640x480 with 2 Axes>"
      ]
     },
     "metadata": {},
     "output_type": "display_data"
    }
   ],
   "source": [
    "import seaborn as sns\n",
    "import matplotlib.pyplot as plt\n",
    "\n",
    "ax = sns.heatmap(cf_matrix, annot=True)\n",
    "plt.show()"
   ]
  },
  {
   "cell_type": "code",
   "execution_count": 274,
   "metadata": {},
   "outputs": [
    {
     "name": "stdout",
     "output_type": "stream",
     "text": [
      "Точность на тестовой выборке: 0.7172131147540983\n"
     ]
    }
   ],
   "source": [
    "from sklearn.metrics import accuracy_score\n",
    "print('Точность на тестовой выборке:', accuracy_score(y_true, y_pred))"
   ]
  },
  {
   "cell_type": "markdown",
   "metadata": {},
   "source": [
    "# LSTM"
   ]
  },
  {
   "cell_type": "code",
   "execution_count": 303,
   "metadata": {},
   "outputs": [
    {
     "name": "stdout",
     "output_type": "stream",
     "text": [
      "epoch 0: train_loss = 2.36286974, test_loss = 2.20310571\n",
      "Точность на тестовой выборке: 0.30510018214936246\n",
      "epoch 5: train_loss = 1.55032020, test_loss = 1.46929058\n",
      "Точность на тестовой выборке: 0.6124772313296903\n",
      "epoch 10: train_loss = 1.15568857, test_loss = 1.14123590\n",
      "Точность на тестовой выборке: 0.6880692167577414\n",
      "epoch 15: train_loss = 0.97068036, test_loss = 1.01166115\n",
      "Точность на тестовой выборке: 0.7181238615664846\n",
      "epoch 20: train_loss = 0.85429162, test_loss = 0.98770029\n",
      "Точность на тестовой выборке: 0.7354280510018215\n",
      "epoch 25: train_loss = 0.78106372, test_loss = 0.95637966\n",
      "Точность на тестовой выборке: 0.7413479052823315\n",
      "epoch 30: train_loss = 0.70103641, test_loss = 0.98700803\n",
      "Точность на тестовой выборке: 0.7431693989071039\n",
      "epoch 35: train_loss = 0.65856435, test_loss = 0.96179886\n",
      "Точность на тестовой выборке: 0.7449908925318761\n",
      "epoch 40: train_loss = 0.57920847, test_loss = 1.00218921\n",
      "Точность на тестовой выборке: 0.7372495446265938\n"
     ]
    }
   ],
   "source": [
    "losses = []\n",
    "\n",
    "class Model(nn.Module):\n",
    "  def __init__(self):\n",
    "    super(Model, self).__init__()\n",
    "    self.rnn = nn.LSTM(input_size = 50, hidden_size=120, batch_first=True)\n",
    "    self.fc1 = nn.Linear(120, 50)\n",
    "    self.fc2 = nn.Linear(50, 18)\n",
    "    self.emb = nn.Embedding(vocab.vocab_len, 50)\n",
    "    self.emb.requires_grad = True\n",
    "    \n",
    "  def forward(self, X):\n",
    "    X = self.emb(torch.LongTensor(X))\n",
    "    X = self.rnn(X)\n",
    "    X = X[0][:, -1, :]\n",
    "    X = nn.Tanh()(self.fc1(F.dropout(X, 0.5)))\n",
    "    y_pred = self.fc2(F.dropout(X, 0.5))\n",
    "    return y_pred\n",
    "\n",
    "model = Model()\n",
    "\n",
    "criterion = nn.CrossEntropyLoss()\n",
    "\n",
    "optimizer = torch.optim.Adam(model.parameters(), lr=0.0005)\n",
    "\n",
    "train_losses = []\n",
    "test_losses = []\n",
    "\n",
    "for i in range(41):\n",
    "    model.train()\n",
    "    losses_epoch_train = []\n",
    "    losses_epoch_test = []\n",
    "    y_pred_test = []\n",
    "    y_true_test = []\n",
    "    for x_example, y_example in train_loader:\n",
    "        y_pred = model(x_example)\n",
    "    \n",
    "        loss = criterion(y_pred, y_example.long())\n",
    "        losses_epoch_train.append(loss.item())\n",
    "        loss.backward()\n",
    "        \n",
    "        optimizer.step()\n",
    "        optimizer.zero_grad()\n",
    "        \n",
    "    for x_example, y_example in test_loader:\n",
    "        y_pred = model(x_example)\n",
    "    \n",
    "        loss = criterion(y_pred, y_example.long())\n",
    "        losses_epoch_test.append(loss.item())\n",
    "        \n",
    "        y_pred_test.extend(y_pred)\n",
    "        y_true_test.extend(y_example)\n",
    "    \n",
    "    train_losses.append(np.mean(losses_epoch_train))\n",
    "    test_losses.append(np.mean(losses_epoch_test))\n",
    "    y_pred_test = list(map(lambda x: torch.argmax(x).item(), y_pred_test))\n",
    "    y_true_test = list(map(lambda x: x.item(), y_true_test))\n",
    "    if i%5==0:\n",
    "        print(f'epoch {i}: train_loss = {np.mean(losses_epoch_train):.8f}, test_loss = {np.mean(losses_epoch_test):.8f}') \n",
    "        print('Точность на тестовой выборке:', accuracy_score(y_true_test, y_pred_test))"
   ]
  },
  {
   "cell_type": "code",
   "execution_count": 304,
   "metadata": {},
   "outputs": [],
   "source": [
    "y_pred = []\n",
    "y_true = []\n",
    "for x,y in test_loader:\n",
    "    y_pred.extend(model(x))\n",
    "    y_true.extend(y)\n",
    "y_pred = list(map(lambda x: torch.argmax(x).item(), y_pred))\n",
    "y_true = list(map(lambda x: x.item(), y_true))"
   ]
  },
  {
   "cell_type": "code",
   "execution_count": 305,
   "metadata": {},
   "outputs": [],
   "source": [
    "from sklearn.metrics import confusion_matrix\n",
    "\n",
    "cf_matrix = confusion_matrix(y_true, y_pred)"
   ]
  },
  {
   "cell_type": "code",
   "execution_count": 306,
   "metadata": {
    "scrolled": false
   },
   "outputs": [
    {
     "data": {
      "image/png": "[encoded data removed]",
      "text/plain": [
       "<Figure size 640x480 with 2 Axes>"
      ]
     },
     "metadata": {},
     "output_type": "display_data"
    }
   ],
   "source": [
    "import seaborn as sns\n",
    "import matplotlib.pyplot as plt\n",
    "\n",
    "ax = sns.heatmap(cf_matrix, annot=True)\n",
    "plt.show()"
   ]
  },
  {
   "cell_type": "code",
   "execution_count": 307,
   "metadata": {},
   "outputs": [
    {
     "name": "stdout",
     "output_type": "stream",
     "text": [
      "Точность на тестовой выборке: 0.7408925318761385\n"
     ]
    }
   ],
   "source": [
    "from sklearn.metrics import accuracy_score\n",
    "print('Точность на тестовой выборке:', accuracy_score(y_true, y_pred))"
   ]
  },
  {
   "cell_type": "markdown",
   "metadata": {},
   "source": [
    "# GRU"
   ]
  },
  {
   "cell_type": "code",
   "execution_count": 308,
   "metadata": {},
   "outputs": [
    {
     "name": "stdout",
     "output_type": "stream",
     "text": [
      "epoch 0: train_loss = 2.34342134, test_loss = 2.20806741\n",
      "Точность на тестовой выборке: 0.3069216757741348\n",
      "epoch 5: train_loss = 1.32308806, test_loss = 1.30999002\n",
      "Точность на тестовой выборке: 0.6662112932604736\n",
      "epoch 10: train_loss = 1.08541748, test_loss = 1.16428209\n",
      "Точность на тестовой выборке: 0.6867030965391621\n",
      "epoch 15: train_loss = 0.92594172, test_loss = 1.06579430\n",
      "Точность на тестовой выборке: 0.7094717668488161\n",
      "epoch 20: train_loss = 0.81125193, test_loss = 0.99153734\n",
      "Точность на тестовой выборке: 0.7367941712204007\n",
      "epoch 25: train_loss = 0.73016611, test_loss = 0.97249154\n",
      "Точность на тестовой выборке: 0.7449908925318761\n",
      "epoch 30: train_loss = 0.65208777, test_loss = 1.03037647\n",
      "Точность на тестовой выборке: 0.7226775956284153\n",
      "epoch 35: train_loss = 0.59411137, test_loss = 1.03117756\n",
      "Точность на тестовой выборке: 0.7317850637522769\n",
      "epoch 40: train_loss = 0.52260941, test_loss = 1.02622584\n",
      "Точность на тестовой выборке: 0.7463570127504554\n"
     ]
    }
   ],
   "source": [
    "losses = []\n",
    "\n",
    "class Model(nn.Module):\n",
    "  def __init__(self):\n",
    "    super(Model, self).__init__()\n",
    "    self.rnn = nn.GRU(input_size = 50, hidden_size=120, batch_first=True)\n",
    "    self.fc1 = nn.Linear(120, 50)\n",
    "    self.fc2 = nn.Linear(50, 18)\n",
    "    self.emb = nn.Embedding(vocab.vocab_len, 50)\n",
    "    self.emb.requires_grad = True\n",
    "    \n",
    "  def forward(self, X):\n",
    "    X = self.emb(torch.LongTensor(X))\n",
    "    X = self.rnn(X)\n",
    "    X = X[0][:, -1, :]\n",
    "    X = nn.Tanh()(self.fc1(F.dropout(X, 0.5)))\n",
    "    y_pred = self.fc2(F.dropout(X, 0.5))\n",
    "    return y_pred\n",
    "\n",
    "model = Model()\n",
    "\n",
    "criterion = nn.CrossEntropyLoss()\n",
    "\n",
    "optimizer = torch.optim.Adam(model.parameters(), lr=0.0005)\n",
    "\n",
    "train_losses = []\n",
    "test_losses = []\n",
    "\n",
    "for i in range(41):\n",
    "    model.train()\n",
    "    losses_epoch_train = []\n",
    "    losses_epoch_test = []\n",
    "    y_pred_test = []\n",
    "    y_true_test = []\n",
    "    for x_example, y_example in train_loader:\n",
    "        y_pred = model(x_example)\n",
    "    \n",
    "        loss = criterion(y_pred, y_example.long())\n",
    "        losses_epoch_train.append(loss.item())\n",
    "        loss.backward()\n",
    "        \n",
    "        optimizer.step()\n",
    "        optimizer.zero_grad()\n",
    "        \n",
    "    for x_example, y_example in test_loader:\n",
    "        y_pred = model(x_example)\n",
    "    \n",
    "        loss = criterion(y_pred, y_example.long())\n",
    "        losses_epoch_test.append(loss.item())\n",
    "        \n",
    "        y_pred_test.extend(y_pred)\n",
    "        y_true_test.extend(y_example)\n",
    "    \n",
    "    train_losses.append(np.mean(losses_epoch_train))\n",
    "    test_losses.append(np.mean(losses_epoch_test))\n",
    "    y_pred_test = list(map(lambda x: torch.argmax(x).item(), y_pred_test))\n",
    "    y_true_test = list(map(lambda x: x.item(), y_true_test))\n",
    "    if i%5==0:\n",
    "        print(f'epoch {i}: train_loss = {np.mean(losses_epoch_train):.8f}, test_loss = {np.mean(losses_epoch_test):.8f}') \n",
    "        print('Точность на тестовой выборке:', accuracy_score(y_true_test, y_pred_test))"
   ]
  },
  {
   "cell_type": "code",
   "execution_count": 309,
   "metadata": {},
   "outputs": [],
   "source": [
    "y_pred = []\n",
    "y_true = []\n",
    "for x,y in test_loader:\n",
    "    y_pred.extend(model(x))\n",
    "    y_true.extend(y)\n",
    "y_pred = list(map(lambda x: torch.argmax(x).item(), y_pred))\n",
    "y_true = list(map(lambda x: x.item(), y_true))"
   ]
  },
  {
   "cell_type": "code",
   "execution_count": 310,
   "metadata": {},
   "outputs": [],
   "source": [
    "from sklearn.metrics import confusion_matrix\n",
    "\n",
    "cf_matrix = confusion_matrix(y_true, y_pred)"
   ]
  },
  {
   "cell_type": "code",
   "execution_count": 311,
   "metadata": {
    "scrolled": false
   },
   "outputs": [
    {
     "data": {
      "image/png": "[encoded data removed]",
      "text/plain": [
       "<Figure size 640x480 with 2 Axes>"
      ]
     },
     "metadata": {},
     "output_type": "display_data"
    }
   ],
   "source": [
    "import seaborn as sns\n",
    "import matplotlib.pyplot as plt\n",
    "\n",
    "ax = sns.heatmap(cf_matrix, annot=True)\n",
    "plt.show()"
   ]
  },
  {
   "cell_type": "code",
   "execution_count": 312,
   "metadata": {},
   "outputs": [
    {
     "name": "stdout",
     "output_type": "stream",
     "text": [
      "Точность на тестовой выборке: 0.7509107468123861\n"
     ]
    }
   ],
   "source": [
    "from sklearn.metrics import accuracy_score\n",
    "print('Точность на тестовой выборке:', accuracy_score(y_true, y_pred))"
   ]
  },
  {
   "cell_type": "markdown",
   "metadata": {
    "id": "f7kf990U9Do-"
   },
   "source": [
    "## 2. Классификация обзоров на фильмы (RNN)\n",
    "\n",
    "Датасет: https://disk.yandex.ru/d/tdinpb0nN_Dsrg\n",
    "\n",
    "2.1 Создайте набор данных на основе файлов polarity/positive_reviews.csv (положительные отзывы) и polarity/negative_reviews.csv (отрицательные отзывы). Разбейте на обучающую и тестовую выборку.\n",
    "  * токен = __слово__\n",
    "  * данные для обучения в датасете представляются в виде последовательности индексов токенов\n",
    "  * словарь создается на основе _только_ обучающей выборки. Для корректной обработки ситуаций, когда в тестовой выборке встретится токен, который не хранится в словаре, добавьте в словарь специальный токен `<UNK>`\n",
    "  * добавьте предобработку текста\n",
    "\n",
    "2.2. Обучите классификатор.\n",
    "  \n",
    "  * Для преобразования последовательности индексов в последовательность векторов используйте `nn.Embedding` \n",
    "    - подберите адекватную размерность вектора эмбеддинга: \n",
    "    - модуль `nn.Embedding` обучается\n",
    "\n",
    "  * Используйте рекуррентные слои (`nn.RNN`, `nn.LSTM`, `nn.GRU`)\n",
    "\n",
    "\n",
    "2.3 Измерить точность на тестовой выборке. Проверить работоспособность модели: придумать небольшой отзыв, прогнать его через модель и вывести номер предсказанного класса (сделать это для явно позитивного и явно негативного отзыва)\n",
    "* Целевое значение accuracy на валидации - 70+%"
   ]
  },
  {
   "cell_type": "code",
   "execution_count": 150,
   "metadata": {},
   "outputs": [
    {
     "data": {
      "text/html": [
       "<div>\n",
       "<style scoped>\n",
       "    .dataframe tbody tr th:only-of-type {\n",
       "        vertical-align: middle;\n",
       "    }\n",
       "\n",
       "    .dataframe tbody tr th {\n",
       "        vertical-align: top;\n",
       "    }\n",
       "\n",
       "    .dataframe thead th {\n",
       "        text-align: right;\n",
       "    }\n",
       "</style>\n",
       "<table border=\"1\" class=\"dataframe\">\n",
       "  <thead>\n",
       "    <tr style=\"text-align: right;\">\n",
       "      <th></th>\n",
       "      <th>review</th>\n",
       "      <th>target</th>\n",
       "    </tr>\n",
       "  </thead>\n",
       "  <tbody>\n",
       "    <tr>\n",
       "      <th>0</th>\n",
       "      <td>the rock is destined to be the 21st century's ...</td>\n",
       "      <td>0</td>\n",
       "    </tr>\n",
       "    <tr>\n",
       "      <th>1</th>\n",
       "      <td>the gorgeously elaborate continuation of \" the...</td>\n",
       "      <td>0</td>\n",
       "    </tr>\n",
       "    <tr>\n",
       "      <th>2</th>\n",
       "      <td>effective but too-tepid biopic</td>\n",
       "      <td>0</td>\n",
       "    </tr>\n",
       "    <tr>\n",
       "      <th>3</th>\n",
       "      <td>if you sometimes like to go to the movies to h...</td>\n",
       "      <td>0</td>\n",
       "    </tr>\n",
       "    <tr>\n",
       "      <th>4</th>\n",
       "      <td>emerges as something rare , an issue movie tha...</td>\n",
       "      <td>0</td>\n",
       "    </tr>\n",
       "  </tbody>\n",
       "</table>\n",
       "</div>"
      ],
      "text/plain": [
       "                                              review  target\n",
       "0  the rock is destined to be the 21st century's ...       0\n",
       "1  the gorgeously elaborate continuation of \" the...       0\n",
       "2                     effective but too-tepid biopic       0\n",
       "3  if you sometimes like to go to the movies to h...       0\n",
       "4  emerges as something rare , an issue movie tha...       0"
      ]
     },
     "execution_count": 150,
     "metadata": {},
     "output_type": "execute_result"
    }
   ],
   "source": [
    "df_positive = pd.read_table('positive_reviews.txt', header = None)\n",
    "df_positive.columns = ['review']\n",
    "df_positive['target'] = 0\n",
    "df_positive.head()"
   ]
  },
  {
   "cell_type": "code",
   "execution_count": 151,
   "metadata": {},
   "outputs": [
    {
     "data": {
      "text/html": [
       "<div>\n",
       "<style scoped>\n",
       "    .dataframe tbody tr th:only-of-type {\n",
       "        vertical-align: middle;\n",
       "    }\n",
       "\n",
       "    .dataframe tbody tr th {\n",
       "        vertical-align: top;\n",
       "    }\n",
       "\n",
       "    .dataframe thead th {\n",
       "        text-align: right;\n",
       "    }\n",
       "</style>\n",
       "<table border=\"1\" class=\"dataframe\">\n",
       "  <thead>\n",
       "    <tr style=\"text-align: right;\">\n",
       "      <th></th>\n",
       "      <th>review</th>\n",
       "      <th>target</th>\n",
       "    </tr>\n",
       "  </thead>\n",
       "  <tbody>\n",
       "    <tr>\n",
       "      <th>0</th>\n",
       "      <td>simplistic , silly and tedious .</td>\n",
       "      <td>1</td>\n",
       "    </tr>\n",
       "    <tr>\n",
       "      <th>1</th>\n",
       "      <td>it's so laddish and juvenile , only teenage bo...</td>\n",
       "      <td>1</td>\n",
       "    </tr>\n",
       "    <tr>\n",
       "      <th>2</th>\n",
       "      <td>exploitative and largely devoid of the depth o...</td>\n",
       "      <td>1</td>\n",
       "    </tr>\n",
       "    <tr>\n",
       "      <th>3</th>\n",
       "      <td>[garbus] discards the potential for pathologic...</td>\n",
       "      <td>1</td>\n",
       "    </tr>\n",
       "    <tr>\n",
       "      <th>4</th>\n",
       "      <td>a visually flashy but narratively opaque and e...</td>\n",
       "      <td>1</td>\n",
       "    </tr>\n",
       "  </tbody>\n",
       "</table>\n",
       "</div>"
      ],
      "text/plain": [
       "                                              review  target\n",
       "0                   simplistic , silly and tedious .       1\n",
       "1  it's so laddish and juvenile , only teenage bo...       1\n",
       "2  exploitative and largely devoid of the depth o...       1\n",
       "3  [garbus] discards the potential for pathologic...       1\n",
       "4  a visually flashy but narratively opaque and e...       1"
      ]
     },
     "execution_count": 151,
     "metadata": {},
     "output_type": "execute_result"
    }
   ],
   "source": [
    "df_negative = pd.read_table('negative_reviews.txt', header = None)\n",
    "df_negative.columns = ['review']\n",
    "df_negative['target'] = 1\n",
    "df_negative.head()"
   ]
  },
  {
   "cell_type": "code",
   "execution_count": 152,
   "metadata": {},
   "outputs": [
    {
     "data": {
      "text/html": [
       "<div>\n",
       "<style scoped>\n",
       "    .dataframe tbody tr th:only-of-type {\n",
       "        vertical-align: middle;\n",
       "    }\n",
       "\n",
       "    .dataframe tbody tr th {\n",
       "        vertical-align: top;\n",
       "    }\n",
       "\n",
       "    .dataframe thead th {\n",
       "        text-align: right;\n",
       "    }\n",
       "</style>\n",
       "<table border=\"1\" class=\"dataframe\">\n",
       "  <thead>\n",
       "    <tr style=\"text-align: right;\">\n",
       "      <th></th>\n",
       "      <th>review</th>\n",
       "      <th>target</th>\n",
       "    </tr>\n",
       "  </thead>\n",
       "  <tbody>\n",
       "    <tr>\n",
       "      <th>0</th>\n",
       "      <td>the whole mildly pleasant outing -- the r rati...</td>\n",
       "      <td>0</td>\n",
       "    </tr>\n",
       "    <tr>\n",
       "      <th>1</th>\n",
       "      <td>weiss and speck never make a convincing case f...</td>\n",
       "      <td>1</td>\n",
       "    </tr>\n",
       "    <tr>\n",
       "      <th>2</th>\n",
       "      <td>i was hoping that it would be sleazy and fun ,...</td>\n",
       "      <td>1</td>\n",
       "    </tr>\n",
       "    <tr>\n",
       "      <th>3</th>\n",
       "      <td>the film is filled with humorous observations ...</td>\n",
       "      <td>0</td>\n",
       "    </tr>\n",
       "    <tr>\n",
       "      <th>4</th>\n",
       "      <td>a tour de force of modern cinema .</td>\n",
       "      <td>0</td>\n",
       "    </tr>\n",
       "    <tr>\n",
       "      <th>...</th>\n",
       "      <td>...</td>\n",
       "      <td>...</td>\n",
       "    </tr>\n",
       "    <tr>\n",
       "      <th>10657</th>\n",
       "      <td>it's difficult to imagine that a more confused...</td>\n",
       "      <td>1</td>\n",
       "    </tr>\n",
       "    <tr>\n",
       "      <th>10658</th>\n",
       "      <td>costner's warm-milk persona is just as ill-fit...</td>\n",
       "      <td>1</td>\n",
       "    </tr>\n",
       "    <tr>\n",
       "      <th>10659</th>\n",
       "      <td>the furious coherence that [deniro] brings to ...</td>\n",
       "      <td>1</td>\n",
       "    </tr>\n",
       "    <tr>\n",
       "      <th>10660</th>\n",
       "      <td>disappointing in comparison to other recent wa...</td>\n",
       "      <td>1</td>\n",
       "    </tr>\n",
       "    <tr>\n",
       "      <th>10661</th>\n",
       "      <td>it has the right approach and the right openin...</td>\n",
       "      <td>1</td>\n",
       "    </tr>\n",
       "  </tbody>\n",
       "</table>\n",
       "<p>10662 rows × 2 columns</p>\n",
       "</div>"
      ],
      "text/plain": [
       "                                                  review  target\n",
       "0      the whole mildly pleasant outing -- the r rati...       0\n",
       "1      weiss and speck never make a convincing case f...       1\n",
       "2      i was hoping that it would be sleazy and fun ,...       1\n",
       "3      the film is filled with humorous observations ...       0\n",
       "4                     a tour de force of modern cinema .       0\n",
       "...                                                  ...     ...\n",
       "10657  it's difficult to imagine that a more confused...       1\n",
       "10658  costner's warm-milk persona is just as ill-fit...       1\n",
       "10659  the furious coherence that [deniro] brings to ...       1\n",
       "10660  disappointing in comparison to other recent wa...       1\n",
       "10661  it has the right approach and the right openin...       1\n",
       "\n",
       "[10662 rows x 2 columns]"
      ]
     },
     "execution_count": 152,
     "metadata": {},
     "output_type": "execute_result"
    }
   ],
   "source": [
    "df = pd.concat([df_positive, df_negative], ignore_index = True).sample(frac=1).reset_index(drop=True)\n",
    "df"
   ]
  },
  {
   "cell_type": "code",
   "execution_count": 153,
   "metadata": {},
   "outputs": [],
   "source": [
    "X_train, X_test, y_train, y_test = train_test_split(df.drop('target', axis = 1), df.target, test_size=0.2, random_state=42)"
   ]
  },
  {
   "cell_type": "code",
   "execution_count": 154,
   "metadata": {},
   "outputs": [],
   "source": [
    "import re\n",
    "def preprocess_text(text):\n",
    "    text = text.lower()\n",
    "    text = re.sub(r'[^a-zA-Z.,|?]', r' ',text)\n",
    "    return text"
   ]
  },
  {
   "cell_type": "code",
   "execution_count": 155,
   "metadata": {},
   "outputs": [],
   "source": [
    "class Vocab:\n",
    "  def __init__(self, data):\n",
    "    self.idx_to_token = dict()\n",
    "    self.token_to_idx = dict()\n",
    "    self.idx_to_token[0] = '<UNK>'\n",
    "    self.token_to_idx['<UNK>'] = 0\n",
    "    k = 1\n",
    "    self.max_len = 0\n",
    "    for sur in data.values:\n",
    "        for w in word_tokenize(preprocess_text(sur[0])):\n",
    "            if w not in self.token_to_idx:\n",
    "                self.token_to_idx[w] = k\n",
    "                self.idx_to_token[k] = w\n",
    "                k+=1\n",
    "        if len(word_tokenize(preprocess_text(sur[0])))>self.max_len:\n",
    "            self.max_len = len(word_tokenize(preprocess_text(sur[0])))+10\n",
    "    self.vocab_len = len(self.idx_to_token)\n",
    "    "
   ]
  },
  {
   "cell_type": "code",
   "execution_count": 156,
   "metadata": {},
   "outputs": [],
   "source": [
    "vocab = Vocab(X_train)"
   ]
  },
  {
   "cell_type": "code",
   "execution_count": 157,
   "metadata": {},
   "outputs": [],
   "source": [
    "class ReviewDataset(Dataset):\n",
    "  def __init__(self, X, y, vocab):\n",
    "    self.X = X\n",
    "    self.y = y\n",
    "    self.vocab = vocab\n",
    "\n",
    "  def vectorize(self, review):\n",
    "    '''Генерирует представление отзыва review при помощи бинарного кодирования (см. 1.2)'''\n",
    "    review_rep = []\n",
    "    for rev in review:\n",
    "        rep = []\n",
    "        for w in word_tokenize(preprocess_text(rev[0])):\n",
    "            if w in vocab.token_to_idx:\n",
    "                rep.append(vocab.token_to_idx[w])\n",
    "            else:\n",
    "                rep.append(0)\n",
    "        review_rep.append(torch.tensor(rep+[0]*(vocab.max_len-len(rep))))\n",
    "    self.X_rep = torch.stack(review_rep)\n",
    "    \n",
    "  def __len__(self):\n",
    "    return len(self.X_rep)\n",
    "\n",
    "  def __getitem__(self, idx):\n",
    "    sample = self.X_rep[idx], self.y.values[idx]\n",
    "    return sample"
   ]
  },
  {
   "cell_type": "code",
   "execution_count": 158,
   "metadata": {},
   "outputs": [],
   "source": [
    "data_train = ReviewDataset(X_train, y_train, vocab)\n",
    "data_train.vectorize(X_train.values)"
   ]
  },
  {
   "cell_type": "code",
   "execution_count": 159,
   "metadata": {},
   "outputs": [],
   "source": [
    "data_test = ReviewDataset(X_test, y_test, vocab)\n",
    "data_test.vectorize(X_test.values)"
   ]
  },
  {
   "cell_type": "code",
   "execution_count": 160,
   "metadata": {},
   "outputs": [],
   "source": [
    "train_loader = DataLoader(data_train, batch_size = 24, shuffle = True)\n",
    "test_loader = DataLoader(data_test, batch_size = 24, shuffle = True)"
   ]
  },
  {
   "cell_type": "code",
   "execution_count": 161,
   "metadata": {},
   "outputs": [
    {
     "data": {
      "text/plain": [
       "(tensor([ 1,  2,  3,  4,  5,  6,  7,  8,  9, 10,  3, 11, 12,  0,  0,  0,  0,  0,\n",
       "          0,  0,  0,  0,  0,  0,  0,  0,  0,  0,  0,  0,  0,  0,  0,  0,  0,  0,\n",
       "          0,  0,  0,  0,  0,  0,  0,  0,  0,  0,  0,  0,  0,  0,  0,  0,  0,  0,\n",
       "          0,  0,  0,  0,  0,  0,  0,  0,  0,  0]),\n",
       " 0)"
      ]
     },
     "execution_count": 161,
     "metadata": {},
     "output_type": "execute_result"
    }
   ],
   "source": [
    "z = next(iter(data_train))\n",
    "z"
   ]
  },
  {
   "cell_type": "code",
   "execution_count": 162,
   "metadata": {},
   "outputs": [
    {
     "data": {
      "text/plain": [
       "(tensor([   21,     0,  2269, 12127,    56,  3094,    21,   481,   972,    21,\n",
       "          6722,    12,     0,     0,     0,     0,     0,     0,     0,     0,\n",
       "             0,     0,     0,     0,     0,     0,     0,     0,     0,     0,\n",
       "             0,     0,     0,     0,     0,     0,     0,     0,     0,     0,\n",
       "             0,     0,     0,     0,     0,     0,     0,     0,     0,     0,\n",
       "             0,     0,     0,     0,     0,     0,     0,     0,     0,     0,\n",
       "             0,     0,     0,     0]),\n",
       " 1)"
      ]
     },
     "execution_count": 162,
     "metadata": {},
     "output_type": "execute_result"
    }
   ],
   "source": [
    "z = next(iter(data_test))\n",
    "z"
   ]
  },
  {
   "cell_type": "markdown",
   "metadata": {},
   "source": [
    "# RNN"
   ]
  },
  {
   "cell_type": "code",
   "execution_count": 163,
   "metadata": {},
   "outputs": [
    {
     "name": "stdout",
     "output_type": "stream",
     "text": [
      "epoch 0: train_loss = 0.96048570, test_loss = 0.89480341\n",
      "Точность на тестовой выборке: 0.5035161744022504\n",
      "epoch 1: train_loss = 0.75671767, test_loss = 0.74815306\n",
      "Точность на тестовой выборке: 0.5175808720112518\n",
      "epoch 2: train_loss = 0.73360537, test_loss = 0.70470716\n",
      "Точность на тестовой выборке: 0.5307079231129864\n",
      "epoch 3: train_loss = 0.71469384, test_loss = 0.69839958\n",
      "Точность на тестовой выборке: 0.5428973277074542\n",
      "epoch 4: train_loss = 0.70110209, test_loss = 0.70251957\n",
      "Точность на тестовой выборке: 0.5532114392873887\n",
      "epoch 5: train_loss = 0.67617850, test_loss = 0.70241682\n",
      "Точность на тестовой выборке: 0.5480543834974215\n",
      "epoch 6: train_loss = 0.66465380, test_loss = 0.66176479\n",
      "Точность на тестовой выборке: 0.5977496483825597\n",
      "epoch 7: train_loss = 0.62513032, test_loss = 0.65238281\n",
      "Точность на тестовой выборке: 0.6315049226441631\n",
      "epoch 8: train_loss = 0.60803106, test_loss = 0.65827893\n",
      "Точность на тестовой выборке: 0.6469760900140648\n",
      "epoch 9: train_loss = 0.56827882, test_loss = 0.65059322\n",
      "Точность на тестовой выборке: 0.6544772620721988\n",
      "epoch 10: train_loss = 0.52341437, test_loss = 0.66300569\n",
      "Точность на тестовой выборке: 0.6572902015939991\n",
      "epoch 11: train_loss = 0.48616792, test_loss = 0.63285650\n",
      "Точность на тестовой выборке: 0.6882325363338021\n",
      "epoch 12: train_loss = 0.45252914, test_loss = 0.62450447\n",
      "Точность на тестовой выборке: 0.7041725269573371\n",
      "epoch 13: train_loss = 0.40190474, test_loss = 0.66073378\n",
      "Точность на тестовой выборке: 0.7032348804500703\n",
      "epoch 14: train_loss = 0.36767558, test_loss = 0.65355814\n",
      "Точность на тестовой выборке: 0.7187060478199718\n"
     ]
    }
   ],
   "source": [
    "losses = []\n",
    "\n",
    "class Model(nn.Module):\n",
    "  def __init__(self):\n",
    "    super(Model, self).__init__()\n",
    "    self.rnn = nn.RNN(input_size = 30, hidden_size=35, batch_first=True, num_layers = 2, dropout = 0.5)\n",
    "    self.fc1 = nn.Linear(35, 2)\n",
    "    self.emb = nn.Embedding(vocab.vocab_len, 30)\n",
    "    \n",
    "  def forward(self, X):\n",
    "    X = self.emb(torch.LongTensor(X))\n",
    "    X = self.rnn(X)\n",
    "    X = torch.sum(X[0], dim=1)\n",
    "    y_pred = self.fc1(X)\n",
    "    return y_pred\n",
    "\n",
    "model = Model()\n",
    "\n",
    "criterion = nn.CrossEntropyLoss()\n",
    "\n",
    "optimizer = torch.optim.Adam(model.parameters(), lr = 0.0005)\n",
    "\n",
    "train_losses = []\n",
    "test_losses = []\n",
    "\n",
    "for i in range(15):\n",
    "    model.train()\n",
    "    losses_epoch_train = []\n",
    "    losses_epoch_test = []\n",
    "    y_pred_test = []\n",
    "    y_true_test = []\n",
    "    for x_example, y_example in train_loader:\n",
    "        y_pred = model(x_example)\n",
    "    \n",
    "        loss = criterion(y_pred, y_example.long())\n",
    "        losses_epoch_train.append(loss.item())\n",
    "        loss.backward()\n",
    "        \n",
    "        optimizer.step()\n",
    "        optimizer.zero_grad()\n",
    "        \n",
    "    for x_example, y_example in test_loader:\n",
    "        y_pred = model(x_example)\n",
    "    \n",
    "        loss = criterion(y_pred, y_example.long())\n",
    "        losses_epoch_test.append(loss.item())\n",
    "        \n",
    "        y_pred_test.extend(y_pred)\n",
    "        y_true_test.extend(y_example)\n",
    "    \n",
    "    train_losses.append(np.mean(losses_epoch_train))\n",
    "    test_losses.append(np.mean(losses_epoch_test))\n",
    "    y_pred_test = list(map(lambda x: torch.argmax(x).item(), y_pred_test))\n",
    "    y_true_test = list(map(lambda x: x.item(), y_true_test))\n",
    "    print(f'epoch {i}: train_loss = {np.mean(losses_epoch_train):.8f}, test_loss = {np.mean(losses_epoch_test):.8f}') \n",
    "    print('Точность на тестовой выборке:', accuracy_score(y_true_test, y_pred_test))"
   ]
  },
  {
   "cell_type": "code",
   "execution_count": 169,
   "metadata": {},
   "outputs": [],
   "source": [
    "surname = pd.Series([['a thoughtful and perfect love story. i love it'],['it was boring and just awful! I do not advise anyone to watch this movie']])\n",
    "data_test.vectorize(surname)"
   ]
  },
  {
   "cell_type": "code",
   "execution_count": 170,
   "metadata": {},
   "outputs": [],
   "source": [
    "y_pred = []\n",
    "for x,y in data_test:\n",
    "    y_pred.append(model(x.reshape(1,x.shape[0])))"
   ]
  },
  {
   "cell_type": "code",
   "execution_count": 171,
   "metadata": {},
   "outputs": [
    {
     "name": "stdout",
     "output_type": "stream",
     "text": [
      "Отзыв: ['a thoughtful and perfect love story. i love it']\n",
      "С вероятностью  0.8833206295967102 положительный отзыв\n",
      "Отзыв: ['it was boring and just awful! I do not advise anyone to watch this movie']\n",
      "С вероятностью  0.960119366645813 отрицательный отзыв\n"
     ]
    }
   ],
   "source": [
    "for i in range(2):\n",
    "    y = y_pred[i]\n",
    "    print('Отзыв:',surname[i])\n",
    "    if y.argmax()==1:\n",
    "        print('С вероятностью ', max(nn.Softmax(dim = 0)(y.float()[0])).item(), 'отрицательный отзыв')\n",
    "    else:\n",
    "        print('С вероятностью ', max(nn.Softmax(dim = 0)(y.float()[0])).item(), 'положительный отзыв')"
   ]
  },
  {
   "cell_type": "markdown",
   "metadata": {},
   "source": [
    "# LSTM"
   ]
  },
  {
   "cell_type": "code",
   "execution_count": 172,
   "metadata": {},
   "outputs": [],
   "source": [
    "data_train = ReviewDataset(X_train, y_train, vocab)\n",
    "data_train.vectorize(X_train.values)"
   ]
  },
  {
   "cell_type": "code",
   "execution_count": 173,
   "metadata": {},
   "outputs": [],
   "source": [
    "data_test = ReviewDataset(X_test, y_test, vocab)\n",
    "data_test.vectorize(X_test.values)"
   ]
  },
  {
   "cell_type": "code",
   "execution_count": 174,
   "metadata": {},
   "outputs": [],
   "source": [
    "train_loader = DataLoader(data_train, batch_size = 24, shuffle = True)\n",
    "test_loader = DataLoader(data_test, batch_size = 24, shuffle = True)"
   ]
  },
  {
   "cell_type": "code",
   "execution_count": 176,
   "metadata": {},
   "outputs": [
    {
     "name": "stdout",
     "output_type": "stream",
     "text": [
      "epoch 0: train_loss = 0.81113532, test_loss = 0.69254009\n",
      "Точность на тестовой выборке: 0.5433661509610876\n",
      "epoch 1: train_loss = 0.69001862, test_loss = 0.68332348\n",
      "Точность на тестовой выборке: 0.5564932020628223\n",
      "epoch 2: train_loss = 0.67258851, test_loss = 0.66915452\n",
      "Точность на тестовой выборке: 0.5925925925925926\n",
      "epoch 3: train_loss = 0.64402151, test_loss = 0.64930208\n",
      "Точность на тестовой выборке: 0.6216596343178622\n",
      "epoch 4: train_loss = 0.60708175, test_loss = 0.64710461\n",
      "Точность на тестовой выборке: 0.6413502109704642\n",
      "epoch 5: train_loss = 0.56954438, test_loss = 0.64456148\n",
      "Точность на тестовой выборке: 0.6568213783403657\n",
      "epoch 6: train_loss = 0.51602862, test_loss = 0.64039963\n",
      "Точность на тестовой выборке: 0.6704172526957337\n",
      "epoch 7: train_loss = 0.46597960, test_loss = 0.63575472\n",
      "Точность на тестовой выборке: 0.6901078293483357\n",
      "epoch 8: train_loss = 0.41404574, test_loss = 0.64112958\n",
      "Точность на тестовой выборке: 0.6863572433192686\n",
      "epoch 9: train_loss = 0.37103494, test_loss = 0.63943261\n",
      "Точность на тестовой выборке: 0.70042194092827\n",
      "epoch 10: train_loss = 0.32759931, test_loss = 0.72731701\n",
      "Точность на тестовой выборке: 0.7069854664791374\n",
      "epoch 11: train_loss = 0.28365229, test_loss = 0.67543975\n",
      "Точность на тестовой выборке: 0.7112048757618378\n",
      "epoch 12: train_loss = 0.24617159, test_loss = 0.75843291\n",
      "Точность на тестовой выборке: 0.712611345522738\n",
      "epoch 13: train_loss = 0.20776414, test_loss = 0.73243642\n",
      "Точность на тестовой выборке: 0.7130801687763713\n",
      "epoch 14: train_loss = 0.17963644, test_loss = 0.89299675\n",
      "Точность на тестовой выборке: 0.7182372245663385\n"
     ]
    }
   ],
   "source": [
    "losses = []\n",
    "\n",
    "class Model(nn.Module):\n",
    "  def __init__(self):\n",
    "    super(Model, self).__init__()\n",
    "    self.rnn = nn.LSTM(input_size = 30, hidden_size=20, batch_first=True, num_layers = 2, dropout = 0.5)\n",
    "    self.fc1 = nn.Linear(20, 2)\n",
    "    self.emb = nn.Embedding(vocab.vocab_len, 30)\n",
    "    \n",
    "  def forward(self, X):\n",
    "    X = self.emb(torch.LongTensor(X))\n",
    "    X = self.rnn(X)\n",
    "    X = torch.sum(X[0], dim=1)\n",
    "    y_pred = self.fc1(X)\n",
    "    return y_pred\n",
    "\n",
    "model = Model()\n",
    "\n",
    "criterion = nn.CrossEntropyLoss()\n",
    "\n",
    "optimizer = torch.optim.Adam(model.parameters(), lr = 0.0005)\n",
    "\n",
    "train_losses = []\n",
    "test_losses = []\n",
    "\n",
    "for i in range(15):\n",
    "    model.train()\n",
    "    losses_epoch_train = []\n",
    "    losses_epoch_test = []\n",
    "    y_pred_test = []\n",
    "    y_true_test = []\n",
    "    for x_example, y_example in train_loader:\n",
    "        y_pred = model(x_example)\n",
    "    \n",
    "        loss = criterion(y_pred, y_example.long())\n",
    "        losses_epoch_train.append(loss.item())\n",
    "        loss.backward()\n",
    "        \n",
    "        optimizer.step()\n",
    "        optimizer.zero_grad()\n",
    "        \n",
    "    for x_example, y_example in test_loader:\n",
    "        y_pred = model(x_example)\n",
    "    \n",
    "        loss = criterion(y_pred, y_example.long())\n",
    "        losses_epoch_test.append(loss.item())\n",
    "        \n",
    "        y_pred_test.extend(y_pred)\n",
    "        y_true_test.extend(y_example)\n",
    "    \n",
    "    train_losses.append(np.mean(losses_epoch_train))\n",
    "    test_losses.append(np.mean(losses_epoch_test))\n",
    "    y_pred_test = list(map(lambda x: torch.argmax(x).item(), y_pred_test))\n",
    "    y_true_test = list(map(lambda x: x.item(), y_true_test))\n",
    "    print(f'epoch {i}: train_loss = {np.mean(losses_epoch_train):.8f}, test_loss = {np.mean(losses_epoch_test):.8f}') \n",
    "    print('Точность на тестовой выборке:', accuracy_score(y_true_test, y_pred_test))"
   ]
  },
  {
   "cell_type": "code",
   "execution_count": 177,
   "metadata": {},
   "outputs": [],
   "source": [
    "surname = pd.Series([['a thoughtful and perfect love story. i love it'],['it was boring and just awful! I do not advise anyone to watch this movie']])\n",
    "data_test.vectorize(surname)"
   ]
  },
  {
   "cell_type": "code",
   "execution_count": 178,
   "metadata": {},
   "outputs": [],
   "source": [
    "y_pred = []\n",
    "for x,y in data_test:\n",
    "    y_pred.append(model(x.reshape(1,x.shape[0])))"
   ]
  },
  {
   "cell_type": "code",
   "execution_count": 179,
   "metadata": {},
   "outputs": [
    {
     "name": "stdout",
     "output_type": "stream",
     "text": [
      "Отзыв: ['a thoughtful and perfect love story. i love it']\n",
      "С вероятностью  0.995598554611206 положительный отзыв\n",
      "Отзыв: ['it was boring and just awful! I do not advise anyone to watch this movie']\n",
      "С вероятностью  0.9978995323181152 отрицательный отзыв\n"
     ]
    }
   ],
   "source": [
    "for i in range(2):\n",
    "    y = y_pred[i]\n",
    "    print('Отзыв:',surname[i])\n",
    "    if y.argmax()==1:\n",
    "        print('С вероятностью ', max(nn.Softmax(dim = 0)(y.float()[0])).item(), 'отрицательный отзыв')\n",
    "    else:\n",
    "        print('С вероятностью ', max(nn.Softmax(dim = 0)(y.float()[0])).item(), 'положительный отзыв')"
   ]
  },
  {
   "cell_type": "markdown",
   "metadata": {},
   "source": [
    "# GRU"
   ]
  },
  {
   "cell_type": "code",
   "execution_count": 180,
   "metadata": {},
   "outputs": [],
   "source": [
    "data_train = ReviewDataset(X_train, y_train, vocab)\n",
    "data_train.vectorize(X_train.values)"
   ]
  },
  {
   "cell_type": "code",
   "execution_count": 181,
   "metadata": {},
   "outputs": [],
   "source": [
    "data_test = ReviewDataset(X_test, y_test, vocab)\n",
    "data_test.vectorize(X_test.values)"
   ]
  },
  {
   "cell_type": "code",
   "execution_count": 182,
   "metadata": {},
   "outputs": [],
   "source": [
    "train_loader = DataLoader(data_train, batch_size = 24, shuffle = True)\n",
    "test_loader = DataLoader(data_test, batch_size = 24, shuffle = True)"
   ]
  },
  {
   "cell_type": "code",
   "execution_count": 195,
   "metadata": {},
   "outputs": [
    {
     "name": "stdout",
     "output_type": "stream",
     "text": [
      "epoch 0: train_loss = 1.01120869, test_loss = 0.74960507\n",
      "Точность на тестовой выборке: 0.522737927801219\n",
      "epoch 1: train_loss = 0.72243804, test_loss = 0.70409981\n",
      "Точность на тестовой выборке: 0.5372714486638537\n",
      "epoch 2: train_loss = 0.69495794, test_loss = 0.68050908\n",
      "Точность на тестовой выборке: 0.5714955461790905\n",
      "epoch 3: train_loss = 0.67928318, test_loss = 0.66982998\n",
      "Точность на тестовой выборке: 0.5855602437880919\n",
      "epoch 4: train_loss = 0.66365116, test_loss = 0.66351056\n",
      "Точность на тестовой выборке: 0.6038443506797937\n",
      "epoch 5: train_loss = 0.63497727, test_loss = 0.65873900\n",
      "Точность на тестовой выборке: 0.6216596343178622\n",
      "epoch 6: train_loss = 0.58925470, test_loss = 0.63502559\n",
      "Точность на тестовой выборке: 0.6511954992967651\n",
      "epoch 7: train_loss = 0.54216104, test_loss = 0.62724294\n",
      "Точность на тестовой выборке: 0.6704172526957337\n",
      "epoch 8: train_loss = 0.48982732, test_loss = 0.62063574\n",
      "Точность на тестовой выборке: 0.6858884200656352\n",
      "epoch 9: train_loss = 0.43794029, test_loss = 0.63401300\n",
      "Точность на тестовой выборке: 0.7027660571964369\n",
      "epoch 10: train_loss = 0.38714258, test_loss = 0.64142944\n",
      "Точность на тестовой выборке: 0.7093295827473043\n",
      "epoch 11: train_loss = 0.33619484, test_loss = 0.68796313\n",
      "Точность на тестовой выборке: 0.7172995780590717\n",
      "epoch 12: train_loss = 0.29328204, test_loss = 0.67995191\n",
      "Точность на тестовой выборке: 0.7238631036099391\n",
      "epoch 13: train_loss = 0.25036762, test_loss = 0.77279785\n",
      "Точность на тестовой выборке: 0.7168307548054383\n",
      "epoch 14: train_loss = 0.21678589, test_loss = 0.81805211\n",
      "Точность на тестовой выборке: 0.7215189873417721\n"
     ]
    }
   ],
   "source": [
    "losses = []\n",
    "\n",
    "class Model(nn.Module):\n",
    "  def __init__(self):\n",
    "    super(Model, self).__init__()\n",
    "    self.rnn = nn.GRU(input_size = 30, hidden_size=20, batch_first=True, num_layers = 2, dropout = 0.5)\n",
    "    self.fc1 = nn.Linear(20, 2)\n",
    "    self.emb = nn.Embedding(vocab.vocab_len, 30)\n",
    "    \n",
    "  def forward(self, X):\n",
    "    X = self.emb(torch.LongTensor(X))\n",
    "    X = self.rnn(X)\n",
    "    X = torch.sum(X[0], dim=1)\n",
    "    y_pred = self.fc1(X)\n",
    "    return y_pred\n",
    "\n",
    "model = Model()\n",
    "\n",
    "criterion = nn.CrossEntropyLoss()\n",
    "\n",
    "optimizer = torch.optim.Adam(model.parameters(), lr = 0.0005)\n",
    "\n",
    "train_losses = []\n",
    "test_losses = []\n",
    "\n",
    "for i in range(15):\n",
    "    model.train()\n",
    "    losses_epoch_train = []\n",
    "    losses_epoch_test = []\n",
    "    y_pred_test = []\n",
    "    y_true_test = []\n",
    "    for x_example, y_example in train_loader:\n",
    "        y_pred = model(x_example)\n",
    "    \n",
    "        loss = criterion(y_pred, y_example.long())\n",
    "        losses_epoch_train.append(loss.item())\n",
    "        loss.backward()\n",
    "        \n",
    "        optimizer.step()\n",
    "        optimizer.zero_grad()\n",
    "        \n",
    "    for x_example, y_example in test_loader:\n",
    "        y_pred = model(x_example)\n",
    "    \n",
    "        loss = criterion(y_pred, y_example.long())\n",
    "        losses_epoch_test.append(loss.item())\n",
    "        \n",
    "        y_pred_test.extend(y_pred)\n",
    "        y_true_test.extend(y_example)\n",
    "    \n",
    "    train_losses.append(np.mean(losses_epoch_train))\n",
    "    test_losses.append(np.mean(losses_epoch_test))\n",
    "    y_pred_test = list(map(lambda x: torch.argmax(x).item(), y_pred_test))\n",
    "    y_true_test = list(map(lambda x: x.item(), y_true_test))\n",
    "    print(f'epoch {i}: train_loss = {np.mean(losses_epoch_train):.8f}, test_loss = {np.mean(losses_epoch_test):.8f}') \n",
    "    print('Точность на тестовой выборке:', accuracy_score(y_true_test, y_pred_test))"
   ]
  },
  {
   "cell_type": "code",
   "execution_count": 196,
   "metadata": {},
   "outputs": [],
   "source": [
    "surname = pd.Series([['a thoughtful and perfect love story. i love it'],['it was boring and just awful! I do not advise anyone to watch this movie']])\n",
    "data_test.vectorize(surname)"
   ]
  },
  {
   "cell_type": "code",
   "execution_count": 197,
   "metadata": {},
   "outputs": [],
   "source": [
    "y_pred = []\n",
    "for x,y in data_test:\n",
    "    y_pred.append(model(x.reshape(1,x.shape[0])))"
   ]
  },
  {
   "cell_type": "code",
   "execution_count": 198,
   "metadata": {},
   "outputs": [
    {
     "name": "stdout",
     "output_type": "stream",
     "text": [
      "Отзыв: ['a thoughtful and perfect love story. i love it']\n",
      "С вероятностью  0.9996867179870605 положительный отзыв\n",
      "Отзыв: ['it was boring and just awful! I do not advise anyone to watch this movie']\n",
      "С вероятностью  0.9998295307159424 отрицательный отзыв\n"
     ]
    }
   ],
   "source": [
    "for i in range(2):\n",
    "    y = y_pred[i]\n",
    "    print('Отзыв:',surname[i])\n",
    "    if y.argmax()==1:\n",
    "        print('С вероятностью ', max(nn.Softmax(dim = 0)(y.float()[0])).item(), 'отрицательный отзыв')\n",
    "    else:\n",
    "        print('С вероятностью ', max(nn.Softmax(dim = 0)(y.float()[0])).item(), 'положительный отзыв')"
   ]
  },
  {
   "cell_type": "code",
   "execution_count": null,
   "metadata": {},
   "outputs": [],
   "source": []
  }
 ],
 "metadata": {
  "accelerator": "GPU",
  "colab": {
   "authorship_tag": "ABX9TyPopRjm9A6la5QJRG/PWjfN",
   "collapsed_sections": [],
   "name": "blank__07_rnn_1_v1.ipynb",
   "provenance": []
  },
  "kernelspec": {
   "display_name": "Python 3 (ipykernel)",
   "language": "python",
   "name": "python3"
  },
  "language_info": {
   "codemirror_mode": {
    "name": "ipython",
    "version": 3
   },
   "file_extension": ".py",
   "mimetype": "text/x-python",
   "name": "python",
   "nbconvert_exporter": "python",
   "pygments_lexer": "ipython3",
   "version": "3.11.4"
  }
 },
 "nbformat": 4,
 "nbformat_minor": 1
}
